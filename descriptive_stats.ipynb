{
  "nbformat": 4,
  "nbformat_minor": 0,
  "metadata": {
    "colab": {
      "provenance": []
    },
    "kernelspec": {
      "name": "python3",
      "display_name": "Python 3"
    },
    "language_info": {
      "name": "python"
    }
  },
  "cells": [
    {
      "cell_type": "markdown",
      "source": [
        "# Database descriptive statistics\n",
        "06/06/2022\n",
        "\n",
        "## To do\n",
        "\n",
        "- Distribution of SP length\n",
        "- Residue composition comparison against SwissProt\n",
        "- Taxonomic classification\n",
        "- Sequence logo of the SP cleavage sites\n",
        "\n",
        "***In all cases do separate graphs for the training and benchmark datasets***\n",
        "\n",
        "\n"
      ],
      "metadata": {
        "id": "axp8IrfAC2we"
      }
    },
    {
      "cell_type": "markdown",
      "source": [
        "### 1. Importing the dataset"
      ],
      "metadata": {
        "id": "PWovXobEE8Y1"
      }
    },
    {
      "cell_type": "code",
      "execution_count": 2,
      "metadata": {
        "id": "d5OwTXFeCxUn"
      },
      "outputs": [],
      "source": [
        "import pandas as pd"
      ]
    },
    {
      "cell_type": "code",
      "source": [
        "train = pd.read_csv('training_set.tsv', sep='\\t')"
      ],
      "metadata": {
        "id": "W6saQ_IjFgv5"
      },
      "execution_count": 3,
      "outputs": []
    },
    {
      "cell_type": "code",
      "source": [
        "bench = pd.read_csv('benchmark_set.tsv', sep='\\t')"
      ],
      "metadata": {
        "id": "vS5IfgZyGWj-"
      },
      "execution_count": 4,
      "outputs": []
    },
    {
      "cell_type": "code",
      "source": [
        "train"
      ],
      "metadata": {
        "colab": {
          "base_uri": "https://localhost:8080/",
          "height": 800
        },
        "id": "_W3F00UIGmZM",
        "outputId": "3eb18beb-fbaa-48eb-f8b7-fa804499e923"
      },
      "execution_count": 5,
      "outputs": [
        {
          "output_type": "execute_result",
          "data": {
            "text/plain": [
              "     UniProtKB accession                                               Taxa  \\\n",
              "0                 P61916                               Homo sapiens (Human)   \n",
              "1                 Q7M3V1   Chelonus sp. nr. curvimaculatus (Parasitic wasp)   \n",
              "2                 Q08738                            Bombyx mori (Silk moth)   \n",
              "3                 Q41350  Solanum lycopersicum (Tomato) (Lycopersicon es...   \n",
              "4                 Q86SE1  Androctonus amoreuxi (African fattail scorpion...   \n",
              "...                  ...                                                ...   \n",
              "1718              P62597                            Gallus gallus (Chicken)   \n",
              "1719              Q7K4M4                Drosophila melanogaster (Fruit fly)   \n",
              "1720              Q14146                               Homo sapiens (Human)   \n",
              "1721              B2RWS6                               Mus musculus (Mouse)   \n",
              "1722              Q9P6R0  Schizosaccharomyces pombe (strain 972 / ATCC 2...   \n",
              "\n",
              "      Kingdom  Class  Cross-validation fold  \\\n",
              "0     Metazoa     SP                      0   \n",
              "1     Metazoa     SP                      0   \n",
              "2     Metazoa     SP                      0   \n",
              "3      Plants     SP                      0   \n",
              "4     Metazoa     SP                      0   \n",
              "...       ...    ...                    ...   \n",
              "1718  Metazoa  NO_SP                      4   \n",
              "1719  Metazoa  NO_SP                      4   \n",
              "1720  Metazoa  NO_SP                      4   \n",
              "1721  Metazoa  NO_SP                      4   \n",
              "1722    Fungi  NO_SP                      4   \n",
              "\n",
              "                Sequence (first 50 N-terminal residues)  \\\n",
              "0     MRFLAATFLLLALSTAAQAEPVQFKDCGSVDGVIKEVNVSPCPTQP...   \n",
              "1     MAGKEVIFIMALFIAVESSPIFSFDDLVCPSVTSLRVNVEKNECST...   \n",
              "2     MRVFLAICLSLTVALAAETGKYTPFQYNRVYSTVSPFVYKPGRYVA...   \n",
              "3     MASSSAKILLPLSLLFTLLSLSQSTNPNFILTLVNNCPYTIWPAIQ...   \n",
              "4     MNYLVMISLALLLMIGVESVRDGYIVYPHNCVYHCIPSCDGLCKEN...   \n",
              "...                                                 ...   \n",
              "1718  MPVQVLKIIKGKPETQLPSHLQREDLKHLQTGLDHTNKYFQGIVIL...   \n",
              "1719  MSKFLDMLSGSQCVSLEKCGDVVVSTNDCMIALYCHFCRDLFTQLP...   \n",
              "1720  MAAVYSGISLKLKSKTTSWEDKLKLAHFAWISHQCFLPNKEQVLLD...   \n",
              "1721  MAENVVEPGPPSAKRPKLSSPALSASASDGTDFGSLFDLEHDLPDE...   \n",
              "1722  MGCPNCGSTTFESDTASGNTYCTQCGVVVEQDAIVSEVTFGEASTG...   \n",
              "\n",
              "                            SP cleavage-site annotation  \n",
              "0     SSSSSSSSSSSSSSSSSSSNNNNNNNNNNNNNNNNNNNNNNNNNNN...  \n",
              "1     SSSSSSSSSSSSSSSSSSSSNNNNNNNNNNNNNNNNNNNNNNNNNN...  \n",
              "2     SSSSSSSSSSSSSSSSNNNNNNNNNNNNNNNNNNNNNNNNNNNNNN...  \n",
              "3     SSSSSSSSSSSSSSSSSSSSSSSSNNNNNNNNNNNNNNNNNNNNNN...  \n",
              "4     SSSSSSSSSSSSSSSSSSSNNNNNNNNNNNNNNNNNNNNNNNNNNN...  \n",
              "...                                                 ...  \n",
              "1718  NNNNNNNNNNNNNNNNNNNNNNNNNNNNNNNNNNNNNNNNNNNNNN...  \n",
              "1719  NNNNNNNNNNNNNNNNNNNNNNNNNNNNNNNNNNNNNNNNNNNNNN...  \n",
              "1720  NNNNNNNNNNNNNNNNNNNNNNNNNNNNNNNNNNNNNNNNNNNNNN...  \n",
              "1721  NNNNNNNNNNNNNNNNNNNNNNNNNNNNNNNNNNNNNNNNNNNNNN...  \n",
              "1722  NNNNNNNNNNNNNNNNNNNNNNNNNNNNNNNNNNNNNNNNNNNNNN...  \n",
              "\n",
              "[1723 rows x 7 columns]"
            ],
            "text/html": [
              "\n",
              "  <div id=\"df-20dfea18-e10c-4ab6-b845-2163f80c9981\">\n",
              "    <div class=\"colab-df-container\">\n",
              "      <div>\n",
              "<style scoped>\n",
              "    .dataframe tbody tr th:only-of-type {\n",
              "        vertical-align: middle;\n",
              "    }\n",
              "\n",
              "    .dataframe tbody tr th {\n",
              "        vertical-align: top;\n",
              "    }\n",
              "\n",
              "    .dataframe thead th {\n",
              "        text-align: right;\n",
              "    }\n",
              "</style>\n",
              "<table border=\"1\" class=\"dataframe\">\n",
              "  <thead>\n",
              "    <tr style=\"text-align: right;\">\n",
              "      <th></th>\n",
              "      <th>UniProtKB accession</th>\n",
              "      <th>Taxa</th>\n",
              "      <th>Kingdom</th>\n",
              "      <th>Class</th>\n",
              "      <th>Cross-validation fold</th>\n",
              "      <th>Sequence (first 50 N-terminal residues)</th>\n",
              "      <th>SP cleavage-site annotation</th>\n",
              "    </tr>\n",
              "  </thead>\n",
              "  <tbody>\n",
              "    <tr>\n",
              "      <th>0</th>\n",
              "      <td>P61916</td>\n",
              "      <td>Homo sapiens (Human)</td>\n",
              "      <td>Metazoa</td>\n",
              "      <td>SP</td>\n",
              "      <td>0</td>\n",
              "      <td>MRFLAATFLLLALSTAAQAEPVQFKDCGSVDGVIKEVNVSPCPTQP...</td>\n",
              "      <td>SSSSSSSSSSSSSSSSSSSNNNNNNNNNNNNNNNNNNNNNNNNNNN...</td>\n",
              "    </tr>\n",
              "    <tr>\n",
              "      <th>1</th>\n",
              "      <td>Q7M3V1</td>\n",
              "      <td>Chelonus sp. nr. curvimaculatus (Parasitic wasp)</td>\n",
              "      <td>Metazoa</td>\n",
              "      <td>SP</td>\n",
              "      <td>0</td>\n",
              "      <td>MAGKEVIFIMALFIAVESSPIFSFDDLVCPSVTSLRVNVEKNECST...</td>\n",
              "      <td>SSSSSSSSSSSSSSSSSSSSNNNNNNNNNNNNNNNNNNNNNNNNNN...</td>\n",
              "    </tr>\n",
              "    <tr>\n",
              "      <th>2</th>\n",
              "      <td>Q08738</td>\n",
              "      <td>Bombyx mori (Silk moth)</td>\n",
              "      <td>Metazoa</td>\n",
              "      <td>SP</td>\n",
              "      <td>0</td>\n",
              "      <td>MRVFLAICLSLTVALAAETGKYTPFQYNRVYSTVSPFVYKPGRYVA...</td>\n",
              "      <td>SSSSSSSSSSSSSSSSNNNNNNNNNNNNNNNNNNNNNNNNNNNNNN...</td>\n",
              "    </tr>\n",
              "    <tr>\n",
              "      <th>3</th>\n",
              "      <td>Q41350</td>\n",
              "      <td>Solanum lycopersicum (Tomato) (Lycopersicon es...</td>\n",
              "      <td>Plants</td>\n",
              "      <td>SP</td>\n",
              "      <td>0</td>\n",
              "      <td>MASSSAKILLPLSLLFTLLSLSQSTNPNFILTLVNNCPYTIWPAIQ...</td>\n",
              "      <td>SSSSSSSSSSSSSSSSSSSSSSSSNNNNNNNNNNNNNNNNNNNNNN...</td>\n",
              "    </tr>\n",
              "    <tr>\n",
              "      <th>4</th>\n",
              "      <td>Q86SE1</td>\n",
              "      <td>Androctonus amoreuxi (African fattail scorpion...</td>\n",
              "      <td>Metazoa</td>\n",
              "      <td>SP</td>\n",
              "      <td>0</td>\n",
              "      <td>MNYLVMISLALLLMIGVESVRDGYIVYPHNCVYHCIPSCDGLCKEN...</td>\n",
              "      <td>SSSSSSSSSSSSSSSSSSSNNNNNNNNNNNNNNNNNNNNNNNNNNN...</td>\n",
              "    </tr>\n",
              "    <tr>\n",
              "      <th>...</th>\n",
              "      <td>...</td>\n",
              "      <td>...</td>\n",
              "      <td>...</td>\n",
              "      <td>...</td>\n",
              "      <td>...</td>\n",
              "      <td>...</td>\n",
              "      <td>...</td>\n",
              "    </tr>\n",
              "    <tr>\n",
              "      <th>1718</th>\n",
              "      <td>P62597</td>\n",
              "      <td>Gallus gallus (Chicken)</td>\n",
              "      <td>Metazoa</td>\n",
              "      <td>NO_SP</td>\n",
              "      <td>4</td>\n",
              "      <td>MPVQVLKIIKGKPETQLPSHLQREDLKHLQTGLDHTNKYFQGIVIL...</td>\n",
              "      <td>NNNNNNNNNNNNNNNNNNNNNNNNNNNNNNNNNNNNNNNNNNNNNN...</td>\n",
              "    </tr>\n",
              "    <tr>\n",
              "      <th>1719</th>\n",
              "      <td>Q7K4M4</td>\n",
              "      <td>Drosophila melanogaster (Fruit fly)</td>\n",
              "      <td>Metazoa</td>\n",
              "      <td>NO_SP</td>\n",
              "      <td>4</td>\n",
              "      <td>MSKFLDMLSGSQCVSLEKCGDVVVSTNDCMIALYCHFCRDLFTQLP...</td>\n",
              "      <td>NNNNNNNNNNNNNNNNNNNNNNNNNNNNNNNNNNNNNNNNNNNNNN...</td>\n",
              "    </tr>\n",
              "    <tr>\n",
              "      <th>1720</th>\n",
              "      <td>Q14146</td>\n",
              "      <td>Homo sapiens (Human)</td>\n",
              "      <td>Metazoa</td>\n",
              "      <td>NO_SP</td>\n",
              "      <td>4</td>\n",
              "      <td>MAAVYSGISLKLKSKTTSWEDKLKLAHFAWISHQCFLPNKEQVLLD...</td>\n",
              "      <td>NNNNNNNNNNNNNNNNNNNNNNNNNNNNNNNNNNNNNNNNNNNNNN...</td>\n",
              "    </tr>\n",
              "    <tr>\n",
              "      <th>1721</th>\n",
              "      <td>B2RWS6</td>\n",
              "      <td>Mus musculus (Mouse)</td>\n",
              "      <td>Metazoa</td>\n",
              "      <td>NO_SP</td>\n",
              "      <td>4</td>\n",
              "      <td>MAENVVEPGPPSAKRPKLSSPALSASASDGTDFGSLFDLEHDLPDE...</td>\n",
              "      <td>NNNNNNNNNNNNNNNNNNNNNNNNNNNNNNNNNNNNNNNNNNNNNN...</td>\n",
              "    </tr>\n",
              "    <tr>\n",
              "      <th>1722</th>\n",
              "      <td>Q9P6R0</td>\n",
              "      <td>Schizosaccharomyces pombe (strain 972 / ATCC 2...</td>\n",
              "      <td>Fungi</td>\n",
              "      <td>NO_SP</td>\n",
              "      <td>4</td>\n",
              "      <td>MGCPNCGSTTFESDTASGNTYCTQCGVVVEQDAIVSEVTFGEASTG...</td>\n",
              "      <td>NNNNNNNNNNNNNNNNNNNNNNNNNNNNNNNNNNNNNNNNNNNNNN...</td>\n",
              "    </tr>\n",
              "  </tbody>\n",
              "</table>\n",
              "<p>1723 rows × 7 columns</p>\n",
              "</div>\n",
              "      <button class=\"colab-df-convert\" onclick=\"convertToInteractive('df-20dfea18-e10c-4ab6-b845-2163f80c9981')\"\n",
              "              title=\"Convert this dataframe to an interactive table.\"\n",
              "              style=\"display:none;\">\n",
              "        \n",
              "  <svg xmlns=\"http://www.w3.org/2000/svg\" height=\"24px\"viewBox=\"0 0 24 24\"\n",
              "       width=\"24px\">\n",
              "    <path d=\"M0 0h24v24H0V0z\" fill=\"none\"/>\n",
              "    <path d=\"M18.56 5.44l.94 2.06.94-2.06 2.06-.94-2.06-.94-.94-2.06-.94 2.06-2.06.94zm-11 1L8.5 8.5l.94-2.06 2.06-.94-2.06-.94L8.5 2.5l-.94 2.06-2.06.94zm10 10l.94 2.06.94-2.06 2.06-.94-2.06-.94-.94-2.06-.94 2.06-2.06.94z\"/><path d=\"M17.41 7.96l-1.37-1.37c-.4-.4-.92-.59-1.43-.59-.52 0-1.04.2-1.43.59L10.3 9.45l-7.72 7.72c-.78.78-.78 2.05 0 2.83L4 21.41c.39.39.9.59 1.41.59.51 0 1.02-.2 1.41-.59l7.78-7.78 2.81-2.81c.8-.78.8-2.07 0-2.86zM5.41 20L4 18.59l7.72-7.72 1.47 1.35L5.41 20z\"/>\n",
              "  </svg>\n",
              "      </button>\n",
              "      \n",
              "  <style>\n",
              "    .colab-df-container {\n",
              "      display:flex;\n",
              "      flex-wrap:wrap;\n",
              "      gap: 12px;\n",
              "    }\n",
              "\n",
              "    .colab-df-convert {\n",
              "      background-color: #E8F0FE;\n",
              "      border: none;\n",
              "      border-radius: 50%;\n",
              "      cursor: pointer;\n",
              "      display: none;\n",
              "      fill: #1967D2;\n",
              "      height: 32px;\n",
              "      padding: 0 0 0 0;\n",
              "      width: 32px;\n",
              "    }\n",
              "\n",
              "    .colab-df-convert:hover {\n",
              "      background-color: #E2EBFA;\n",
              "      box-shadow: 0px 1px 2px rgba(60, 64, 67, 0.3), 0px 1px 3px 1px rgba(60, 64, 67, 0.15);\n",
              "      fill: #174EA6;\n",
              "    }\n",
              "\n",
              "    [theme=dark] .colab-df-convert {\n",
              "      background-color: #3B4455;\n",
              "      fill: #D2E3FC;\n",
              "    }\n",
              "\n",
              "    [theme=dark] .colab-df-convert:hover {\n",
              "      background-color: #434B5C;\n",
              "      box-shadow: 0px 1px 3px 1px rgba(0, 0, 0, 0.15);\n",
              "      filter: drop-shadow(0px 1px 2px rgba(0, 0, 0, 0.3));\n",
              "      fill: #FFFFFF;\n",
              "    }\n",
              "  </style>\n",
              "\n",
              "      <script>\n",
              "        const buttonEl =\n",
              "          document.querySelector('#df-20dfea18-e10c-4ab6-b845-2163f80c9981 button.colab-df-convert');\n",
              "        buttonEl.style.display =\n",
              "          google.colab.kernel.accessAllowed ? 'block' : 'none';\n",
              "\n",
              "        async function convertToInteractive(key) {\n",
              "          const element = document.querySelector('#df-20dfea18-e10c-4ab6-b845-2163f80c9981');\n",
              "          const dataTable =\n",
              "            await google.colab.kernel.invokeFunction('convertToInteractive',\n",
              "                                                     [key], {});\n",
              "          if (!dataTable) return;\n",
              "\n",
              "          const docLinkHtml = 'Like what you see? Visit the ' +\n",
              "            '<a target=\"_blank\" href=https://colab.research.google.com/notebooks/data_table.ipynb>data table notebook</a>'\n",
              "            + ' to learn more about interactive tables.';\n",
              "          element.innerHTML = '';\n",
              "          dataTable['output_type'] = 'display_data';\n",
              "          await google.colab.output.renderOutput(dataTable, element);\n",
              "          const docLink = document.createElement('div');\n",
              "          docLink.innerHTML = docLinkHtml;\n",
              "          element.appendChild(docLink);\n",
              "        }\n",
              "      </script>\n",
              "    </div>\n",
              "  </div>\n",
              "  "
            ]
          },
          "metadata": {},
          "execution_count": 5
        }
      ]
    },
    {
      "cell_type": "code",
      "source": [
        "train.shape"
      ],
      "metadata": {
        "colab": {
          "base_uri": "https://localhost:8080/"
        },
        "id": "PMm8D7eaSkXb",
        "outputId": "31672257-49e8-4e58-fba5-1d9d5993a251"
      },
      "execution_count": 6,
      "outputs": [
        {
          "output_type": "execute_result",
          "data": {
            "text/plain": [
              "(1723, 7)"
            ]
          },
          "metadata": {},
          "execution_count": 6
        }
      ]
    },
    {
      "cell_type": "markdown",
      "source": [
        "### 2. SP length distribution"
      ],
      "metadata": {
        "id": "S4c1x80SI9i5"
      }
    },
    {
      "cell_type": "markdown",
      "source": [
        "#### Train"
      ],
      "metadata": {
        "id": "7CLskVumT3pa"
      }
    },
    {
      "cell_type": "code",
      "source": [
        "train[train.Class=='SP'].shape"
      ],
      "metadata": {
        "colab": {
          "base_uri": "https://localhost:8080/"
        },
        "id": "fEdd13t8R3pg",
        "outputId": "28d14bdd-a8b1-4963-af75-fff554680142"
      },
      "execution_count": 7,
      "outputs": [
        {
          "output_type": "execute_result",
          "data": {
            "text/plain": [
              "(258, 7)"
            ]
          },
          "metadata": {},
          "execution_count": 7
        }
      ]
    },
    {
      "cell_type": "code",
      "source": [
        "train_sp = train[train.Class=='SP'].iloc[:,6]"
      ],
      "metadata": {
        "id": "W_XOQJt6H7jg"
      },
      "execution_count": 8,
      "outputs": []
    },
    {
      "cell_type": "code",
      "source": [
        "train_sp.head()"
      ],
      "metadata": {
        "colab": {
          "base_uri": "https://localhost:8080/"
        },
        "id": "gIfS16iwI5n1",
        "outputId": "0030afc6-2c57-4aef-c439-fd9a4dfff499"
      },
      "execution_count": 9,
      "outputs": [
        {
          "output_type": "execute_result",
          "data": {
            "text/plain": [
              "0    SSSSSSSSSSSSSSSSSSSNNNNNNNNNNNNNNNNNNNNNNNNNNN...\n",
              "1    SSSSSSSSSSSSSSSSSSSSNNNNNNNNNNNNNNNNNNNNNNNNNN...\n",
              "2    SSSSSSSSSSSSSSSSNNNNNNNNNNNNNNNNNNNNNNNNNNNNNN...\n",
              "3    SSSSSSSSSSSSSSSSSSSSSSSSNNNNNNNNNNNNNNNNNNNNNN...\n",
              "4    SSSSSSSSSSSSSSSSSSSNNNNNNNNNNNNNNNNNNNNNNNNNNN...\n",
              "Name: SP cleavage-site annotation, dtype: object"
            ]
          },
          "metadata": {},
          "execution_count": 9
        }
      ]
    },
    {
      "cell_type": "code",
      "source": [
        "train_sp.shape"
      ],
      "metadata": {
        "colab": {
          "base_uri": "https://localhost:8080/"
        },
        "id": "cLKf_pylK01u",
        "outputId": "caaa3f0a-2e42-4312-8618-231ca33ed860"
      },
      "execution_count": 10,
      "outputs": [
        {
          "output_type": "execute_result",
          "data": {
            "text/plain": [
              "(258,)"
            ]
          },
          "metadata": {},
          "execution_count": 10
        }
      ]
    },
    {
      "cell_type": "code",
      "source": [
        "def sp_distrib(sequences):\n",
        "  '''Counts the number of 'S' inside the Series of strings'''\n",
        "  dist = []\n",
        "  for seq in sequences:\n",
        "    #print(seq)\n",
        "    dist.append(seq.count('S'))\n",
        "    #dist.append(type(seq))\n",
        "  return dist"
      ],
      "metadata": {
        "id": "XE3ELh8dJOUb"
      },
      "execution_count": 11,
      "outputs": []
    },
    {
      "cell_type": "code",
      "source": [
        "train_dist = sp_distrib(train_sp) #Distribution list"
      ],
      "metadata": {
        "id": "7SxBRYkGKG5R"
      },
      "execution_count": 12,
      "outputs": []
    },
    {
      "cell_type": "code",
      "source": [
        "import seaborn as sb"
      ],
      "metadata": {
        "id": "0SoRGKEUKVM0"
      },
      "execution_count": 13,
      "outputs": []
    },
    {
      "cell_type": "code",
      "source": [
        "sb.histplot(train_dist, bins=8).set(title='Training data', xlabel='SP length', ylabel='Frequency') #choosing bin size to avoid empty spaces"
      ],
      "metadata": {
        "colab": {
          "base_uri": "https://localhost:8080/",
          "height": 349
        },
        "id": "AcMVdzJgOLdr",
        "outputId": "5c8c1696-fd01-4b65-a23c-fd80a28c5b78"
      },
      "execution_count": 262,
      "outputs": [
        {
          "output_type": "execute_result",
          "data": {
            "text/plain": [
              "[Text(0, 0.5, 'Frequency'),\n",
              " Text(0.5, 0, 'SP length'),\n",
              " Text(0.5, 1.0, 'Training data')]"
            ]
          },
          "metadata": {},
          "execution_count": 262
        },
        {
          "output_type": "display_data",
          "data": {
            "text/plain": [
              "<Figure size 432x288 with 1 Axes>"
            ],
            "image/png": "[encoded data removed]"
          },
          "metadata": {
            "needs_background": "light"
          }
        }
      ]
    },
    {
      "cell_type": "code",
      "source": [
        "sb.kdeplot(train_dist, shade=True)"
      ],
      "metadata": {
        "colab": {
          "base_uri": "https://localhost:8080/",
          "height": 283
        },
        "id": "5xZWqvxeZkPg",
        "outputId": "729d8bfe-8523-46b8-e0bb-b55eeb97f757"
      },
      "execution_count": 260,
      "outputs": [
        {
          "output_type": "execute_result",
          "data": {
            "text/plain": [
              "<matplotlib.axes._subplots.AxesSubplot at 0x7f4874fad350>"
            ]
          },
          "metadata": {},
          "execution_count": 260
        },
        {
          "output_type": "display_data",
          "data": {
            "text/plain": [
              "<Figure size 432x288 with 1 Axes>"
            ],
            "image/png": "[encoded data removed]"
          },
          "metadata": {
            "needs_background": "light"
          }
        }
      ]
    },
    {
      "cell_type": "markdown",
      "source": [
        "#### Benchmark"
      ],
      "metadata": {
        "id": "KeTItD8YUHqM"
      }
    },
    {
      "cell_type": "code",
      "source": [
        "bench.head()"
      ],
      "metadata": {
        "colab": {
          "base_uri": "https://localhost:8080/",
          "height": 513
        },
        "id": "GR14oOAUUv8Y",
        "outputId": "8fc44f99-9ffe-4374-97c0-9d64f13d82c4"
      },
      "execution_count": 15,
      "outputs": [
        {
          "output_type": "execute_result",
          "data": {
            "text/plain": [
              "  UniProtKB accession                                    Taxa  Kingdom  Class  \\\n",
              "0              Q8TF40                    Homo sapiens (Human)  Metazoa  NO_SP   \n",
              "1              Q1ENB6  Arabidopsis thaliana (Mouse-ear cress)   Plants  NO_SP   \n",
              "2              Q9BZS1                    Homo sapiens (Human)  Metazoa  NO_SP   \n",
              "3              F4K2A1  Arabidopsis thaliana (Mouse-ear cress)   Plants  NO_SP   \n",
              "4              Q9SZL8  Arabidopsis thaliana (Mouse-ear cress)   Plants  NO_SP   \n",
              "\n",
              "             Sequence (first 50 N-terminal residues)  \\\n",
              "0  MAPTLFQKLFSKRTGLGAPGRDARDPDCGFSWPLPEFDPSQIRLIV...   \n",
              "1  MDFTSLETTTFEEVVIALGSNVGNRMNNFKEALRLMKDYGISVTRH...   \n",
              "2  MPNPRPGKPSAPSLALGPSPGASPSWRAAPKASDLLGARGPGGTFQ...   \n",
              "3  MFAVSIVPRTTSCRLSSAFLCQLSIPLTLRLHHHYQHHQPHLPSPL...   \n",
              "4  MMDNEVLDFDIGVGVSSGGDVDDDAIDIEHHALDDDDMLDSPIMPC...   \n",
              "\n",
              "                         SP cleavage-site annotation  \n",
              "0  NNNNNNNNNNNNNNNNNNNNNNNNNNNNNNNNNNNNNNNNNNNNNN...  \n",
              "1  NNNNNNNNNNNNNNNNNNNNNNNNNNNNNNNNNNNNNNNNNNNNNN...  \n",
              "2  NNNNNNNNNNNNNNNNNNNNNNNNNNNNNNNNNNNNNNNNNNNNNN...  \n",
              "3  NNNNNNNNNNNNNNNNNNNNNNNNNNNNNNNNNNNNNNNNNNNNNN...  \n",
              "4  NNNNNNNNNNNNNNNNNNNNNNNNNNNNNNNNNNNNNNNNNNNNNN...  "
            ],
            "text/html": [
              "\n",
              "  <div id=\"df-240adca2-ee53-4f9b-aabc-17b3e5e0c7f6\">\n",
              "    <div class=\"colab-df-container\">\n",
              "      <div>\n",
              "<style scoped>\n",
              "    .dataframe tbody tr th:only-of-type {\n",
              "        vertical-align: middle;\n",
              "    }\n",
              "\n",
              "    .dataframe tbody tr th {\n",
              "        vertical-align: top;\n",
              "    }\n",
              "\n",
              "    .dataframe thead th {\n",
              "        text-align: right;\n",
              "    }\n",
              "</style>\n",
              "<table border=\"1\" class=\"dataframe\">\n",
              "  <thead>\n",
              "    <tr style=\"text-align: right;\">\n",
              "      <th></th>\n",
              "      <th>UniProtKB accession</th>\n",
              "      <th>Taxa</th>\n",
              "      <th>Kingdom</th>\n",
              "      <th>Class</th>\n",
              "      <th>Sequence (first 50 N-terminal residues)</th>\n",
              "      <th>SP cleavage-site annotation</th>\n",
              "    </tr>\n",
              "  </thead>\n",
              "  <tbody>\n",
              "    <tr>\n",
              "      <th>0</th>\n",
              "      <td>Q8TF40</td>\n",
              "      <td>Homo sapiens (Human)</td>\n",
              "      <td>Metazoa</td>\n",
              "      <td>NO_SP</td>\n",
              "      <td>MAPTLFQKLFSKRTGLGAPGRDARDPDCGFSWPLPEFDPSQIRLIV...</td>\n",
              "      <td>NNNNNNNNNNNNNNNNNNNNNNNNNNNNNNNNNNNNNNNNNNNNNN...</td>\n",
              "    </tr>\n",
              "    <tr>\n",
              "      <th>1</th>\n",
              "      <td>Q1ENB6</td>\n",
              "      <td>Arabidopsis thaliana (Mouse-ear cress)</td>\n",
              "      <td>Plants</td>\n",
              "      <td>NO_SP</td>\n",
              "      <td>MDFTSLETTTFEEVVIALGSNVGNRMNNFKEALRLMKDYGISVTRH...</td>\n",
              "      <td>NNNNNNNNNNNNNNNNNNNNNNNNNNNNNNNNNNNNNNNNNNNNNN...</td>\n",
              "    </tr>\n",
              "    <tr>\n",
              "      <th>2</th>\n",
              "      <td>Q9BZS1</td>\n",
              "      <td>Homo sapiens (Human)</td>\n",
              "      <td>Metazoa</td>\n",
              "      <td>NO_SP</td>\n",
              "      <td>MPNPRPGKPSAPSLALGPSPGASPSWRAAPKASDLLGARGPGGTFQ...</td>\n",
              "      <td>NNNNNNNNNNNNNNNNNNNNNNNNNNNNNNNNNNNNNNNNNNNNNN...</td>\n",
              "    </tr>\n",
              "    <tr>\n",
              "      <th>3</th>\n",
              "      <td>F4K2A1</td>\n",
              "      <td>Arabidopsis thaliana (Mouse-ear cress)</td>\n",
              "      <td>Plants</td>\n",
              "      <td>NO_SP</td>\n",
              "      <td>MFAVSIVPRTTSCRLSSAFLCQLSIPLTLRLHHHYQHHQPHLPSPL...</td>\n",
              "      <td>NNNNNNNNNNNNNNNNNNNNNNNNNNNNNNNNNNNNNNNNNNNNNN...</td>\n",
              "    </tr>\n",
              "    <tr>\n",
              "      <th>4</th>\n",
              "      <td>Q9SZL8</td>\n",
              "      <td>Arabidopsis thaliana (Mouse-ear cress)</td>\n",
              "      <td>Plants</td>\n",
              "      <td>NO_SP</td>\n",
              "      <td>MMDNEVLDFDIGVGVSSGGDVDDDAIDIEHHALDDDDMLDSPIMPC...</td>\n",
              "      <td>NNNNNNNNNNNNNNNNNNNNNNNNNNNNNNNNNNNNNNNNNNNNNN...</td>\n",
              "    </tr>\n",
              "  </tbody>\n",
              "</table>\n",
              "</div>\n",
              "      <button class=\"colab-df-convert\" onclick=\"convertToInteractive('df-240adca2-ee53-4f9b-aabc-17b3e5e0c7f6')\"\n",
              "              title=\"Convert this dataframe to an interactive table.\"\n",
              "              style=\"display:none;\">\n",
              "        \n",
              "  <svg xmlns=\"http://www.w3.org/2000/svg\" height=\"24px\"viewBox=\"0 0 24 24\"\n",
              "       width=\"24px\">\n",
              "    <path d=\"M0 0h24v24H0V0z\" fill=\"none\"/>\n",
              "    <path d=\"M18.56 5.44l.94 2.06.94-2.06 2.06-.94-2.06-.94-.94-2.06-.94 2.06-2.06.94zm-11 1L8.5 8.5l.94-2.06 2.06-.94-2.06-.94L8.5 2.5l-.94 2.06-2.06.94zm10 10l.94 2.06.94-2.06 2.06-.94-2.06-.94-.94-2.06-.94 2.06-2.06.94z\"/><path d=\"M17.41 7.96l-1.37-1.37c-.4-.4-.92-.59-1.43-.59-.52 0-1.04.2-1.43.59L10.3 9.45l-7.72 7.72c-.78.78-.78 2.05 0 2.83L4 21.41c.39.39.9.59 1.41.59.51 0 1.02-.2 1.41-.59l7.78-7.78 2.81-2.81c.8-.78.8-2.07 0-2.86zM5.41 20L4 18.59l7.72-7.72 1.47 1.35L5.41 20z\"/>\n",
              "  </svg>\n",
              "      </button>\n",
              "      \n",
              "  <style>\n",
              "    .colab-df-container {\n",
              "      display:flex;\n",
              "      flex-wrap:wrap;\n",
              "      gap: 12px;\n",
              "    }\n",
              "\n",
              "    .colab-df-convert {\n",
              "      background-color: #E8F0FE;\n",
              "      border: none;\n",
              "      border-radius: 50%;\n",
              "      cursor: pointer;\n",
              "      display: none;\n",
              "      fill: #1967D2;\n",
              "      height: 32px;\n",
              "      padding: 0 0 0 0;\n",
              "      width: 32px;\n",
              "    }\n",
              "\n",
              "    .colab-df-convert:hover {\n",
              "      background-color: #E2EBFA;\n",
              "      box-shadow: 0px 1px 2px rgba(60, 64, 67, 0.3), 0px 1px 3px 1px rgba(60, 64, 67, 0.15);\n",
              "      fill: #174EA6;\n",
              "    }\n",
              "\n",
              "    [theme=dark] .colab-df-convert {\n",
              "      background-color: #3B4455;\n",
              "      fill: #D2E3FC;\n",
              "    }\n",
              "\n",
              "    [theme=dark] .colab-df-convert:hover {\n",
              "      background-color: #434B5C;\n",
              "      box-shadow: 0px 1px 3px 1px rgba(0, 0, 0, 0.15);\n",
              "      filter: drop-shadow(0px 1px 2px rgba(0, 0, 0, 0.3));\n",
              "      fill: #FFFFFF;\n",
              "    }\n",
              "  </style>\n",
              "\n",
              "      <script>\n",
              "        const buttonEl =\n",
              "          document.querySelector('#df-240adca2-ee53-4f9b-aabc-17b3e5e0c7f6 button.colab-df-convert');\n",
              "        buttonEl.style.display =\n",
              "          google.colab.kernel.accessAllowed ? 'block' : 'none';\n",
              "\n",
              "        async function convertToInteractive(key) {\n",
              "          const element = document.querySelector('#df-240adca2-ee53-4f9b-aabc-17b3e5e0c7f6');\n",
              "          const dataTable =\n",
              "            await google.colab.kernel.invokeFunction('convertToInteractive',\n",
              "                                                     [key], {});\n",
              "          if (!dataTable) return;\n",
              "\n",
              "          const docLinkHtml = 'Like what you see? Visit the ' +\n",
              "            '<a target=\"_blank\" href=https://colab.research.google.com/notebooks/data_table.ipynb>data table notebook</a>'\n",
              "            + ' to learn more about interactive tables.';\n",
              "          element.innerHTML = '';\n",
              "          dataTable['output_type'] = 'display_data';\n",
              "          await google.colab.output.renderOutput(dataTable, element);\n",
              "          const docLink = document.createElement('div');\n",
              "          docLink.innerHTML = docLinkHtml;\n",
              "          element.appendChild(docLink);\n",
              "        }\n",
              "      </script>\n",
              "    </div>\n",
              "  </div>\n",
              "  "
            ]
          },
          "metadata": {},
          "execution_count": 15
        }
      ]
    },
    {
      "cell_type": "code",
      "source": [
        "bench[bench.Class=='SP'].shape"
      ],
      "metadata": {
        "colab": {
          "base_uri": "https://localhost:8080/"
        },
        "id": "uDdSQIV0OsJF",
        "outputId": "da792c65-8d5f-413c-d437-1e1cd4ded866"
      },
      "execution_count": 16,
      "outputs": [
        {
          "output_type": "execute_result",
          "data": {
            "text/plain": [
              "(209, 6)"
            ]
          },
          "metadata": {},
          "execution_count": 16
        }
      ]
    },
    {
      "cell_type": "code",
      "source": [
        "bench_sp = bench[bench.Class=='SP'].iloc[:,5]"
      ],
      "metadata": {
        "id": "qF7SXi6rUa0R"
      },
      "execution_count": 17,
      "outputs": []
    },
    {
      "cell_type": "code",
      "source": [
        "bench_sp.head()"
      ],
      "metadata": {
        "colab": {
          "base_uri": "https://localhost:8080/"
        },
        "id": "aoxrKtaqUfYA",
        "outputId": "8eebd317-edcc-4e45-fcae-e84e15ff8d6c"
      },
      "execution_count": 18,
      "outputs": [
        {
          "output_type": "execute_result",
          "data": {
            "text/plain": [
              "6929    SSSSSSSSSSSSSSSSSSSSNNNNNNNNNNNNNNNNNNNNNNNNNN...\n",
              "6930    SSSSSSSSSSSSSSSSNNNNNNNNNNNNNNNNNNNNNNNNNNNNNN...\n",
              "6931    SSSSSSSSSSSSSSSSSSSSSSSSSSSSSSSNNNNNNNNNNNNNNN...\n",
              "6932    SSSSSSSSSSSSSSSSSSSSSSSSSSSSSNNNNNNNNNNNNNNNNN...\n",
              "6933    SSSSSSSSSSSSSSSSSSSSNNNNNNNNNNNNNNNNNNNNNNNNNN...\n",
              "Name: SP cleavage-site annotation, dtype: object"
            ]
          },
          "metadata": {},
          "execution_count": 18
        }
      ]
    },
    {
      "cell_type": "code",
      "source": [
        "bench_sp.shape"
      ],
      "metadata": {
        "colab": {
          "base_uri": "https://localhost:8080/"
        },
        "id": "mAUBcHgVVFS6",
        "outputId": "241da927-b907-4500-d30c-27b603f405b3"
      },
      "execution_count": 19,
      "outputs": [
        {
          "output_type": "execute_result",
          "data": {
            "text/plain": [
              "(209,)"
            ]
          },
          "metadata": {},
          "execution_count": 19
        }
      ]
    },
    {
      "cell_type": "code",
      "source": [
        "bench_dist = sp_distrib(bench_sp) #Distribution list"
      ],
      "metadata": {
        "id": "jhKNLHgzVKcL"
      },
      "execution_count": 20,
      "outputs": []
    },
    {
      "cell_type": "code",
      "source": [
        "sb.histplot(bench_dist, bins=8).set(xlabel='SP count', title='Benchmark')"
      ],
      "metadata": {
        "colab": {
          "base_uri": "https://localhost:8080/",
          "height": 313
        },
        "id": "KbjkmByqVT8_",
        "outputId": "4ee20345-38e2-4cc9-9a2b-a62f98e8617f"
      },
      "execution_count": 261,
      "outputs": [
        {
          "output_type": "execute_result",
          "data": {
            "text/plain": [
              "[Text(0.5, 0, 'SP count'), Text(0.5, 1.0, 'Benchmark')]"
            ]
          },
          "metadata": {},
          "execution_count": 261
        },
        {
          "output_type": "display_data",
          "data": {
            "text/plain": [
              "<Figure size 432x288 with 1 Axes>"
            ],
            "image/png": "[encoded data removed]"
          },
          "metadata": {
            "needs_background": "light"
          }
        }
      ]
    },
    {
      "cell_type": "markdown",
      "source": [
        "Now, I create a dataframe for training and benchmark data in order to easily make the superpositioned density distribution graph. "
      ],
      "metadata": {
        "id": "bO4CJ08GctL9"
      }
    },
    {
      "cell_type": "code",
      "source": [
        "dist_df_train = pd.DataFrame({'counts':train_dist})\n",
        "dist_df_train['dataset'] = 'training data'"
      ],
      "metadata": {
        "id": "9HyzLYqYczgl"
      },
      "execution_count": 281,
      "outputs": []
    },
    {
      "cell_type": "code",
      "source": [
        "dist_df_bench = pd.DataFrame({'counts':bench_dist})\n",
        "dist_df_bench['dataset'] = 'benchmark data'"
      ],
      "metadata": {
        "id": "FBJgh-tzeYIu"
      },
      "execution_count": 282,
      "outputs": []
    },
    {
      "cell_type": "code",
      "source": [
        "dist_df = pd.concat([dist_df_train, dist_df_bench], ignore_index=True)"
      ],
      "metadata": {
        "id": "rtc9W9pSegPe"
      },
      "execution_count": 285,
      "outputs": []
    },
    {
      "cell_type": "code",
      "source": [
        "dist_df"
      ],
      "metadata": {
        "colab": {
          "base_uri": "https://localhost:8080/",
          "height": 424
        },
        "id": "g4mv_PfRe_ll",
        "outputId": "676578ac-3fe7-4756-9e0a-4054a936b8e8"
      },
      "execution_count": 286,
      "outputs": [
        {
          "output_type": "execute_result",
          "data": {
            "text/plain": [
              "     counts         dataset\n",
              "0        19   training data\n",
              "1        20   training data\n",
              "2        16   training data\n",
              "3        24   training data\n",
              "4        19   training data\n",
              "..      ...             ...\n",
              "462      22  benchmark data\n",
              "463      26  benchmark data\n",
              "464      22  benchmark data\n",
              "465      21  benchmark data\n",
              "466      20  benchmark data\n",
              "\n",
              "[467 rows x 2 columns]"
            ],
            "text/html": [
              "\n",
              "  <div id=\"df-efbb79c4-e9fd-4786-964a-4e0683593400\">\n",
              "    <div class=\"colab-df-container\">\n",
              "      <div>\n",
              "<style scoped>\n",
              "    .dataframe tbody tr th:only-of-type {\n",
              "        vertical-align: middle;\n",
              "    }\n",
              "\n",
              "    .dataframe tbody tr th {\n",
              "        vertical-align: top;\n",
              "    }\n",
              "\n",
              "    .dataframe thead th {\n",
              "        text-align: right;\n",
              "    }\n",
              "</style>\n",
              "<table border=\"1\" class=\"dataframe\">\n",
              "  <thead>\n",
              "    <tr style=\"text-align: right;\">\n",
              "      <th></th>\n",
              "      <th>counts</th>\n",
              "      <th>dataset</th>\n",
              "    </tr>\n",
              "  </thead>\n",
              "  <tbody>\n",
              "    <tr>\n",
              "      <th>0</th>\n",
              "      <td>19</td>\n",
              "      <td>training data</td>\n",
              "    </tr>\n",
              "    <tr>\n",
              "      <th>1</th>\n",
              "      <td>20</td>\n",
              "      <td>training data</td>\n",
              "    </tr>\n",
              "    <tr>\n",
              "      <th>2</th>\n",
              "      <td>16</td>\n",
              "      <td>training data</td>\n",
              "    </tr>\n",
              "    <tr>\n",
              "      <th>3</th>\n",
              "      <td>24</td>\n",
              "      <td>training data</td>\n",
              "    </tr>\n",
              "    <tr>\n",
              "      <th>4</th>\n",
              "      <td>19</td>\n",
              "      <td>training data</td>\n",
              "    </tr>\n",
              "    <tr>\n",
              "      <th>...</th>\n",
              "      <td>...</td>\n",
              "      <td>...</td>\n",
              "    </tr>\n",
              "    <tr>\n",
              "      <th>462</th>\n",
              "      <td>22</td>\n",
              "      <td>benchmark data</td>\n",
              "    </tr>\n",
              "    <tr>\n",
              "      <th>463</th>\n",
              "      <td>26</td>\n",
              "      <td>benchmark data</td>\n",
              "    </tr>\n",
              "    <tr>\n",
              "      <th>464</th>\n",
              "      <td>22</td>\n",
              "      <td>benchmark data</td>\n",
              "    </tr>\n",
              "    <tr>\n",
              "      <th>465</th>\n",
              "      <td>21</td>\n",
              "      <td>benchmark data</td>\n",
              "    </tr>\n",
              "    <tr>\n",
              "      <th>466</th>\n",
              "      <td>20</td>\n",
              "      <td>benchmark data</td>\n",
              "    </tr>\n",
              "  </tbody>\n",
              "</table>\n",
              "<p>467 rows × 2 columns</p>\n",
              "</div>\n",
              "      <button class=\"colab-df-convert\" onclick=\"convertToInteractive('df-efbb79c4-e9fd-4786-964a-4e0683593400')\"\n",
              "              title=\"Convert this dataframe to an interactive table.\"\n",
              "              style=\"display:none;\">\n",
              "        \n",
              "  <svg xmlns=\"http://www.w3.org/2000/svg\" height=\"24px\"viewBox=\"0 0 24 24\"\n",
              "       width=\"24px\">\n",
              "    <path d=\"M0 0h24v24H0V0z\" fill=\"none\"/>\n",
              "    <path d=\"M18.56 5.44l.94 2.06.94-2.06 2.06-.94-2.06-.94-.94-2.06-.94 2.06-2.06.94zm-11 1L8.5 8.5l.94-2.06 2.06-.94-2.06-.94L8.5 2.5l-.94 2.06-2.06.94zm10 10l.94 2.06.94-2.06 2.06-.94-2.06-.94-.94-2.06-.94 2.06-2.06.94z\"/><path d=\"M17.41 7.96l-1.37-1.37c-.4-.4-.92-.59-1.43-.59-.52 0-1.04.2-1.43.59L10.3 9.45l-7.72 7.72c-.78.78-.78 2.05 0 2.83L4 21.41c.39.39.9.59 1.41.59.51 0 1.02-.2 1.41-.59l7.78-7.78 2.81-2.81c.8-.78.8-2.07 0-2.86zM5.41 20L4 18.59l7.72-7.72 1.47 1.35L5.41 20z\"/>\n",
              "  </svg>\n",
              "      </button>\n",
              "      \n",
              "  <style>\n",
              "    .colab-df-container {\n",
              "      display:flex;\n",
              "      flex-wrap:wrap;\n",
              "      gap: 12px;\n",
              "    }\n",
              "\n",
              "    .colab-df-convert {\n",
              "      background-color: #E8F0FE;\n",
              "      border: none;\n",
              "      border-radius: 50%;\n",
              "      cursor: pointer;\n",
              "      display: none;\n",
              "      fill: #1967D2;\n",
              "      height: 32px;\n",
              "      padding: 0 0 0 0;\n",
              "      width: 32px;\n",
              "    }\n",
              "\n",
              "    .colab-df-convert:hover {\n",
              "      background-color: #E2EBFA;\n",
              "      box-shadow: 0px 1px 2px rgba(60, 64, 67, 0.3), 0px 1px 3px 1px rgba(60, 64, 67, 0.15);\n",
              "      fill: #174EA6;\n",
              "    }\n",
              "\n",
              "    [theme=dark] .colab-df-convert {\n",
              "      background-color: #3B4455;\n",
              "      fill: #D2E3FC;\n",
              "    }\n",
              "\n",
              "    [theme=dark] .colab-df-convert:hover {\n",
              "      background-color: #434B5C;\n",
              "      box-shadow: 0px 1px 3px 1px rgba(0, 0, 0, 0.15);\n",
              "      filter: drop-shadow(0px 1px 2px rgba(0, 0, 0, 0.3));\n",
              "      fill: #FFFFFF;\n",
              "    }\n",
              "  </style>\n",
              "\n",
              "      <script>\n",
              "        const buttonEl =\n",
              "          document.querySelector('#df-efbb79c4-e9fd-4786-964a-4e0683593400 button.colab-df-convert');\n",
              "        buttonEl.style.display =\n",
              "          google.colab.kernel.accessAllowed ? 'block' : 'none';\n",
              "\n",
              "        async function convertToInteractive(key) {\n",
              "          const element = document.querySelector('#df-efbb79c4-e9fd-4786-964a-4e0683593400');\n",
              "          const dataTable =\n",
              "            await google.colab.kernel.invokeFunction('convertToInteractive',\n",
              "                                                     [key], {});\n",
              "          if (!dataTable) return;\n",
              "\n",
              "          const docLinkHtml = 'Like what you see? Visit the ' +\n",
              "            '<a target=\"_blank\" href=https://colab.research.google.com/notebooks/data_table.ipynb>data table notebook</a>'\n",
              "            + ' to learn more about interactive tables.';\n",
              "          element.innerHTML = '';\n",
              "          dataTable['output_type'] = 'display_data';\n",
              "          await google.colab.output.renderOutput(dataTable, element);\n",
              "          const docLink = document.createElement('div');\n",
              "          docLink.innerHTML = docLinkHtml;\n",
              "          element.appendChild(docLink);\n",
              "        }\n",
              "      </script>\n",
              "    </div>\n",
              "  </div>\n",
              "  "
            ]
          },
          "metadata": {},
          "execution_count": 286
        }
      ]
    },
    {
      "cell_type": "code",
      "source": [
        "dist_df.groupby('dataset').describe()"
      ],
      "metadata": {
        "colab": {
          "base_uri": "https://localhost:8080/",
          "height": 175
        },
        "id": "2SFPg6Ukf0K8",
        "outputId": "1cf84a93-b0c8-487a-bac2-11ccadcf7656"
      },
      "execution_count": 294,
      "outputs": [
        {
          "output_type": "execute_result",
          "data": {
            "text/plain": [
              "               counts                                                   \n",
              "                count       mean       std   min   25%   50%   75%   max\n",
              "dataset                                                                 \n",
              "benchmark data  209.0  24.196172  6.128808  13.0  20.0  23.0  27.0  46.0\n",
              "training data   258.0  22.027132  4.747643  15.0  19.0  21.0  24.0  46.0"
            ],
            "text/html": [
              "\n",
              "  <div id=\"df-2b4a27ec-5bf4-4e12-a58f-150ffa225e90\">\n",
              "    <div class=\"colab-df-container\">\n",
              "      <div>\n",
              "<style scoped>\n",
              "    .dataframe tbody tr th:only-of-type {\n",
              "        vertical-align: middle;\n",
              "    }\n",
              "\n",
              "    .dataframe tbody tr th {\n",
              "        vertical-align: top;\n",
              "    }\n",
              "\n",
              "    .dataframe thead tr th {\n",
              "        text-align: left;\n",
              "    }\n",
              "\n",
              "    .dataframe thead tr:last-of-type th {\n",
              "        text-align: right;\n",
              "    }\n",
              "</style>\n",
              "<table border=\"1\" class=\"dataframe\">\n",
              "  <thead>\n",
              "    <tr>\n",
              "      <th></th>\n",
              "      <th colspan=\"8\" halign=\"left\">counts</th>\n",
              "    </tr>\n",
              "    <tr>\n",
              "      <th></th>\n",
              "      <th>count</th>\n",
              "      <th>mean</th>\n",
              "      <th>std</th>\n",
              "      <th>min</th>\n",
              "      <th>25%</th>\n",
              "      <th>50%</th>\n",
              "      <th>75%</th>\n",
              "      <th>max</th>\n",
              "    </tr>\n",
              "    <tr>\n",
              "      <th>dataset</th>\n",
              "      <th></th>\n",
              "      <th></th>\n",
              "      <th></th>\n",
              "      <th></th>\n",
              "      <th></th>\n",
              "      <th></th>\n",
              "      <th></th>\n",
              "      <th></th>\n",
              "    </tr>\n",
              "  </thead>\n",
              "  <tbody>\n",
              "    <tr>\n",
              "      <th>benchmark data</th>\n",
              "      <td>209.0</td>\n",
              "      <td>24.196172</td>\n",
              "      <td>6.128808</td>\n",
              "      <td>13.0</td>\n",
              "      <td>20.0</td>\n",
              "      <td>23.0</td>\n",
              "      <td>27.0</td>\n",
              "      <td>46.0</td>\n",
              "    </tr>\n",
              "    <tr>\n",
              "      <th>training data</th>\n",
              "      <td>258.0</td>\n",
              "      <td>22.027132</td>\n",
              "      <td>4.747643</td>\n",
              "      <td>15.0</td>\n",
              "      <td>19.0</td>\n",
              "      <td>21.0</td>\n",
              "      <td>24.0</td>\n",
              "      <td>46.0</td>\n",
              "    </tr>\n",
              "  </tbody>\n",
              "</table>\n",
              "</div>\n",
              "      <button class=\"colab-df-convert\" onclick=\"convertToInteractive('df-2b4a27ec-5bf4-4e12-a58f-150ffa225e90')\"\n",
              "              title=\"Convert this dataframe to an interactive table.\"\n",
              "              style=\"display:none;\">\n",
              "        \n",
              "  <svg xmlns=\"http://www.w3.org/2000/svg\" height=\"24px\"viewBox=\"0 0 24 24\"\n",
              "       width=\"24px\">\n",
              "    <path d=\"M0 0h24v24H0V0z\" fill=\"none\"/>\n",
              "    <path d=\"M18.56 5.44l.94 2.06.94-2.06 2.06-.94-2.06-.94-.94-2.06-.94 2.06-2.06.94zm-11 1L8.5 8.5l.94-2.06 2.06-.94-2.06-.94L8.5 2.5l-.94 2.06-2.06.94zm10 10l.94 2.06.94-2.06 2.06-.94-2.06-.94-.94-2.06-.94 2.06-2.06.94z\"/><path d=\"M17.41 7.96l-1.37-1.37c-.4-.4-.92-.59-1.43-.59-.52 0-1.04.2-1.43.59L10.3 9.45l-7.72 7.72c-.78.78-.78 2.05 0 2.83L4 21.41c.39.39.9.59 1.41.59.51 0 1.02-.2 1.41-.59l7.78-7.78 2.81-2.81c.8-.78.8-2.07 0-2.86zM5.41 20L4 18.59l7.72-7.72 1.47 1.35L5.41 20z\"/>\n",
              "  </svg>\n",
              "      </button>\n",
              "      \n",
              "  <style>\n",
              "    .colab-df-container {\n",
              "      display:flex;\n",
              "      flex-wrap:wrap;\n",
              "      gap: 12px;\n",
              "    }\n",
              "\n",
              "    .colab-df-convert {\n",
              "      background-color: #E8F0FE;\n",
              "      border: none;\n",
              "      border-radius: 50%;\n",
              "      cursor: pointer;\n",
              "      display: none;\n",
              "      fill: #1967D2;\n",
              "      height: 32px;\n",
              "      padding: 0 0 0 0;\n",
              "      width: 32px;\n",
              "    }\n",
              "\n",
              "    .colab-df-convert:hover {\n",
              "      background-color: #E2EBFA;\n",
              "      box-shadow: 0px 1px 2px rgba(60, 64, 67, 0.3), 0px 1px 3px 1px rgba(60, 64, 67, 0.15);\n",
              "      fill: #174EA6;\n",
              "    }\n",
              "\n",
              "    [theme=dark] .colab-df-convert {\n",
              "      background-color: #3B4455;\n",
              "      fill: #D2E3FC;\n",
              "    }\n",
              "\n",
              "    [theme=dark] .colab-df-convert:hover {\n",
              "      background-color: #434B5C;\n",
              "      box-shadow: 0px 1px 3px 1px rgba(0, 0, 0, 0.15);\n",
              "      filter: drop-shadow(0px 1px 2px rgba(0, 0, 0, 0.3));\n",
              "      fill: #FFFFFF;\n",
              "    }\n",
              "  </style>\n",
              "\n",
              "      <script>\n",
              "        const buttonEl =\n",
              "          document.querySelector('#df-2b4a27ec-5bf4-4e12-a58f-150ffa225e90 button.colab-df-convert');\n",
              "        buttonEl.style.display =\n",
              "          google.colab.kernel.accessAllowed ? 'block' : 'none';\n",
              "\n",
              "        async function convertToInteractive(key) {\n",
              "          const element = document.querySelector('#df-2b4a27ec-5bf4-4e12-a58f-150ffa225e90');\n",
              "          const dataTable =\n",
              "            await google.colab.kernel.invokeFunction('convertToInteractive',\n",
              "                                                     [key], {});\n",
              "          if (!dataTable) return;\n",
              "\n",
              "          const docLinkHtml = 'Like what you see? Visit the ' +\n",
              "            '<a target=\"_blank\" href=https://colab.research.google.com/notebooks/data_table.ipynb>data table notebook</a>'\n",
              "            + ' to learn more about interactive tables.';\n",
              "          element.innerHTML = '';\n",
              "          dataTable['output_type'] = 'display_data';\n",
              "          await google.colab.output.renderOutput(dataTable, element);\n",
              "          const docLink = document.createElement('div');\n",
              "          docLink.innerHTML = docLinkHtml;\n",
              "          element.appendChild(docLink);\n",
              "        }\n",
              "      </script>\n",
              "    </div>\n",
              "  </div>\n",
              "  "
            ]
          },
          "metadata": {},
          "execution_count": 294
        }
      ]
    },
    {
      "cell_type": "code",
      "source": [
        "sb.kdeplot(dist_df['counts'], shade=True, hue=dist_df['dataset']).set(xlabel='SP length')"
      ],
      "metadata": {
        "colab": {
          "base_uri": "https://localhost:8080/",
          "height": 297
        },
        "id": "aem_L0-SbML_",
        "outputId": "38bc0c59-7c49-4a38-908a-1ee5ce846a32"
      },
      "execution_count": 292,
      "outputs": [
        {
          "output_type": "execute_result",
          "data": {
            "text/plain": [
              "[Text(0.5, 0, 'SP length')]"
            ]
          },
          "metadata": {},
          "execution_count": 292
        },
        {
          "output_type": "display_data",
          "data": {
            "text/plain": [
              "<Figure size 432x288 with 1 Axes>"
            ],
            "image/png": "[encoded data removed]"
          },
          "metadata": {
            "needs_background": "light"
          }
        }
      ]
    },
    {
      "cell_type": "markdown",
      "source": [
        "### 3. Residue composition comparison"
      ],
      "metadata": {
        "id": "VXn6BSIJWFgP"
      }
    },
    {
      "cell_type": "markdown",
      "source": [
        "#### A. Starting with the training data"
      ],
      "metadata": {
        "id": "5DKHQm2nLxa6"
      }
    },
    {
      "cell_type": "code",
      "source": [
        "train_sp = train[train.Class=='SP']"
      ],
      "metadata": {
        "id": "jnSwa0ntWH23"
      },
      "execution_count": 23,
      "outputs": []
    },
    {
      "cell_type": "code",
      "source": [
        "train_sp.head()"
      ],
      "metadata": {
        "colab": {
          "base_uri": "https://localhost:8080/",
          "height": 530
        },
        "id": "RlYK6R_uWbHZ",
        "outputId": "b8b3bf00-3401-49bf-9a92-c326bc9e9112"
      },
      "execution_count": 24,
      "outputs": [
        {
          "output_type": "execute_result",
          "data": {
            "text/plain": [
              "  UniProtKB accession                                               Taxa  \\\n",
              "0              P61916                               Homo sapiens (Human)   \n",
              "1              Q7M3V1   Chelonus sp. nr. curvimaculatus (Parasitic wasp)   \n",
              "2              Q08738                            Bombyx mori (Silk moth)   \n",
              "3              Q41350  Solanum lycopersicum (Tomato) (Lycopersicon es...   \n",
              "4              Q86SE1  Androctonus amoreuxi (African fattail scorpion...   \n",
              "\n",
              "   Kingdom Class  Cross-validation fold  \\\n",
              "0  Metazoa    SP                      0   \n",
              "1  Metazoa    SP                      0   \n",
              "2  Metazoa    SP                      0   \n",
              "3   Plants    SP                      0   \n",
              "4  Metazoa    SP                      0   \n",
              "\n",
              "             Sequence (first 50 N-terminal residues)  \\\n",
              "0  MRFLAATFLLLALSTAAQAEPVQFKDCGSVDGVIKEVNVSPCPTQP...   \n",
              "1  MAGKEVIFIMALFIAVESSPIFSFDDLVCPSVTSLRVNVEKNECST...   \n",
              "2  MRVFLAICLSLTVALAAETGKYTPFQYNRVYSTVSPFVYKPGRYVA...   \n",
              "3  MASSSAKILLPLSLLFTLLSLSQSTNPNFILTLVNNCPYTIWPAIQ...   \n",
              "4  MNYLVMISLALLLMIGVESVRDGYIVYPHNCVYHCIPSCDGLCKEN...   \n",
              "\n",
              "                         SP cleavage-site annotation  \n",
              "0  SSSSSSSSSSSSSSSSSSSNNNNNNNNNNNNNNNNNNNNNNNNNNN...  \n",
              "1  SSSSSSSSSSSSSSSSSSSSNNNNNNNNNNNNNNNNNNNNNNNNNN...  \n",
              "2  SSSSSSSSSSSSSSSSNNNNNNNNNNNNNNNNNNNNNNNNNNNNNN...  \n",
              "3  SSSSSSSSSSSSSSSSSSSSSSSSNNNNNNNNNNNNNNNNNNNNNN...  \n",
              "4  SSSSSSSSSSSSSSSSSSSNNNNNNNNNNNNNNNNNNNNNNNNNNN...  "
            ],
            "text/html": [
              "\n",
              "  <div id=\"df-c2091b47-4c9b-413b-8c7a-cf7210765a3d\">\n",
              "    <div class=\"colab-df-container\">\n",
              "      <div>\n",
              "<style scoped>\n",
              "    .dataframe tbody tr th:only-of-type {\n",
              "        vertical-align: middle;\n",
              "    }\n",
              "\n",
              "    .dataframe tbody tr th {\n",
              "        vertical-align: top;\n",
              "    }\n",
              "\n",
              "    .dataframe thead th {\n",
              "        text-align: right;\n",
              "    }\n",
              "</style>\n",
              "<table border=\"1\" class=\"dataframe\">\n",
              "  <thead>\n",
              "    <tr style=\"text-align: right;\">\n",
              "      <th></th>\n",
              "      <th>UniProtKB accession</th>\n",
              "      <th>Taxa</th>\n",
              "      <th>Kingdom</th>\n",
              "      <th>Class</th>\n",
              "      <th>Cross-validation fold</th>\n",
              "      <th>Sequence (first 50 N-terminal residues)</th>\n",
              "      <th>SP cleavage-site annotation</th>\n",
              "    </tr>\n",
              "  </thead>\n",
              "  <tbody>\n",
              "    <tr>\n",
              "      <th>0</th>\n",
              "      <td>P61916</td>\n",
              "      <td>Homo sapiens (Human)</td>\n",
              "      <td>Metazoa</td>\n",
              "      <td>SP</td>\n",
              "      <td>0</td>\n",
              "      <td>MRFLAATFLLLALSTAAQAEPVQFKDCGSVDGVIKEVNVSPCPTQP...</td>\n",
              "      <td>SSSSSSSSSSSSSSSSSSSNNNNNNNNNNNNNNNNNNNNNNNNNNN...</td>\n",
              "    </tr>\n",
              "    <tr>\n",
              "      <th>1</th>\n",
              "      <td>Q7M3V1</td>\n",
              "      <td>Chelonus sp. nr. curvimaculatus (Parasitic wasp)</td>\n",
              "      <td>Metazoa</td>\n",
              "      <td>SP</td>\n",
              "      <td>0</td>\n",
              "      <td>MAGKEVIFIMALFIAVESSPIFSFDDLVCPSVTSLRVNVEKNECST...</td>\n",
              "      <td>SSSSSSSSSSSSSSSSSSSSNNNNNNNNNNNNNNNNNNNNNNNNNN...</td>\n",
              "    </tr>\n",
              "    <tr>\n",
              "      <th>2</th>\n",
              "      <td>Q08738</td>\n",
              "      <td>Bombyx mori (Silk moth)</td>\n",
              "      <td>Metazoa</td>\n",
              "      <td>SP</td>\n",
              "      <td>0</td>\n",
              "      <td>MRVFLAICLSLTVALAAETGKYTPFQYNRVYSTVSPFVYKPGRYVA...</td>\n",
              "      <td>SSSSSSSSSSSSSSSSNNNNNNNNNNNNNNNNNNNNNNNNNNNNNN...</td>\n",
              "    </tr>\n",
              "    <tr>\n",
              "      <th>3</th>\n",
              "      <td>Q41350</td>\n",
              "      <td>Solanum lycopersicum (Tomato) (Lycopersicon es...</td>\n",
              "      <td>Plants</td>\n",
              "      <td>SP</td>\n",
              "      <td>0</td>\n",
              "      <td>MASSSAKILLPLSLLFTLLSLSQSTNPNFILTLVNNCPYTIWPAIQ...</td>\n",
              "      <td>SSSSSSSSSSSSSSSSSSSSSSSSNNNNNNNNNNNNNNNNNNNNNN...</td>\n",
              "    </tr>\n",
              "    <tr>\n",
              "      <th>4</th>\n",
              "      <td>Q86SE1</td>\n",
              "      <td>Androctonus amoreuxi (African fattail scorpion...</td>\n",
              "      <td>Metazoa</td>\n",
              "      <td>SP</td>\n",
              "      <td>0</td>\n",
              "      <td>MNYLVMISLALLLMIGVESVRDGYIVYPHNCVYHCIPSCDGLCKEN...</td>\n",
              "      <td>SSSSSSSSSSSSSSSSSSSNNNNNNNNNNNNNNNNNNNNNNNNNNN...</td>\n",
              "    </tr>\n",
              "  </tbody>\n",
              "</table>\n",
              "</div>\n",
              "      <button class=\"colab-df-convert\" onclick=\"convertToInteractive('df-c2091b47-4c9b-413b-8c7a-cf7210765a3d')\"\n",
              "              title=\"Convert this dataframe to an interactive table.\"\n",
              "              style=\"display:none;\">\n",
              "        \n",
              "  <svg xmlns=\"http://www.w3.org/2000/svg\" height=\"24px\"viewBox=\"0 0 24 24\"\n",
              "       width=\"24px\">\n",
              "    <path d=\"M0 0h24v24H0V0z\" fill=\"none\"/>\n",
              "    <path d=\"M18.56 5.44l.94 2.06.94-2.06 2.06-.94-2.06-.94-.94-2.06-.94 2.06-2.06.94zm-11 1L8.5 8.5l.94-2.06 2.06-.94-2.06-.94L8.5 2.5l-.94 2.06-2.06.94zm10 10l.94 2.06.94-2.06 2.06-.94-2.06-.94-.94-2.06-.94 2.06-2.06.94z\"/><path d=\"M17.41 7.96l-1.37-1.37c-.4-.4-.92-.59-1.43-.59-.52 0-1.04.2-1.43.59L10.3 9.45l-7.72 7.72c-.78.78-.78 2.05 0 2.83L4 21.41c.39.39.9.59 1.41.59.51 0 1.02-.2 1.41-.59l7.78-7.78 2.81-2.81c.8-.78.8-2.07 0-2.86zM5.41 20L4 18.59l7.72-7.72 1.47 1.35L5.41 20z\"/>\n",
              "  </svg>\n",
              "      </button>\n",
              "      \n",
              "  <style>\n",
              "    .colab-df-container {\n",
              "      display:flex;\n",
              "      flex-wrap:wrap;\n",
              "      gap: 12px;\n",
              "    }\n",
              "\n",
              "    .colab-df-convert {\n",
              "      background-color: #E8F0FE;\n",
              "      border: none;\n",
              "      border-radius: 50%;\n",
              "      cursor: pointer;\n",
              "      display: none;\n",
              "      fill: #1967D2;\n",
              "      height: 32px;\n",
              "      padding: 0 0 0 0;\n",
              "      width: 32px;\n",
              "    }\n",
              "\n",
              "    .colab-df-convert:hover {\n",
              "      background-color: #E2EBFA;\n",
              "      box-shadow: 0px 1px 2px rgba(60, 64, 67, 0.3), 0px 1px 3px 1px rgba(60, 64, 67, 0.15);\n",
              "      fill: #174EA6;\n",
              "    }\n",
              "\n",
              "    [theme=dark] .colab-df-convert {\n",
              "      background-color: #3B4455;\n",
              "      fill: #D2E3FC;\n",
              "    }\n",
              "\n",
              "    [theme=dark] .colab-df-convert:hover {\n",
              "      background-color: #434B5C;\n",
              "      box-shadow: 0px 1px 3px 1px rgba(0, 0, 0, 0.15);\n",
              "      filter: drop-shadow(0px 1px 2px rgba(0, 0, 0, 0.3));\n",
              "      fill: #FFFFFF;\n",
              "    }\n",
              "  </style>\n",
              "\n",
              "      <script>\n",
              "        const buttonEl =\n",
              "          document.querySelector('#df-c2091b47-4c9b-413b-8c7a-cf7210765a3d button.colab-df-convert');\n",
              "        buttonEl.style.display =\n",
              "          google.colab.kernel.accessAllowed ? 'block' : 'none';\n",
              "\n",
              "        async function convertToInteractive(key) {\n",
              "          const element = document.querySelector('#df-c2091b47-4c9b-413b-8c7a-cf7210765a3d');\n",
              "          const dataTable =\n",
              "            await google.colab.kernel.invokeFunction('convertToInteractive',\n",
              "                                                     [key], {});\n",
              "          if (!dataTable) return;\n",
              "\n",
              "          const docLinkHtml = 'Like what you see? Visit the ' +\n",
              "            '<a target=\"_blank\" href=https://colab.research.google.com/notebooks/data_table.ipynb>data table notebook</a>'\n",
              "            + ' to learn more about interactive tables.';\n",
              "          element.innerHTML = '';\n",
              "          dataTable['output_type'] = 'display_data';\n",
              "          await google.colab.output.renderOutput(dataTable, element);\n",
              "          const docLink = document.createElement('div');\n",
              "          docLink.innerHTML = docLinkHtml;\n",
              "          element.appendChild(docLink);\n",
              "        }\n",
              "      </script>\n",
              "    </div>\n",
              "  </div>\n",
              "  "
            ]
          },
          "metadata": {},
          "execution_count": 24
        }
      ]
    },
    {
      "cell_type": "code",
      "source": [
        "train_sp['length of sequence'] = len(train_sp.loc[:,'Sequence (first 50 N-terminal residues)'])"
      ],
      "metadata": {
        "colab": {
          "base_uri": "https://localhost:8080/"
        },
        "id": "jrcx0yIsvY77",
        "outputId": "f634008d-8a82-44f7-c37e-80081dccf4c1"
      },
      "execution_count": 25,
      "outputs": [
        {
          "output_type": "stream",
          "name": "stderr",
          "text": [
            "/usr/local/lib/python3.7/dist-packages/ipykernel_launcher.py:1: SettingWithCopyWarning: \n",
            "A value is trying to be set on a copy of a slice from a DataFrame.\n",
            "Try using .loc[row_indexer,col_indexer] = value instead\n",
            "\n",
            "See the caveats in the documentation: https://pandas.pydata.org/pandas-docs/stable/user_guide/indexing.html#returning-a-view-versus-a-copy\n",
            "  \"\"\"Entry point for launching an IPython kernel.\n"
          ]
        }
      ]
    },
    {
      "cell_type": "code",
      "source": [
        "train_sp.head()"
      ],
      "metadata": {
        "colab": {
          "base_uri": "https://localhost:8080/",
          "height": 530
        },
        "id": "uuNiEQpWwLES",
        "outputId": "828936bd-57bd-45a1-ac4f-4ff20f6dd84f"
      },
      "execution_count": 26,
      "outputs": [
        {
          "output_type": "execute_result",
          "data": {
            "text/plain": [
              "  UniProtKB accession                                               Taxa  \\\n",
              "0              P61916                               Homo sapiens (Human)   \n",
              "1              Q7M3V1   Chelonus sp. nr. curvimaculatus (Parasitic wasp)   \n",
              "2              Q08738                            Bombyx mori (Silk moth)   \n",
              "3              Q41350  Solanum lycopersicum (Tomato) (Lycopersicon es...   \n",
              "4              Q86SE1  Androctonus amoreuxi (African fattail scorpion...   \n",
              "\n",
              "   Kingdom Class  Cross-validation fold  \\\n",
              "0  Metazoa    SP                      0   \n",
              "1  Metazoa    SP                      0   \n",
              "2  Metazoa    SP                      0   \n",
              "3   Plants    SP                      0   \n",
              "4  Metazoa    SP                      0   \n",
              "\n",
              "             Sequence (first 50 N-terminal residues)  \\\n",
              "0  MRFLAATFLLLALSTAAQAEPVQFKDCGSVDGVIKEVNVSPCPTQP...   \n",
              "1  MAGKEVIFIMALFIAVESSPIFSFDDLVCPSVTSLRVNVEKNECST...   \n",
              "2  MRVFLAICLSLTVALAAETGKYTPFQYNRVYSTVSPFVYKPGRYVA...   \n",
              "3  MASSSAKILLPLSLLFTLLSLSQSTNPNFILTLVNNCPYTIWPAIQ...   \n",
              "4  MNYLVMISLALLLMIGVESVRDGYIVYPHNCVYHCIPSCDGLCKEN...   \n",
              "\n",
              "                         SP cleavage-site annotation  length of sequence  \n",
              "0  SSSSSSSSSSSSSSSSSSSNNNNNNNNNNNNNNNNNNNNNNNNNNN...                 258  \n",
              "1  SSSSSSSSSSSSSSSSSSSSNNNNNNNNNNNNNNNNNNNNNNNNNN...                 258  \n",
              "2  SSSSSSSSSSSSSSSSNNNNNNNNNNNNNNNNNNNNNNNNNNNNNN...                 258  \n",
              "3  SSSSSSSSSSSSSSSSSSSSSSSSNNNNNNNNNNNNNNNNNNNNNN...                 258  \n",
              "4  SSSSSSSSSSSSSSSSSSSNNNNNNNNNNNNNNNNNNNNNNNNNNN...                 258  "
            ],
            "text/html": [
              "\n",
              "  <div id=\"df-57d3d293-0a6d-4504-89fe-aa933116a62e\">\n",
              "    <div class=\"colab-df-container\">\n",
              "      <div>\n",
              "<style scoped>\n",
              "    .dataframe tbody tr th:only-of-type {\n",
              "        vertical-align: middle;\n",
              "    }\n",
              "\n",
              "    .dataframe tbody tr th {\n",
              "        vertical-align: top;\n",
              "    }\n",
              "\n",
              "    .dataframe thead th {\n",
              "        text-align: right;\n",
              "    }\n",
              "</style>\n",
              "<table border=\"1\" class=\"dataframe\">\n",
              "  <thead>\n",
              "    <tr style=\"text-align: right;\">\n",
              "      <th></th>\n",
              "      <th>UniProtKB accession</th>\n",
              "      <th>Taxa</th>\n",
              "      <th>Kingdom</th>\n",
              "      <th>Class</th>\n",
              "      <th>Cross-validation fold</th>\n",
              "      <th>Sequence (first 50 N-terminal residues)</th>\n",
              "      <th>SP cleavage-site annotation</th>\n",
              "      <th>length of sequence</th>\n",
              "    </tr>\n",
              "  </thead>\n",
              "  <tbody>\n",
              "    <tr>\n",
              "      <th>0</th>\n",
              "      <td>P61916</td>\n",
              "      <td>Homo sapiens (Human)</td>\n",
              "      <td>Metazoa</td>\n",
              "      <td>SP</td>\n",
              "      <td>0</td>\n",
              "      <td>MRFLAATFLLLALSTAAQAEPVQFKDCGSVDGVIKEVNVSPCPTQP...</td>\n",
              "      <td>SSSSSSSSSSSSSSSSSSSNNNNNNNNNNNNNNNNNNNNNNNNNNN...</td>\n",
              "      <td>258</td>\n",
              "    </tr>\n",
              "    <tr>\n",
              "      <th>1</th>\n",
              "      <td>Q7M3V1</td>\n",
              "      <td>Chelonus sp. nr. curvimaculatus (Parasitic wasp)</td>\n",
              "      <td>Metazoa</td>\n",
              "      <td>SP</td>\n",
              "      <td>0</td>\n",
              "      <td>MAGKEVIFIMALFIAVESSPIFSFDDLVCPSVTSLRVNVEKNECST...</td>\n",
              "      <td>SSSSSSSSSSSSSSSSSSSSNNNNNNNNNNNNNNNNNNNNNNNNNN...</td>\n",
              "      <td>258</td>\n",
              "    </tr>\n",
              "    <tr>\n",
              "      <th>2</th>\n",
              "      <td>Q08738</td>\n",
              "      <td>Bombyx mori (Silk moth)</td>\n",
              "      <td>Metazoa</td>\n",
              "      <td>SP</td>\n",
              "      <td>0</td>\n",
              "      <td>MRVFLAICLSLTVALAAETGKYTPFQYNRVYSTVSPFVYKPGRYVA...</td>\n",
              "      <td>SSSSSSSSSSSSSSSSNNNNNNNNNNNNNNNNNNNNNNNNNNNNNN...</td>\n",
              "      <td>258</td>\n",
              "    </tr>\n",
              "    <tr>\n",
              "      <th>3</th>\n",
              "      <td>Q41350</td>\n",
              "      <td>Solanum lycopersicum (Tomato) (Lycopersicon es...</td>\n",
              "      <td>Plants</td>\n",
              "      <td>SP</td>\n",
              "      <td>0</td>\n",
              "      <td>MASSSAKILLPLSLLFTLLSLSQSTNPNFILTLVNNCPYTIWPAIQ...</td>\n",
              "      <td>SSSSSSSSSSSSSSSSSSSSSSSSNNNNNNNNNNNNNNNNNNNNNN...</td>\n",
              "      <td>258</td>\n",
              "    </tr>\n",
              "    <tr>\n",
              "      <th>4</th>\n",
              "      <td>Q86SE1</td>\n",
              "      <td>Androctonus amoreuxi (African fattail scorpion...</td>\n",
              "      <td>Metazoa</td>\n",
              "      <td>SP</td>\n",
              "      <td>0</td>\n",
              "      <td>MNYLVMISLALLLMIGVESVRDGYIVYPHNCVYHCIPSCDGLCKEN...</td>\n",
              "      <td>SSSSSSSSSSSSSSSSSSSNNNNNNNNNNNNNNNNNNNNNNNNNNN...</td>\n",
              "      <td>258</td>\n",
              "    </tr>\n",
              "  </tbody>\n",
              "</table>\n",
              "</div>\n",
              "      <button class=\"colab-df-convert\" onclick=\"convertToInteractive('df-57d3d293-0a6d-4504-89fe-aa933116a62e')\"\n",
              "              title=\"Convert this dataframe to an interactive table.\"\n",
              "              style=\"display:none;\">\n",
              "        \n",
              "  <svg xmlns=\"http://www.w3.org/2000/svg\" height=\"24px\"viewBox=\"0 0 24 24\"\n",
              "       width=\"24px\">\n",
              "    <path d=\"M0 0h24v24H0V0z\" fill=\"none\"/>\n",
              "    <path d=\"M18.56 5.44l.94 2.06.94-2.06 2.06-.94-2.06-.94-.94-2.06-.94 2.06-2.06.94zm-11 1L8.5 8.5l.94-2.06 2.06-.94-2.06-.94L8.5 2.5l-.94 2.06-2.06.94zm10 10l.94 2.06.94-2.06 2.06-.94-2.06-.94-.94-2.06-.94 2.06-2.06.94z\"/><path d=\"M17.41 7.96l-1.37-1.37c-.4-.4-.92-.59-1.43-.59-.52 0-1.04.2-1.43.59L10.3 9.45l-7.72 7.72c-.78.78-.78 2.05 0 2.83L4 21.41c.39.39.9.59 1.41.59.51 0 1.02-.2 1.41-.59l7.78-7.78 2.81-2.81c.8-.78.8-2.07 0-2.86zM5.41 20L4 18.59l7.72-7.72 1.47 1.35L5.41 20z\"/>\n",
              "  </svg>\n",
              "      </button>\n",
              "      \n",
              "  <style>\n",
              "    .colab-df-container {\n",
              "      display:flex;\n",
              "      flex-wrap:wrap;\n",
              "      gap: 12px;\n",
              "    }\n",
              "\n",
              "    .colab-df-convert {\n",
              "      background-color: #E8F0FE;\n",
              "      border: none;\n",
              "      border-radius: 50%;\n",
              "      cursor: pointer;\n",
              "      display: none;\n",
              "      fill: #1967D2;\n",
              "      height: 32px;\n",
              "      padding: 0 0 0 0;\n",
              "      width: 32px;\n",
              "    }\n",
              "\n",
              "    .colab-df-convert:hover {\n",
              "      background-color: #E2EBFA;\n",
              "      box-shadow: 0px 1px 2px rgba(60, 64, 67, 0.3), 0px 1px 3px 1px rgba(60, 64, 67, 0.15);\n",
              "      fill: #174EA6;\n",
              "    }\n",
              "\n",
              "    [theme=dark] .colab-df-convert {\n",
              "      background-color: #3B4455;\n",
              "      fill: #D2E3FC;\n",
              "    }\n",
              "\n",
              "    [theme=dark] .colab-df-convert:hover {\n",
              "      background-color: #434B5C;\n",
              "      box-shadow: 0px 1px 3px 1px rgba(0, 0, 0, 0.15);\n",
              "      filter: drop-shadow(0px 1px 2px rgba(0, 0, 0, 0.3));\n",
              "      fill: #FFFFFF;\n",
              "    }\n",
              "  </style>\n",
              "\n",
              "      <script>\n",
              "        const buttonEl =\n",
              "          document.querySelector('#df-57d3d293-0a6d-4504-89fe-aa933116a62e button.colab-df-convert');\n",
              "        buttonEl.style.display =\n",
              "          google.colab.kernel.accessAllowed ? 'block' : 'none';\n",
              "\n",
              "        async function convertToInteractive(key) {\n",
              "          const element = document.querySelector('#df-57d3d293-0a6d-4504-89fe-aa933116a62e');\n",
              "          const dataTable =\n",
              "            await google.colab.kernel.invokeFunction('convertToInteractive',\n",
              "                                                     [key], {});\n",
              "          if (!dataTable) return;\n",
              "\n",
              "          const docLinkHtml = 'Like what you see? Visit the ' +\n",
              "            '<a target=\"_blank\" href=https://colab.research.google.com/notebooks/data_table.ipynb>data table notebook</a>'\n",
              "            + ' to learn more about interactive tables.';\n",
              "          element.innerHTML = '';\n",
              "          dataTable['output_type'] = 'display_data';\n",
              "          await google.colab.output.renderOutput(dataTable, element);\n",
              "          const docLink = document.createElement('div');\n",
              "          docLink.innerHTML = docLinkHtml;\n",
              "          element.appendChild(docLink);\n",
              "        }\n",
              "      </script>\n",
              "    </div>\n",
              "  </div>\n",
              "  "
            ]
          },
          "metadata": {},
          "execution_count": 26
        }
      ]
    },
    {
      "cell_type": "code",
      "source": [
        "train_sp.describe()"
      ],
      "metadata": {
        "colab": {
          "base_uri": "https://localhost:8080/",
          "height": 300
        },
        "id": "dRUYo35mwOg9",
        "outputId": "41f2dd31-7f17-4bdf-94dc-12b2b58fded7"
      },
      "execution_count": 27,
      "outputs": [
        {
          "output_type": "execute_result",
          "data": {
            "text/plain": [
              "       Cross-validation fold  length of sequence\n",
              "count             258.000000               258.0\n",
              "mean                1.984496               258.0\n",
              "std                 1.411374                 0.0\n",
              "min                 0.000000               258.0\n",
              "25%                 1.000000               258.0\n",
              "50%                 2.000000               258.0\n",
              "75%                 3.000000               258.0\n",
              "max                 4.000000               258.0"
            ],
            "text/html": [
              "\n",
              "  <div id=\"df-52b2441c-2acd-4085-835c-093203c0c881\">\n",
              "    <div class=\"colab-df-container\">\n",
              "      <div>\n",
              "<style scoped>\n",
              "    .dataframe tbody tr th:only-of-type {\n",
              "        vertical-align: middle;\n",
              "    }\n",
              "\n",
              "    .dataframe tbody tr th {\n",
              "        vertical-align: top;\n",
              "    }\n",
              "\n",
              "    .dataframe thead th {\n",
              "        text-align: right;\n",
              "    }\n",
              "</style>\n",
              "<table border=\"1\" class=\"dataframe\">\n",
              "  <thead>\n",
              "    <tr style=\"text-align: right;\">\n",
              "      <th></th>\n",
              "      <th>Cross-validation fold</th>\n",
              "      <th>length of sequence</th>\n",
              "    </tr>\n",
              "  </thead>\n",
              "  <tbody>\n",
              "    <tr>\n",
              "      <th>count</th>\n",
              "      <td>258.000000</td>\n",
              "      <td>258.0</td>\n",
              "    </tr>\n",
              "    <tr>\n",
              "      <th>mean</th>\n",
              "      <td>1.984496</td>\n",
              "      <td>258.0</td>\n",
              "    </tr>\n",
              "    <tr>\n",
              "      <th>std</th>\n",
              "      <td>1.411374</td>\n",
              "      <td>0.0</td>\n",
              "    </tr>\n",
              "    <tr>\n",
              "      <th>min</th>\n",
              "      <td>0.000000</td>\n",
              "      <td>258.0</td>\n",
              "    </tr>\n",
              "    <tr>\n",
              "      <th>25%</th>\n",
              "      <td>1.000000</td>\n",
              "      <td>258.0</td>\n",
              "    </tr>\n",
              "    <tr>\n",
              "      <th>50%</th>\n",
              "      <td>2.000000</td>\n",
              "      <td>258.0</td>\n",
              "    </tr>\n",
              "    <tr>\n",
              "      <th>75%</th>\n",
              "      <td>3.000000</td>\n",
              "      <td>258.0</td>\n",
              "    </tr>\n",
              "    <tr>\n",
              "      <th>max</th>\n",
              "      <td>4.000000</td>\n",
              "      <td>258.0</td>\n",
              "    </tr>\n",
              "  </tbody>\n",
              "</table>\n",
              "</div>\n",
              "      <button class=\"colab-df-convert\" onclick=\"convertToInteractive('df-52b2441c-2acd-4085-835c-093203c0c881')\"\n",
              "              title=\"Convert this dataframe to an interactive table.\"\n",
              "              style=\"display:none;\">\n",
              "        \n",
              "  <svg xmlns=\"http://www.w3.org/2000/svg\" height=\"24px\"viewBox=\"0 0 24 24\"\n",
              "       width=\"24px\">\n",
              "    <path d=\"M0 0h24v24H0V0z\" fill=\"none\"/>\n",
              "    <path d=\"M18.56 5.44l.94 2.06.94-2.06 2.06-.94-2.06-.94-.94-2.06-.94 2.06-2.06.94zm-11 1L8.5 8.5l.94-2.06 2.06-.94-2.06-.94L8.5 2.5l-.94 2.06-2.06.94zm10 10l.94 2.06.94-2.06 2.06-.94-2.06-.94-.94-2.06-.94 2.06-2.06.94z\"/><path d=\"M17.41 7.96l-1.37-1.37c-.4-.4-.92-.59-1.43-.59-.52 0-1.04.2-1.43.59L10.3 9.45l-7.72 7.72c-.78.78-.78 2.05 0 2.83L4 21.41c.39.39.9.59 1.41.59.51 0 1.02-.2 1.41-.59l7.78-7.78 2.81-2.81c.8-.78.8-2.07 0-2.86zM5.41 20L4 18.59l7.72-7.72 1.47 1.35L5.41 20z\"/>\n",
              "  </svg>\n",
              "      </button>\n",
              "      \n",
              "  <style>\n",
              "    .colab-df-container {\n",
              "      display:flex;\n",
              "      flex-wrap:wrap;\n",
              "      gap: 12px;\n",
              "    }\n",
              "\n",
              "    .colab-df-convert {\n",
              "      background-color: #E8F0FE;\n",
              "      border: none;\n",
              "      border-radius: 50%;\n",
              "      cursor: pointer;\n",
              "      display: none;\n",
              "      fill: #1967D2;\n",
              "      height: 32px;\n",
              "      padding: 0 0 0 0;\n",
              "      width: 32px;\n",
              "    }\n",
              "\n",
              "    .colab-df-convert:hover {\n",
              "      background-color: #E2EBFA;\n",
              "      box-shadow: 0px 1px 2px rgba(60, 64, 67, 0.3), 0px 1px 3px 1px rgba(60, 64, 67, 0.15);\n",
              "      fill: #174EA6;\n",
              "    }\n",
              "\n",
              "    [theme=dark] .colab-df-convert {\n",
              "      background-color: #3B4455;\n",
              "      fill: #D2E3FC;\n",
              "    }\n",
              "\n",
              "    [theme=dark] .colab-df-convert:hover {\n",
              "      background-color: #434B5C;\n",
              "      box-shadow: 0px 1px 3px 1px rgba(0, 0, 0, 0.15);\n",
              "      filter: drop-shadow(0px 1px 2px rgba(0, 0, 0, 0.3));\n",
              "      fill: #FFFFFF;\n",
              "    }\n",
              "  </style>\n",
              "\n",
              "      <script>\n",
              "        const buttonEl =\n",
              "          document.querySelector('#df-52b2441c-2acd-4085-835c-093203c0c881 button.colab-df-convert');\n",
              "        buttonEl.style.display =\n",
              "          google.colab.kernel.accessAllowed ? 'block' : 'none';\n",
              "\n",
              "        async function convertToInteractive(key) {\n",
              "          const element = document.querySelector('#df-52b2441c-2acd-4085-835c-093203c0c881');\n",
              "          const dataTable =\n",
              "            await google.colab.kernel.invokeFunction('convertToInteractive',\n",
              "                                                     [key], {});\n",
              "          if (!dataTable) return;\n",
              "\n",
              "          const docLinkHtml = 'Like what you see? Visit the ' +\n",
              "            '<a target=\"_blank\" href=https://colab.research.google.com/notebooks/data_table.ipynb>data table notebook</a>'\n",
              "            + ' to learn more about interactive tables.';\n",
              "          element.innerHTML = '';\n",
              "          dataTable['output_type'] = 'display_data';\n",
              "          await google.colab.output.renderOutput(dataTable, element);\n",
              "          const docLink = document.createElement('div');\n",
              "          docLink.innerHTML = docLinkHtml;\n",
              "          element.appendChild(docLink);\n",
              "        }\n",
              "      </script>\n",
              "    </div>\n",
              "  </div>\n",
              "  "
            ]
          },
          "metadata": {},
          "execution_count": 27
        }
      ]
    },
    {
      "cell_type": "markdown",
      "source": [
        "Yes, all of the sequences have the same length!"
      ],
      "metadata": {
        "id": "P97AWKQRwTyi"
      }
    },
    {
      "cell_type": "code",
      "source": [
        "def composition(data):\n",
        "  sequence = [seq for seq in data['Sequence (first 50 N-terminal residues)']]\n",
        "  sp = [seq for seq in data['SP cleavage-site annotation']]\n",
        "  #sequence = data['Sequence (first 50 N-terminal residues)'].tolist()\n",
        "  #sp = data['SP cleavage-site annotation'].tolist()\n",
        "  signals = {}\n",
        "  for i in range(len(sequence)):\n",
        "    for j in range(len(sequence[0])):\n",
        "      if sp[i][j] == \"S\":\n",
        "        signals[sequence[i][j]] = signals.get(sequence[i][j], 0) + 1\n",
        "  return signals\n",
        "\n",
        "\n"
      ],
      "metadata": {
        "id": "YHVThsIyWdXL"
      },
      "execution_count": 78,
      "outputs": []
    },
    {
      "cell_type": "code",
      "source": [
        "comp_dict = composition(train_sp) #This is the residue count for the sps in our training set"
      ],
      "metadata": {
        "id": "9vwwabYqZqo0"
      },
      "execution_count": 79,
      "outputs": []
    },
    {
      "cell_type": "code",
      "source": [
        "comp_dict"
      ],
      "metadata": {
        "colab": {
          "base_uri": "https://localhost:8080/"
        },
        "id": "_ngDq8VK-vkj",
        "outputId": "b79d7128-a421-405e-9e50-59658f9a1893"
      },
      "execution_count": 80,
      "outputs": [
        {
          "output_type": "execute_result",
          "data": {
            "text/plain": [
              "{'M': 373,\n",
              " 'R': 177,\n",
              " 'F': 301,\n",
              " 'L': 1318,\n",
              " 'A': 747,\n",
              " 'T': 270,\n",
              " 'S': 413,\n",
              " 'Q': 118,\n",
              " 'G': 328,\n",
              " 'K': 133,\n",
              " 'E': 87,\n",
              " 'V': 504,\n",
              " 'I': 239,\n",
              " 'P': 198,\n",
              " 'C': 155,\n",
              " 'N': 54,\n",
              " 'Y': 52,\n",
              " 'W': 105,\n",
              " 'D': 55,\n",
              " 'H': 56}"
            ]
          },
          "metadata": {},
          "execution_count": 80
        }
      ]
    },
    {
      "cell_type": "markdown",
      "source": [
        "Next steps:\n",
        "- Check whether it is simpler to continue using the dictionary or to transform the data into a list (that could be converted into a numpy array, which is easier to handle for mathematical transformations).\n",
        "- In either case, it can be fed into seaborn to create the bar graph.  "
      ],
      "metadata": {
        "id": "b-l7VMXMywBz"
      }
    },
    {
      "cell_type": "code",
      "source": [
        "#Residue order\n",
        "res = ['G', 'A', 'V', 'P', 'L', 'I', 'M', 'F', 'W', 'Y', 'S', 'T', 'C', 'N', 'Q', 'H', 'D', 'E', 'K', 'R']"
      ],
      "metadata": {
        "id": "UyUBoEpyZtP-"
      },
      "execution_count": 81,
      "outputs": []
    },
    {
      "cell_type": "code",
      "source": [
        "comp_list = [comp_dict[residue] for residue in res]\n",
        "#for residue in res:\n",
        " # comp_list.append(comp_dict[residue])"
      ],
      "metadata": {
        "id": "LrrqZpN75Ai7"
      },
      "execution_count": 82,
      "outputs": []
    },
    {
      "cell_type": "code",
      "source": [
        "comp_list"
      ],
      "metadata": {
        "colab": {
          "base_uri": "https://localhost:8080/"
        },
        "id": "HJxyv1w168PS",
        "outputId": "8aa21f77-aedd-4f60-b015-d574cc258995"
      },
      "execution_count": 83,
      "outputs": [
        {
          "output_type": "execute_result",
          "data": {
            "text/plain": [
              "[328,\n",
              " 747,\n",
              " 504,\n",
              " 198,\n",
              " 1318,\n",
              " 239,\n",
              " 373,\n",
              " 301,\n",
              " 105,\n",
              " 52,\n",
              " 413,\n",
              " 270,\n",
              " 155,\n",
              " 54,\n",
              " 118,\n",
              " 56,\n",
              " 55,\n",
              " 87,\n",
              " 133,\n",
              " 177]"
            ]
          },
          "metadata": {},
          "execution_count": 83
        }
      ]
    },
    {
      "cell_type": "code",
      "source": [
        "import numpy as np"
      ],
      "metadata": {
        "id": "E0tiHwmj7Cfr"
      },
      "execution_count": 84,
      "outputs": []
    },
    {
      "cell_type": "code",
      "source": [
        "comp_array = np.array(comp_list)"
      ],
      "metadata": {
        "id": "DBDImFs_7FVB"
      },
      "execution_count": 85,
      "outputs": []
    },
    {
      "cell_type": "code",
      "source": [
        "comp_array"
      ],
      "metadata": {
        "colab": {
          "base_uri": "https://localhost:8080/"
        },
        "id": "b-GUL6uM7RnC",
        "outputId": "bafae3a7-dc91-4a5f-831b-b16593be9ec4"
      },
      "execution_count": 86,
      "outputs": [
        {
          "output_type": "execute_result",
          "data": {
            "text/plain": [
              "array([ 328,  747,  504,  198, 1318,  239,  373,  301,  105,   52,  413,\n",
              "        270,  155,   54,  118,   56,   55,   87,  133,  177])"
            ]
          },
          "metadata": {},
          "execution_count": 86
        }
      ]
    },
    {
      "cell_type": "code",
      "source": [
        "comp_percentages= (comp_array/comp_array.sum())*100"
      ],
      "metadata": {
        "id": "SUvuUs9q7f3M"
      },
      "execution_count": 87,
      "outputs": []
    },
    {
      "cell_type": "code",
      "source": [
        "comp_array.sum()"
      ],
      "metadata": {
        "colab": {
          "base_uri": "https://localhost:8080/"
        },
        "id": "EqrEKEvbzbx5",
        "outputId": "24d9dd2d-0a3e-4f3c-f960-acf30f493bc3"
      },
      "execution_count": 88,
      "outputs": [
        {
          "output_type": "execute_result",
          "data": {
            "text/plain": [
              "5683"
            ]
          },
          "metadata": {},
          "execution_count": 88
        }
      ]
    },
    {
      "cell_type": "code",
      "source": [
        "comp_percentages"
      ],
      "metadata": {
        "colab": {
          "base_uri": "https://localhost:8080/"
        },
        "id": "hy6uktZP8VRN",
        "outputId": "61c96789-3c5f-42cf-e6ce-21d9013cb7ae"
      },
      "execution_count": 89,
      "outputs": [
        {
          "output_type": "execute_result",
          "data": {
            "text/plain": [
              "array([ 5.77159951, 13.14446595,  8.86855534,  3.48407531, 23.19197607,\n",
              "        4.20552525,  6.56343481,  5.29649833,  1.8476157 ,  0.91500968,\n",
              "        7.2672884 ,  4.75101179,  2.72743269,  0.95020236,  2.07636812,\n",
              "        0.98539504,  0.9677987 ,  1.53088158,  2.34031321,  3.11455217])"
            ]
          },
          "metadata": {},
          "execution_count": 89
        }
      ]
    },
    {
      "cell_type": "code",
      "source": [
        "train_comp_df = pd.DataFrame({'residues':res, 'percentages':comp_percentages})"
      ],
      "metadata": {
        "id": "PUstuvXV8HMs"
      },
      "execution_count": 90,
      "outputs": []
    },
    {
      "cell_type": "code",
      "source": [
        "sb.barplot(data=train_comp_df, x=\"residues\", y=\"percentages\") #first attempt"
      ],
      "metadata": {
        "colab": {
          "base_uri": "https://localhost:8080/",
          "height": 297
        },
        "id": "_5cqIW1C_uhp",
        "outputId": "3d9cb023-d1e4-4e6e-f26f-9aa9be33f404"
      },
      "execution_count": 91,
      "outputs": [
        {
          "output_type": "execute_result",
          "data": {
            "text/plain": [
              "<matplotlib.axes._subplots.AxesSubplot at 0x7f487a241210>"
            ]
          },
          "metadata": {},
          "execution_count": 91
        },
        {
          "output_type": "display_data",
          "data": {
            "text/plain": [
              "<Figure size 432x288 with 1 Axes>"
            ],
            "image/png": "[encoded data removed]"
          },
          "metadata": {
            "needs_background": "light"
          }
        }
      ]
    },
    {
      "cell_type": "markdown",
      "source": [
        "https://seaborn.pydata.org/generated/seaborn.barplot.html"
      ],
      "metadata": {
        "id": "-R-E7j-Xj5xm"
      }
    },
    {
      "cell_type": "markdown",
      "source": [
        "So good so far. Now, we need to expand the train_comp_df dataframe to include data from Swissprot's composition. Therefore, we must:\n",
        "\n",
        "- Add a new column that classifies the data as \"training data\". The column should be called \"dataset\"\n",
        "- We will use this column to add \"hue\" to our barplot. This will allow us to superimpose the SwissProt data to our training data. "
      ],
      "metadata": {
        "id": "e4BnoE92AUQ3"
      }
    },
    {
      "cell_type": "code",
      "source": [
        "train_comp_df['dataset'] = \"training data\""
      ],
      "metadata": {
        "id": "rc5LN6dcDEQ1"
      },
      "execution_count": 92,
      "outputs": []
    },
    {
      "cell_type": "code",
      "source": [
        "train_comp_df.head()"
      ],
      "metadata": {
        "colab": {
          "base_uri": "https://localhost:8080/",
          "height": 206
        },
        "id": "AtB7oKB7Dqtt",
        "outputId": "7b5bc9f8-d090-4dec-835e-da9f19a635bf"
      },
      "execution_count": 93,
      "outputs": [
        {
          "output_type": "execute_result",
          "data": {
            "text/plain": [
              "  residues  percentages        dataset\n",
              "0        G     5.771600  training data\n",
              "1        A    13.144466  training data\n",
              "2        V     8.868555  training data\n",
              "3        P     3.484075  training data\n",
              "4        L    23.191976  training data"
            ],
            "text/html": [
              "\n",
              "  <div id=\"df-42bf3898-62f6-47b5-a214-13451c414560\">\n",
              "    <div class=\"colab-df-container\">\n",
              "      <div>\n",
              "<style scoped>\n",
              "    .dataframe tbody tr th:only-of-type {\n",
              "        vertical-align: middle;\n",
              "    }\n",
              "\n",
              "    .dataframe tbody tr th {\n",
              "        vertical-align: top;\n",
              "    }\n",
              "\n",
              "    .dataframe thead th {\n",
              "        text-align: right;\n",
              "    }\n",
              "</style>\n",
              "<table border=\"1\" class=\"dataframe\">\n",
              "  <thead>\n",
              "    <tr style=\"text-align: right;\">\n",
              "      <th></th>\n",
              "      <th>residues</th>\n",
              "      <th>percentages</th>\n",
              "      <th>dataset</th>\n",
              "    </tr>\n",
              "  </thead>\n",
              "  <tbody>\n",
              "    <tr>\n",
              "      <th>0</th>\n",
              "      <td>G</td>\n",
              "      <td>5.771600</td>\n",
              "      <td>training data</td>\n",
              "    </tr>\n",
              "    <tr>\n",
              "      <th>1</th>\n",
              "      <td>A</td>\n",
              "      <td>13.144466</td>\n",
              "      <td>training data</td>\n",
              "    </tr>\n",
              "    <tr>\n",
              "      <th>2</th>\n",
              "      <td>V</td>\n",
              "      <td>8.868555</td>\n",
              "      <td>training data</td>\n",
              "    </tr>\n",
              "    <tr>\n",
              "      <th>3</th>\n",
              "      <td>P</td>\n",
              "      <td>3.484075</td>\n",
              "      <td>training data</td>\n",
              "    </tr>\n",
              "    <tr>\n",
              "      <th>4</th>\n",
              "      <td>L</td>\n",
              "      <td>23.191976</td>\n",
              "      <td>training data</td>\n",
              "    </tr>\n",
              "  </tbody>\n",
              "</table>\n",
              "</div>\n",
              "      <button class=\"colab-df-convert\" onclick=\"convertToInteractive('df-42bf3898-62f6-47b5-a214-13451c414560')\"\n",
              "              title=\"Convert this dataframe to an interactive table.\"\n",
              "              style=\"display:none;\">\n",
              "        \n",
              "  <svg xmlns=\"http://www.w3.org/2000/svg\" height=\"24px\"viewBox=\"0 0 24 24\"\n",
              "       width=\"24px\">\n",
              "    <path d=\"M0 0h24v24H0V0z\" fill=\"none\"/>\n",
              "    <path d=\"M18.56 5.44l.94 2.06.94-2.06 2.06-.94-2.06-.94-.94-2.06-.94 2.06-2.06.94zm-11 1L8.5 8.5l.94-2.06 2.06-.94-2.06-.94L8.5 2.5l-.94 2.06-2.06.94zm10 10l.94 2.06.94-2.06 2.06-.94-2.06-.94-.94-2.06-.94 2.06-2.06.94z\"/><path d=\"M17.41 7.96l-1.37-1.37c-.4-.4-.92-.59-1.43-.59-.52 0-1.04.2-1.43.59L10.3 9.45l-7.72 7.72c-.78.78-.78 2.05 0 2.83L4 21.41c.39.39.9.59 1.41.59.51 0 1.02-.2 1.41-.59l7.78-7.78 2.81-2.81c.8-.78.8-2.07 0-2.86zM5.41 20L4 18.59l7.72-7.72 1.47 1.35L5.41 20z\"/>\n",
              "  </svg>\n",
              "      </button>\n",
              "      \n",
              "  <style>\n",
              "    .colab-df-container {\n",
              "      display:flex;\n",
              "      flex-wrap:wrap;\n",
              "      gap: 12px;\n",
              "    }\n",
              "\n",
              "    .colab-df-convert {\n",
              "      background-color: #E8F0FE;\n",
              "      border: none;\n",
              "      border-radius: 50%;\n",
              "      cursor: pointer;\n",
              "      display: none;\n",
              "      fill: #1967D2;\n",
              "      height: 32px;\n",
              "      padding: 0 0 0 0;\n",
              "      width: 32px;\n",
              "    }\n",
              "\n",
              "    .colab-df-convert:hover {\n",
              "      background-color: #E2EBFA;\n",
              "      box-shadow: 0px 1px 2px rgba(60, 64, 67, 0.3), 0px 1px 3px 1px rgba(60, 64, 67, 0.15);\n",
              "      fill: #174EA6;\n",
              "    }\n",
              "\n",
              "    [theme=dark] .colab-df-convert {\n",
              "      background-color: #3B4455;\n",
              "      fill: #D2E3FC;\n",
              "    }\n",
              "\n",
              "    [theme=dark] .colab-df-convert:hover {\n",
              "      background-color: #434B5C;\n",
              "      box-shadow: 0px 1px 3px 1px rgba(0, 0, 0, 0.15);\n",
              "      filter: drop-shadow(0px 1px 2px rgba(0, 0, 0, 0.3));\n",
              "      fill: #FFFFFF;\n",
              "    }\n",
              "  </style>\n",
              "\n",
              "      <script>\n",
              "        const buttonEl =\n",
              "          document.querySelector('#df-42bf3898-62f6-47b5-a214-13451c414560 button.colab-df-convert');\n",
              "        buttonEl.style.display =\n",
              "          google.colab.kernel.accessAllowed ? 'block' : 'none';\n",
              "\n",
              "        async function convertToInteractive(key) {\n",
              "          const element = document.querySelector('#df-42bf3898-62f6-47b5-a214-13451c414560');\n",
              "          const dataTable =\n",
              "            await google.colab.kernel.invokeFunction('convertToInteractive',\n",
              "                                                     [key], {});\n",
              "          if (!dataTable) return;\n",
              "\n",
              "          const docLinkHtml = 'Like what you see? Visit the ' +\n",
              "            '<a target=\"_blank\" href=https://colab.research.google.com/notebooks/data_table.ipynb>data table notebook</a>'\n",
              "            + ' to learn more about interactive tables.';\n",
              "          element.innerHTML = '';\n",
              "          dataTable['output_type'] = 'display_data';\n",
              "          await google.colab.output.renderOutput(dataTable, element);\n",
              "          const docLink = document.createElement('div');\n",
              "          docLink.innerHTML = docLinkHtml;\n",
              "          element.appendChild(docLink);\n",
              "        }\n",
              "      </script>\n",
              "    </div>\n",
              "  </div>\n",
              "  "
            ]
          },
          "metadata": {},
          "execution_count": 93
        }
      ]
    },
    {
      "cell_type": "markdown",
      "source": [
        "#### B. Adding the background composition"
      ],
      "metadata": {
        "id": "t7cd5afuFLHO"
      }
    },
    {
      "cell_type": "code",
      "source": [
        "aa_background_composition = {}\n",
        "aa_list=['A','Q','L','S','R','E','K','T','N','G','M','W','D','H','F','Y','C','I','P','V']\n",
        "aa_percentage=[8.25,3.93,9.65,6.64,5.53,6.72,5.80,5.35,4.06,7.07,2.41,1.10,5.46,2.27,3.86,2.92,1.38,5.91,4.74,6.86]\n",
        "for i,j in zip(aa_list,aa_percentage):\n",
        "  aa_background_composition[i]=j"
      ],
      "metadata": {
        "id": "W1C1YGlLEXcJ"
      },
      "execution_count": 94,
      "outputs": []
    },
    {
      "cell_type": "code",
      "source": [
        "aa_background_composition"
      ],
      "metadata": {
        "colab": {
          "base_uri": "https://localhost:8080/"
        },
        "id": "5-rvPKr8FfpD",
        "outputId": "78abdad8-6de5-453e-c693-a3b64528137f"
      },
      "execution_count": 95,
      "outputs": [
        {
          "output_type": "execute_result",
          "data": {
            "text/plain": [
              "{'A': 8.25,\n",
              " 'Q': 3.93,\n",
              " 'L': 9.65,\n",
              " 'S': 6.64,\n",
              " 'R': 5.53,\n",
              " 'E': 6.72,\n",
              " 'K': 5.8,\n",
              " 'T': 5.35,\n",
              " 'N': 4.06,\n",
              " 'G': 7.07,\n",
              " 'M': 2.41,\n",
              " 'W': 1.1,\n",
              " 'D': 5.46,\n",
              " 'H': 2.27,\n",
              " 'F': 3.86,\n",
              " 'Y': 2.92,\n",
              " 'C': 1.38,\n",
              " 'I': 5.91,\n",
              " 'P': 4.74,\n",
              " 'V': 6.86}"
            ]
          },
          "metadata": {},
          "execution_count": 95
        }
      ]
    },
    {
      "cell_type": "code",
      "source": [
        "comp_background_list = [aa_background_composition[residue] for residue in res]"
      ],
      "metadata": {
        "id": "OJ0751dtFjfS"
      },
      "execution_count": 96,
      "outputs": []
    },
    {
      "cell_type": "code",
      "source": [
        "comp_background_array = np.array(comp_background_list)"
      ],
      "metadata": {
        "id": "0C7-JOrYFuq5"
      },
      "execution_count": 97,
      "outputs": []
    },
    {
      "cell_type": "code",
      "source": [
        "comp_background_array"
      ],
      "metadata": {
        "colab": {
          "base_uri": "https://localhost:8080/"
        },
        "id": "VQ2AVlplF_dc",
        "outputId": "b3522af2-0525-428e-9778-9af7b74c8f61"
      },
      "execution_count": 98,
      "outputs": [
        {
          "output_type": "execute_result",
          "data": {
            "text/plain": [
              "array([7.07, 8.25, 6.86, 4.74, 9.65, 5.91, 2.41, 3.86, 1.1 , 2.92, 6.64,\n",
              "       5.35, 1.38, 4.06, 3.93, 2.27, 5.46, 6.72, 5.8 , 5.53])"
            ]
          },
          "metadata": {},
          "execution_count": 98
        }
      ]
    },
    {
      "cell_type": "code",
      "source": [
        "background_comp_df = pd.DataFrame({'residues':res, 'percentages':comp_background_array})"
      ],
      "metadata": {
        "id": "2lMbEo_sGSof"
      },
      "execution_count": 99,
      "outputs": []
    },
    {
      "cell_type": "code",
      "source": [
        "background_comp_df['dataset'] = 'Swissprot'"
      ],
      "metadata": {
        "id": "41CKzg7MGkIS"
      },
      "execution_count": 100,
      "outputs": []
    },
    {
      "cell_type": "code",
      "source": [
        "train_and_backg_df = pd.concat([train_comp_df, background_comp_df], axis=0, ignore_index=True)"
      ],
      "metadata": {
        "id": "wdqckTbkF_4M"
      },
      "execution_count": 101,
      "outputs": []
    },
    {
      "cell_type": "code",
      "source": [
        "train_and_backg_df"
      ],
      "metadata": {
        "colab": {
          "base_uri": "https://localhost:8080/",
          "height": 1000
        },
        "id": "WjqY4rHwhh2A",
        "outputId": "1c6d69b4-349e-4d03-8499-a79f3ef721af"
      },
      "execution_count": 102,
      "outputs": [
        {
          "output_type": "execute_result",
          "data": {
            "text/plain": [
              "   residues  percentages        dataset\n",
              "0         G     5.771600  training data\n",
              "1         A    13.144466  training data\n",
              "2         V     8.868555  training data\n",
              "3         P     3.484075  training data\n",
              "4         L    23.191976  training data\n",
              "5         I     4.205525  training data\n",
              "6         M     6.563435  training data\n",
              "7         F     5.296498  training data\n",
              "8         W     1.847616  training data\n",
              "9         Y     0.915010  training data\n",
              "10        S     7.267288  training data\n",
              "11        T     4.751012  training data\n",
              "12        C     2.727433  training data\n",
              "13        N     0.950202  training data\n",
              "14        Q     2.076368  training data\n",
              "15        H     0.985395  training data\n",
              "16        D     0.967799  training data\n",
              "17        E     1.530882  training data\n",
              "18        K     2.340313  training data\n",
              "19        R     3.114552  training data\n",
              "20        G     7.070000      Swissprot\n",
              "21        A     8.250000      Swissprot\n",
              "22        V     6.860000      Swissprot\n",
              "23        P     4.740000      Swissprot\n",
              "24        L     9.650000      Swissprot\n",
              "25        I     5.910000      Swissprot\n",
              "26        M     2.410000      Swissprot\n",
              "27        F     3.860000      Swissprot\n",
              "28        W     1.100000      Swissprot\n",
              "29        Y     2.920000      Swissprot\n",
              "30        S     6.640000      Swissprot\n",
              "31        T     5.350000      Swissprot\n",
              "32        C     1.380000      Swissprot\n",
              "33        N     4.060000      Swissprot\n",
              "34        Q     3.930000      Swissprot\n",
              "35        H     2.270000      Swissprot\n",
              "36        D     5.460000      Swissprot\n",
              "37        E     6.720000      Swissprot\n",
              "38        K     5.800000      Swissprot\n",
              "39        R     5.530000      Swissprot"
            ],
            "text/html": [
              "\n",
              "  <div id=\"df-941dff29-0b79-41a9-a369-aba00569cc55\">\n",
              "    <div class=\"colab-df-container\">\n",
              "      <div>\n",
              "<style scoped>\n",
              "    .dataframe tbody tr th:only-of-type {\n",
              "        vertical-align: middle;\n",
              "    }\n",
              "\n",
              "    .dataframe tbody tr th {\n",
              "        vertical-align: top;\n",
              "    }\n",
              "\n",
              "    .dataframe thead th {\n",
              "        text-align: right;\n",
              "    }\n",
              "</style>\n",
              "<table border=\"1\" class=\"dataframe\">\n",
              "  <thead>\n",
              "    <tr style=\"text-align: right;\">\n",
              "      <th></th>\n",
              "      <th>residues</th>\n",
              "      <th>percentages</th>\n",
              "      <th>dataset</th>\n",
              "    </tr>\n",
              "  </thead>\n",
              "  <tbody>\n",
              "    <tr>\n",
              "      <th>0</th>\n",
              "      <td>G</td>\n",
              "      <td>5.771600</td>\n",
              "      <td>training data</td>\n",
              "    </tr>\n",
              "    <tr>\n",
              "      <th>1</th>\n",
              "      <td>A</td>\n",
              "      <td>13.144466</td>\n",
              "      <td>training data</td>\n",
              "    </tr>\n",
              "    <tr>\n",
              "      <th>2</th>\n",
              "      <td>V</td>\n",
              "      <td>8.868555</td>\n",
              "      <td>training data</td>\n",
              "    </tr>\n",
              "    <tr>\n",
              "      <th>3</th>\n",
              "      <td>P</td>\n",
              "      <td>3.484075</td>\n",
              "      <td>training data</td>\n",
              "    </tr>\n",
              "    <tr>\n",
              "      <th>4</th>\n",
              "      <td>L</td>\n",
              "      <td>23.191976</td>\n",
              "      <td>training data</td>\n",
              "    </tr>\n",
              "    <tr>\n",
              "      <th>5</th>\n",
              "      <td>I</td>\n",
              "      <td>4.205525</td>\n",
              "      <td>training data</td>\n",
              "    </tr>\n",
              "    <tr>\n",
              "      <th>6</th>\n",
              "      <td>M</td>\n",
              "      <td>6.563435</td>\n",
              "      <td>training data</td>\n",
              "    </tr>\n",
              "    <tr>\n",
              "      <th>7</th>\n",
              "      <td>F</td>\n",
              "      <td>5.296498</td>\n",
              "      <td>training data</td>\n",
              "    </tr>\n",
              "    <tr>\n",
              "      <th>8</th>\n",
              "      <td>W</td>\n",
              "      <td>1.847616</td>\n",
              "      <td>training data</td>\n",
              "    </tr>\n",
              "    <tr>\n",
              "      <th>9</th>\n",
              "      <td>Y</td>\n",
              "      <td>0.915010</td>\n",
              "      <td>training data</td>\n",
              "    </tr>\n",
              "    <tr>\n",
              "      <th>10</th>\n",
              "      <td>S</td>\n",
              "      <td>7.267288</td>\n",
              "      <td>training data</td>\n",
              "    </tr>\n",
              "    <tr>\n",
              "      <th>11</th>\n",
              "      <td>T</td>\n",
              "      <td>4.751012</td>\n",
              "      <td>training data</td>\n",
              "    </tr>\n",
              "    <tr>\n",
              "      <th>12</th>\n",
              "      <td>C</td>\n",
              "      <td>2.727433</td>\n",
              "      <td>training data</td>\n",
              "    </tr>\n",
              "    <tr>\n",
              "      <th>13</th>\n",
              "      <td>N</td>\n",
              "      <td>0.950202</td>\n",
              "      <td>training data</td>\n",
              "    </tr>\n",
              "    <tr>\n",
              "      <th>14</th>\n",
              "      <td>Q</td>\n",
              "      <td>2.076368</td>\n",
              "      <td>training data</td>\n",
              "    </tr>\n",
              "    <tr>\n",
              "      <th>15</th>\n",
              "      <td>H</td>\n",
              "      <td>0.985395</td>\n",
              "      <td>training data</td>\n",
              "    </tr>\n",
              "    <tr>\n",
              "      <th>16</th>\n",
              "      <td>D</td>\n",
              "      <td>0.967799</td>\n",
              "      <td>training data</td>\n",
              "    </tr>\n",
              "    <tr>\n",
              "      <th>17</th>\n",
              "      <td>E</td>\n",
              "      <td>1.530882</td>\n",
              "      <td>training data</td>\n",
              "    </tr>\n",
              "    <tr>\n",
              "      <th>18</th>\n",
              "      <td>K</td>\n",
              "      <td>2.340313</td>\n",
              "      <td>training data</td>\n",
              "    </tr>\n",
              "    <tr>\n",
              "      <th>19</th>\n",
              "      <td>R</td>\n",
              "      <td>3.114552</td>\n",
              "      <td>training data</td>\n",
              "    </tr>\n",
              "    <tr>\n",
              "      <th>20</th>\n",
              "      <td>G</td>\n",
              "      <td>7.070000</td>\n",
              "      <td>Swissprot</td>\n",
              "    </tr>\n",
              "    <tr>\n",
              "      <th>21</th>\n",
              "      <td>A</td>\n",
              "      <td>8.250000</td>\n",
              "      <td>Swissprot</td>\n",
              "    </tr>\n",
              "    <tr>\n",
              "      <th>22</th>\n",
              "      <td>V</td>\n",
              "      <td>6.860000</td>\n",
              "      <td>Swissprot</td>\n",
              "    </tr>\n",
              "    <tr>\n",
              "      <th>23</th>\n",
              "      <td>P</td>\n",
              "      <td>4.740000</td>\n",
              "      <td>Swissprot</td>\n",
              "    </tr>\n",
              "    <tr>\n",
              "      <th>24</th>\n",
              "      <td>L</td>\n",
              "      <td>9.650000</td>\n",
              "      <td>Swissprot</td>\n",
              "    </tr>\n",
              "    <tr>\n",
              "      <th>25</th>\n",
              "      <td>I</td>\n",
              "      <td>5.910000</td>\n",
              "      <td>Swissprot</td>\n",
              "    </tr>\n",
              "    <tr>\n",
              "      <th>26</th>\n",
              "      <td>M</td>\n",
              "      <td>2.410000</td>\n",
              "      <td>Swissprot</td>\n",
              "    </tr>\n",
              "    <tr>\n",
              "      <th>27</th>\n",
              "      <td>F</td>\n",
              "      <td>3.860000</td>\n",
              "      <td>Swissprot</td>\n",
              "    </tr>\n",
              "    <tr>\n",
              "      <th>28</th>\n",
              "      <td>W</td>\n",
              "      <td>1.100000</td>\n",
              "      <td>Swissprot</td>\n",
              "    </tr>\n",
              "    <tr>\n",
              "      <th>29</th>\n",
              "      <td>Y</td>\n",
              "      <td>2.920000</td>\n",
              "      <td>Swissprot</td>\n",
              "    </tr>\n",
              "    <tr>\n",
              "      <th>30</th>\n",
              "      <td>S</td>\n",
              "      <td>6.640000</td>\n",
              "      <td>Swissprot</td>\n",
              "    </tr>\n",
              "    <tr>\n",
              "      <th>31</th>\n",
              "      <td>T</td>\n",
              "      <td>5.350000</td>\n",
              "      <td>Swissprot</td>\n",
              "    </tr>\n",
              "    <tr>\n",
              "      <th>32</th>\n",
              "      <td>C</td>\n",
              "      <td>1.380000</td>\n",
              "      <td>Swissprot</td>\n",
              "    </tr>\n",
              "    <tr>\n",
              "      <th>33</th>\n",
              "      <td>N</td>\n",
              "      <td>4.060000</td>\n",
              "      <td>Swissprot</td>\n",
              "    </tr>\n",
              "    <tr>\n",
              "      <th>34</th>\n",
              "      <td>Q</td>\n",
              "      <td>3.930000</td>\n",
              "      <td>Swissprot</td>\n",
              "    </tr>\n",
              "    <tr>\n",
              "      <th>35</th>\n",
              "      <td>H</td>\n",
              "      <td>2.270000</td>\n",
              "      <td>Swissprot</td>\n",
              "    </tr>\n",
              "    <tr>\n",
              "      <th>36</th>\n",
              "      <td>D</td>\n",
              "      <td>5.460000</td>\n",
              "      <td>Swissprot</td>\n",
              "    </tr>\n",
              "    <tr>\n",
              "      <th>37</th>\n",
              "      <td>E</td>\n",
              "      <td>6.720000</td>\n",
              "      <td>Swissprot</td>\n",
              "    </tr>\n",
              "    <tr>\n",
              "      <th>38</th>\n",
              "      <td>K</td>\n",
              "      <td>5.800000</td>\n",
              "      <td>Swissprot</td>\n",
              "    </tr>\n",
              "    <tr>\n",
              "      <th>39</th>\n",
              "      <td>R</td>\n",
              "      <td>5.530000</td>\n",
              "      <td>Swissprot</td>\n",
              "    </tr>\n",
              "  </tbody>\n",
              "</table>\n",
              "</div>\n",
              "      <button class=\"colab-df-convert\" onclick=\"convertToInteractive('df-941dff29-0b79-41a9-a369-aba00569cc55')\"\n",
              "              title=\"Convert this dataframe to an interactive table.\"\n",
              "              style=\"display:none;\">\n",
              "        \n",
              "  <svg xmlns=\"http://www.w3.org/2000/svg\" height=\"24px\"viewBox=\"0 0 24 24\"\n",
              "       width=\"24px\">\n",
              "    <path d=\"M0 0h24v24H0V0z\" fill=\"none\"/>\n",
              "    <path d=\"M18.56 5.44l.94 2.06.94-2.06 2.06-.94-2.06-.94-.94-2.06-.94 2.06-2.06.94zm-11 1L8.5 8.5l.94-2.06 2.06-.94-2.06-.94L8.5 2.5l-.94 2.06-2.06.94zm10 10l.94 2.06.94-2.06 2.06-.94-2.06-.94-.94-2.06-.94 2.06-2.06.94z\"/><path d=\"M17.41 7.96l-1.37-1.37c-.4-.4-.92-.59-1.43-.59-.52 0-1.04.2-1.43.59L10.3 9.45l-7.72 7.72c-.78.78-.78 2.05 0 2.83L4 21.41c.39.39.9.59 1.41.59.51 0 1.02-.2 1.41-.59l7.78-7.78 2.81-2.81c.8-.78.8-2.07 0-2.86zM5.41 20L4 18.59l7.72-7.72 1.47 1.35L5.41 20z\"/>\n",
              "  </svg>\n",
              "      </button>\n",
              "      \n",
              "  <style>\n",
              "    .colab-df-container {\n",
              "      display:flex;\n",
              "      flex-wrap:wrap;\n",
              "      gap: 12px;\n",
              "    }\n",
              "\n",
              "    .colab-df-convert {\n",
              "      background-color: #E8F0FE;\n",
              "      border: none;\n",
              "      border-radius: 50%;\n",
              "      cursor: pointer;\n",
              "      display: none;\n",
              "      fill: #1967D2;\n",
              "      height: 32px;\n",
              "      padding: 0 0 0 0;\n",
              "      width: 32px;\n",
              "    }\n",
              "\n",
              "    .colab-df-convert:hover {\n",
              "      background-color: #E2EBFA;\n",
              "      box-shadow: 0px 1px 2px rgba(60, 64, 67, 0.3), 0px 1px 3px 1px rgba(60, 64, 67, 0.15);\n",
              "      fill: #174EA6;\n",
              "    }\n",
              "\n",
              "    [theme=dark] .colab-df-convert {\n",
              "      background-color: #3B4455;\n",
              "      fill: #D2E3FC;\n",
              "    }\n",
              "\n",
              "    [theme=dark] .colab-df-convert:hover {\n",
              "      background-color: #434B5C;\n",
              "      box-shadow: 0px 1px 3px 1px rgba(0, 0, 0, 0.15);\n",
              "      filter: drop-shadow(0px 1px 2px rgba(0, 0, 0, 0.3));\n",
              "      fill: #FFFFFF;\n",
              "    }\n",
              "  </style>\n",
              "\n",
              "      <script>\n",
              "        const buttonEl =\n",
              "          document.querySelector('#df-941dff29-0b79-41a9-a369-aba00569cc55 button.colab-df-convert');\n",
              "        buttonEl.style.display =\n",
              "          google.colab.kernel.accessAllowed ? 'block' : 'none';\n",
              "\n",
              "        async function convertToInteractive(key) {\n",
              "          const element = document.querySelector('#df-941dff29-0b79-41a9-a369-aba00569cc55');\n",
              "          const dataTable =\n",
              "            await google.colab.kernel.invokeFunction('convertToInteractive',\n",
              "                                                     [key], {});\n",
              "          if (!dataTable) return;\n",
              "\n",
              "          const docLinkHtml = 'Like what you see? Visit the ' +\n",
              "            '<a target=\"_blank\" href=https://colab.research.google.com/notebooks/data_table.ipynb>data table notebook</a>'\n",
              "            + ' to learn more about interactive tables.';\n",
              "          element.innerHTML = '';\n",
              "          dataTable['output_type'] = 'display_data';\n",
              "          await google.colab.output.renderOutput(dataTable, element);\n",
              "          const docLink = document.createElement('div');\n",
              "          docLink.innerHTML = docLinkHtml;\n",
              "          element.appendChild(docLink);\n",
              "        }\n",
              "      </script>\n",
              "    </div>\n",
              "  </div>\n",
              "  "
            ]
          },
          "metadata": {},
          "execution_count": 102
        }
      ]
    },
    {
      "cell_type": "code",
      "source": [
        "sb.barplot(data=train_and_backg_df, x=\"residues\", y=\"percentages\", hue=\"dataset\")"
      ],
      "metadata": {
        "colab": {
          "base_uri": "https://localhost:8080/",
          "height": 297
        },
        "id": "uEMAR7A3IS6g",
        "outputId": "19b76b56-0581-42e3-cd63-a9ccfe2ddd8e"
      },
      "execution_count": 103,
      "outputs": [
        {
          "output_type": "execute_result",
          "data": {
            "text/plain": [
              "<matplotlib.axes._subplots.AxesSubplot at 0x7f487af48550>"
            ]
          },
          "metadata": {},
          "execution_count": 103
        },
        {
          "output_type": "display_data",
          "data": {
            "text/plain": [
              "<Figure size 432x288 with 1 Axes>"
            ],
            "image/png": "[encoded data removed]"
          },
          "metadata": {
            "needs_background": "light"
          }
        }
      ]
    },
    {
      "cell_type": "markdown",
      "source": [
        "#### C. Repeating the procedure for the benchmark"
      ],
      "metadata": {
        "id": "R-wy1Fl5JmS8"
      }
    },
    {
      "cell_type": "code",
      "source": [
        "bench_sp = bench[bench.Class=='SP']"
      ],
      "metadata": {
        "id": "6BDQ8YhXK5XB"
      },
      "execution_count": 104,
      "outputs": []
    },
    {
      "cell_type": "code",
      "source": [
        "bench_sp.head()"
      ],
      "metadata": {
        "colab": {
          "base_uri": "https://localhost:8080/",
          "height": 548
        },
        "id": "yI79ICUcMSTM",
        "outputId": "d03182f7-622a-4ce4-970d-3dd241e34a2b"
      },
      "execution_count": 105,
      "outputs": [
        {
          "output_type": "execute_result",
          "data": {
            "text/plain": [
              "     UniProtKB accession                                               Taxa  \\\n",
              "6929              A1X158                            Rattus norvegicus (Rat)   \n",
              "6930              D3Z9M3                            Rattus norvegicus (Rat)   \n",
              "6931              P42264  Patiria pectinifera (Starfish) (Asterina pecti...   \n",
              "6932              C9K4X8  Aspergillus oryzae (strain ATCC 42149 / RIB 40...   \n",
              "6933              Q2U4L7                               Homo sapiens (Human)   \n",
              "\n",
              "      Kingdom Class            Sequence (first 50 N-terminal residues)  \\\n",
              "6929  Metazoa    SP  MARNMNILTLFAVLIGSASAVYHPPSWTAWIAPKPWTAWKVHPPAW...   \n",
              "6930  Metazoa    SP  MLVILLMVVVLALSSAQDPNRDFVVSSQDVRERQPSSQQGTVGGQS...   \n",
              "6931  Metazoa    SP  MTAPWRRLRSLVWEYWAGFLVCAFWIPDSRGMPHVIRIGGIFEYAD...   \n",
              "6932    Fungi    SP  MTSNNRHLFQATCLVLLLLHAAFHGGALGEKYCDDDFHMAVFRTCA...   \n",
              "6933  Metazoa    SP  MMHFLSFCLSVASLVSYAGAASTFSPARPPALPLAVKSPYLSTWLS...   \n",
              "\n",
              "                            SP cleavage-site annotation  \n",
              "6929  SSSSSSSSSSSSSSSSSSSSNNNNNNNNNNNNNNNNNNNNNNNNNN...  \n",
              "6930  SSSSSSSSSSSSSSSSNNNNNNNNNNNNNNNNNNNNNNNNNNNNNN...  \n",
              "6931  SSSSSSSSSSSSSSSSSSSSSSSSSSSSSSSNNNNNNNNNNNNNNN...  \n",
              "6932  SSSSSSSSSSSSSSSSSSSSSSSSSSSSSNNNNNNNNNNNNNNNNN...  \n",
              "6933  SSSSSSSSSSSSSSSSSSSSNNNNNNNNNNNNNNNNNNNNNNNNNN...  "
            ],
            "text/html": [
              "\n",
              "  <div id=\"df-15d41114-51b8-4aa7-b212-18f47fcacdc1\">\n",
              "    <div class=\"colab-df-container\">\n",
              "      <div>\n",
              "<style scoped>\n",
              "    .dataframe tbody tr th:only-of-type {\n",
              "        vertical-align: middle;\n",
              "    }\n",
              "\n",
              "    .dataframe tbody tr th {\n",
              "        vertical-align: top;\n",
              "    }\n",
              "\n",
              "    .dataframe thead th {\n",
              "        text-align: right;\n",
              "    }\n",
              "</style>\n",
              "<table border=\"1\" class=\"dataframe\">\n",
              "  <thead>\n",
              "    <tr style=\"text-align: right;\">\n",
              "      <th></th>\n",
              "      <th>UniProtKB accession</th>\n",
              "      <th>Taxa</th>\n",
              "      <th>Kingdom</th>\n",
              "      <th>Class</th>\n",
              "      <th>Sequence (first 50 N-terminal residues)</th>\n",
              "      <th>SP cleavage-site annotation</th>\n",
              "    </tr>\n",
              "  </thead>\n",
              "  <tbody>\n",
              "    <tr>\n",
              "      <th>6929</th>\n",
              "      <td>A1X158</td>\n",
              "      <td>Rattus norvegicus (Rat)</td>\n",
              "      <td>Metazoa</td>\n",
              "      <td>SP</td>\n",
              "      <td>MARNMNILTLFAVLIGSASAVYHPPSWTAWIAPKPWTAWKVHPPAW...</td>\n",
              "      <td>SSSSSSSSSSSSSSSSSSSSNNNNNNNNNNNNNNNNNNNNNNNNNN...</td>\n",
              "    </tr>\n",
              "    <tr>\n",
              "      <th>6930</th>\n",
              "      <td>D3Z9M3</td>\n",
              "      <td>Rattus norvegicus (Rat)</td>\n",
              "      <td>Metazoa</td>\n",
              "      <td>SP</td>\n",
              "      <td>MLVILLMVVVLALSSAQDPNRDFVVSSQDVRERQPSSQQGTVGGQS...</td>\n",
              "      <td>SSSSSSSSSSSSSSSSNNNNNNNNNNNNNNNNNNNNNNNNNNNNNN...</td>\n",
              "    </tr>\n",
              "    <tr>\n",
              "      <th>6931</th>\n",
              "      <td>P42264</td>\n",
              "      <td>Patiria pectinifera (Starfish) (Asterina pecti...</td>\n",
              "      <td>Metazoa</td>\n",
              "      <td>SP</td>\n",
              "      <td>MTAPWRRLRSLVWEYWAGFLVCAFWIPDSRGMPHVIRIGGIFEYAD...</td>\n",
              "      <td>SSSSSSSSSSSSSSSSSSSSSSSSSSSSSSSNNNNNNNNNNNNNNN...</td>\n",
              "    </tr>\n",
              "    <tr>\n",
              "      <th>6932</th>\n",
              "      <td>C9K4X8</td>\n",
              "      <td>Aspergillus oryzae (strain ATCC 42149 / RIB 40...</td>\n",
              "      <td>Fungi</td>\n",
              "      <td>SP</td>\n",
              "      <td>MTSNNRHLFQATCLVLLLLHAAFHGGALGEKYCDDDFHMAVFRTCA...</td>\n",
              "      <td>SSSSSSSSSSSSSSSSSSSSSSSSSSSSSNNNNNNNNNNNNNNNNN...</td>\n",
              "    </tr>\n",
              "    <tr>\n",
              "      <th>6933</th>\n",
              "      <td>Q2U4L7</td>\n",
              "      <td>Homo sapiens (Human)</td>\n",
              "      <td>Metazoa</td>\n",
              "      <td>SP</td>\n",
              "      <td>MMHFLSFCLSVASLVSYAGAASTFSPARPPALPLAVKSPYLSTWLS...</td>\n",
              "      <td>SSSSSSSSSSSSSSSSSSSSNNNNNNNNNNNNNNNNNNNNNNNNNN...</td>\n",
              "    </tr>\n",
              "  </tbody>\n",
              "</table>\n",
              "</div>\n",
              "      <button class=\"colab-df-convert\" onclick=\"convertToInteractive('df-15d41114-51b8-4aa7-b212-18f47fcacdc1')\"\n",
              "              title=\"Convert this dataframe to an interactive table.\"\n",
              "              style=\"display:none;\">\n",
              "        \n",
              "  <svg xmlns=\"http://www.w3.org/2000/svg\" height=\"24px\"viewBox=\"0 0 24 24\"\n",
              "       width=\"24px\">\n",
              "    <path d=\"M0 0h24v24H0V0z\" fill=\"none\"/>\n",
              "    <path d=\"M18.56 5.44l.94 2.06.94-2.06 2.06-.94-2.06-.94-.94-2.06-.94 2.06-2.06.94zm-11 1L8.5 8.5l.94-2.06 2.06-.94-2.06-.94L8.5 2.5l-.94 2.06-2.06.94zm10 10l.94 2.06.94-2.06 2.06-.94-2.06-.94-.94-2.06-.94 2.06-2.06.94z\"/><path d=\"M17.41 7.96l-1.37-1.37c-.4-.4-.92-.59-1.43-.59-.52 0-1.04.2-1.43.59L10.3 9.45l-7.72 7.72c-.78.78-.78 2.05 0 2.83L4 21.41c.39.39.9.59 1.41.59.51 0 1.02-.2 1.41-.59l7.78-7.78 2.81-2.81c.8-.78.8-2.07 0-2.86zM5.41 20L4 18.59l7.72-7.72 1.47 1.35L5.41 20z\"/>\n",
              "  </svg>\n",
              "      </button>\n",
              "      \n",
              "  <style>\n",
              "    .colab-df-container {\n",
              "      display:flex;\n",
              "      flex-wrap:wrap;\n",
              "      gap: 12px;\n",
              "    }\n",
              "\n",
              "    .colab-df-convert {\n",
              "      background-color: #E8F0FE;\n",
              "      border: none;\n",
              "      border-radius: 50%;\n",
              "      cursor: pointer;\n",
              "      display: none;\n",
              "      fill: #1967D2;\n",
              "      height: 32px;\n",
              "      padding: 0 0 0 0;\n",
              "      width: 32px;\n",
              "    }\n",
              "\n",
              "    .colab-df-convert:hover {\n",
              "      background-color: #E2EBFA;\n",
              "      box-shadow: 0px 1px 2px rgba(60, 64, 67, 0.3), 0px 1px 3px 1px rgba(60, 64, 67, 0.15);\n",
              "      fill: #174EA6;\n",
              "    }\n",
              "\n",
              "    [theme=dark] .colab-df-convert {\n",
              "      background-color: #3B4455;\n",
              "      fill: #D2E3FC;\n",
              "    }\n",
              "\n",
              "    [theme=dark] .colab-df-convert:hover {\n",
              "      background-color: #434B5C;\n",
              "      box-shadow: 0px 1px 3px 1px rgba(0, 0, 0, 0.15);\n",
              "      filter: drop-shadow(0px 1px 2px rgba(0, 0, 0, 0.3));\n",
              "      fill: #FFFFFF;\n",
              "    }\n",
              "  </style>\n",
              "\n",
              "      <script>\n",
              "        const buttonEl =\n",
              "          document.querySelector('#df-15d41114-51b8-4aa7-b212-18f47fcacdc1 button.colab-df-convert');\n",
              "        buttonEl.style.display =\n",
              "          google.colab.kernel.accessAllowed ? 'block' : 'none';\n",
              "\n",
              "        async function convertToInteractive(key) {\n",
              "          const element = document.querySelector('#df-15d41114-51b8-4aa7-b212-18f47fcacdc1');\n",
              "          const dataTable =\n",
              "            await google.colab.kernel.invokeFunction('convertToInteractive',\n",
              "                                                     [key], {});\n",
              "          if (!dataTable) return;\n",
              "\n",
              "          const docLinkHtml = 'Like what you see? Visit the ' +\n",
              "            '<a target=\"_blank\" href=https://colab.research.google.com/notebooks/data_table.ipynb>data table notebook</a>'\n",
              "            + ' to learn more about interactive tables.';\n",
              "          element.innerHTML = '';\n",
              "          dataTable['output_type'] = 'display_data';\n",
              "          await google.colab.output.renderOutput(dataTable, element);\n",
              "          const docLink = document.createElement('div');\n",
              "          docLink.innerHTML = docLinkHtml;\n",
              "          element.appendChild(docLink);\n",
              "        }\n",
              "      </script>\n",
              "    </div>\n",
              "  </div>\n",
              "  "
            ]
          },
          "metadata": {},
          "execution_count": 105
        }
      ]
    },
    {
      "cell_type": "code",
      "source": [
        "bench_comp_dict = composition(bench_sp)"
      ],
      "metadata": {
        "id": "LV3VmTbTMTnP"
      },
      "execution_count": 106,
      "outputs": []
    },
    {
      "cell_type": "code",
      "source": [
        "bench_comp_list = [bench_comp_dict[residue] for residue in res]"
      ],
      "metadata": {
        "id": "xIrgHxu0MfHX"
      },
      "execution_count": 107,
      "outputs": []
    },
    {
      "cell_type": "code",
      "source": [
        "bench_comp_array = np.array(bench_comp_list)"
      ],
      "metadata": {
        "id": "jRzHh6kmMqx-"
      },
      "execution_count": 108,
      "outputs": []
    },
    {
      "cell_type": "code",
      "source": [
        "bench_comp_percentages= (bench_comp_array/bench_comp_array.sum())*100"
      ],
      "metadata": {
        "id": "TYgRbXK0NEsg"
      },
      "execution_count": 109,
      "outputs": []
    },
    {
      "cell_type": "code",
      "source": [
        "bench_comp_df = pd.DataFrame({'residues':res, 'percentages':bench_comp_percentages})"
      ],
      "metadata": {
        "id": "ON06TxHHNObQ"
      },
      "execution_count": 110,
      "outputs": []
    },
    {
      "cell_type": "code",
      "source": [
        "bench_comp_df['dataset'] = \"benchmark data\""
      ],
      "metadata": {
        "id": "MyECTS29g4f8"
      },
      "execution_count": 111,
      "outputs": []
    },
    {
      "cell_type": "code",
      "source": [
        "bench_comp_df.shape #adding background rows"
      ],
      "metadata": {
        "colab": {
          "base_uri": "https://localhost:8080/"
        },
        "id": "8QHuIDW_gBtT",
        "outputId": "cee92289-fa91-43b0-eac5-d1efd564461d"
      },
      "execution_count": 112,
      "outputs": [
        {
          "output_type": "execute_result",
          "data": {
            "text/plain": [
              "(20, 3)"
            ]
          },
          "metadata": {},
          "execution_count": 112
        }
      ]
    },
    {
      "cell_type": "code",
      "source": [
        "bench_and_backg_df = pd.concat([bench_comp_df, background_comp_df], axis=0, ignore_index=True) #adding the background rows"
      ],
      "metadata": {
        "id": "xz-W_EdFUXCs"
      },
      "execution_count": 113,
      "outputs": []
    },
    {
      "cell_type": "code",
      "source": [
        "bench_and_backg_df"
      ],
      "metadata": {
        "colab": {
          "base_uri": "https://localhost:8080/",
          "height": 1000
        },
        "id": "mPyDhGy-gnlS",
        "outputId": "05de68e7-1015-45a1-c4f2-876428ff6172"
      },
      "execution_count": 114,
      "outputs": [
        {
          "output_type": "execute_result",
          "data": {
            "text/plain": [
              "   residues  percentages         dataset\n",
              "0         G     6.149891  benchmark data\n",
              "1         A    13.881748  benchmark data\n",
              "2         V     8.068025  benchmark data\n",
              "3         P     4.132885  benchmark data\n",
              "4         L    20.506229  benchmark data\n",
              "5         I     4.409729  benchmark data\n",
              "6         M     5.991695  benchmark data\n",
              "7         F     4.805220  benchmark data\n",
              "8         W     2.036781  benchmark data\n",
              "9         Y     1.028278  benchmark data\n",
              "10        S     7.494562  benchmark data\n",
              "11        T     4.963417  benchmark data\n",
              "12        C     3.084833  benchmark data\n",
              "13        N     1.127150  benchmark data\n",
              "14        Q     2.076330  benchmark data\n",
              "15        H     1.621515  benchmark data\n",
              "16        D     1.127150  benchmark data\n",
              "17        E     1.324896  benchmark data\n",
              "18        K     2.036781  benchmark data\n",
              "19        R     4.132885  benchmark data\n",
              "20        G     7.070000       Swissprot\n",
              "21        A     8.250000       Swissprot\n",
              "22        V     6.860000       Swissprot\n",
              "23        P     4.740000       Swissprot\n",
              "24        L     9.650000       Swissprot\n",
              "25        I     5.910000       Swissprot\n",
              "26        M     2.410000       Swissprot\n",
              "27        F     3.860000       Swissprot\n",
              "28        W     1.100000       Swissprot\n",
              "29        Y     2.920000       Swissprot\n",
              "30        S     6.640000       Swissprot\n",
              "31        T     5.350000       Swissprot\n",
              "32        C     1.380000       Swissprot\n",
              "33        N     4.060000       Swissprot\n",
              "34        Q     3.930000       Swissprot\n",
              "35        H     2.270000       Swissprot\n",
              "36        D     5.460000       Swissprot\n",
              "37        E     6.720000       Swissprot\n",
              "38        K     5.800000       Swissprot\n",
              "39        R     5.530000       Swissprot"
            ],
            "text/html": [
              "\n",
              "  <div id=\"df-4b97a200-4caa-4e1c-8ad3-b1acc9f7319b\">\n",
              "    <div class=\"colab-df-container\">\n",
              "      <div>\n",
              "<style scoped>\n",
              "    .dataframe tbody tr th:only-of-type {\n",
              "        vertical-align: middle;\n",
              "    }\n",
              "\n",
              "    .dataframe tbody tr th {\n",
              "        vertical-align: top;\n",
              "    }\n",
              "\n",
              "    .dataframe thead th {\n",
              "        text-align: right;\n",
              "    }\n",
              "</style>\n",
              "<table border=\"1\" class=\"dataframe\">\n",
              "  <thead>\n",
              "    <tr style=\"text-align: right;\">\n",
              "      <th></th>\n",
              "      <th>residues</th>\n",
              "      <th>percentages</th>\n",
              "      <th>dataset</th>\n",
              "    </tr>\n",
              "  </thead>\n",
              "  <tbody>\n",
              "    <tr>\n",
              "      <th>0</th>\n",
              "      <td>G</td>\n",
              "      <td>6.149891</td>\n",
              "      <td>benchmark data</td>\n",
              "    </tr>\n",
              "    <tr>\n",
              "      <th>1</th>\n",
              "      <td>A</td>\n",
              "      <td>13.881748</td>\n",
              "      <td>benchmark data</td>\n",
              "    </tr>\n",
              "    <tr>\n",
              "      <th>2</th>\n",
              "      <td>V</td>\n",
              "      <td>8.068025</td>\n",
              "      <td>benchmark data</td>\n",
              "    </tr>\n",
              "    <tr>\n",
              "      <th>3</th>\n",
              "      <td>P</td>\n",
              "      <td>4.132885</td>\n",
              "      <td>benchmark data</td>\n",
              "    </tr>\n",
              "    <tr>\n",
              "      <th>4</th>\n",
              "      <td>L</td>\n",
              "      <td>20.506229</td>\n",
              "      <td>benchmark data</td>\n",
              "    </tr>\n",
              "    <tr>\n",
              "      <th>5</th>\n",
              "      <td>I</td>\n",
              "      <td>4.409729</td>\n",
              "      <td>benchmark data</td>\n",
              "    </tr>\n",
              "    <tr>\n",
              "      <th>6</th>\n",
              "      <td>M</td>\n",
              "      <td>5.991695</td>\n",
              "      <td>benchmark data</td>\n",
              "    </tr>\n",
              "    <tr>\n",
              "      <th>7</th>\n",
              "      <td>F</td>\n",
              "      <td>4.805220</td>\n",
              "      <td>benchmark data</td>\n",
              "    </tr>\n",
              "    <tr>\n",
              "      <th>8</th>\n",
              "      <td>W</td>\n",
              "      <td>2.036781</td>\n",
              "      <td>benchmark data</td>\n",
              "    </tr>\n",
              "    <tr>\n",
              "      <th>9</th>\n",
              "      <td>Y</td>\n",
              "      <td>1.028278</td>\n",
              "      <td>benchmark data</td>\n",
              "    </tr>\n",
              "    <tr>\n",
              "      <th>10</th>\n",
              "      <td>S</td>\n",
              "      <td>7.494562</td>\n",
              "      <td>benchmark data</td>\n",
              "    </tr>\n",
              "    <tr>\n",
              "      <th>11</th>\n",
              "      <td>T</td>\n",
              "      <td>4.963417</td>\n",
              "      <td>benchmark data</td>\n",
              "    </tr>\n",
              "    <tr>\n",
              "      <th>12</th>\n",
              "      <td>C</td>\n",
              "      <td>3.084833</td>\n",
              "      <td>benchmark data</td>\n",
              "    </tr>\n",
              "    <tr>\n",
              "      <th>13</th>\n",
              "      <td>N</td>\n",
              "      <td>1.127150</td>\n",
              "      <td>benchmark data</td>\n",
              "    </tr>\n",
              "    <tr>\n",
              "      <th>14</th>\n",
              "      <td>Q</td>\n",
              "      <td>2.076330</td>\n",
              "      <td>benchmark data</td>\n",
              "    </tr>\n",
              "    <tr>\n",
              "      <th>15</th>\n",
              "      <td>H</td>\n",
              "      <td>1.621515</td>\n",
              "      <td>benchmark data</td>\n",
              "    </tr>\n",
              "    <tr>\n",
              "      <th>16</th>\n",
              "      <td>D</td>\n",
              "      <td>1.127150</td>\n",
              "      <td>benchmark data</td>\n",
              "    </tr>\n",
              "    <tr>\n",
              "      <th>17</th>\n",
              "      <td>E</td>\n",
              "      <td>1.324896</td>\n",
              "      <td>benchmark data</td>\n",
              "    </tr>\n",
              "    <tr>\n",
              "      <th>18</th>\n",
              "      <td>K</td>\n",
              "      <td>2.036781</td>\n",
              "      <td>benchmark data</td>\n",
              "    </tr>\n",
              "    <tr>\n",
              "      <th>19</th>\n",
              "      <td>R</td>\n",
              "      <td>4.132885</td>\n",
              "      <td>benchmark data</td>\n",
              "    </tr>\n",
              "    <tr>\n",
              "      <th>20</th>\n",
              "      <td>G</td>\n",
              "      <td>7.070000</td>\n",
              "      <td>Swissprot</td>\n",
              "    </tr>\n",
              "    <tr>\n",
              "      <th>21</th>\n",
              "      <td>A</td>\n",
              "      <td>8.250000</td>\n",
              "      <td>Swissprot</td>\n",
              "    </tr>\n",
              "    <tr>\n",
              "      <th>22</th>\n",
              "      <td>V</td>\n",
              "      <td>6.860000</td>\n",
              "      <td>Swissprot</td>\n",
              "    </tr>\n",
              "    <tr>\n",
              "      <th>23</th>\n",
              "      <td>P</td>\n",
              "      <td>4.740000</td>\n",
              "      <td>Swissprot</td>\n",
              "    </tr>\n",
              "    <tr>\n",
              "      <th>24</th>\n",
              "      <td>L</td>\n",
              "      <td>9.650000</td>\n",
              "      <td>Swissprot</td>\n",
              "    </tr>\n",
              "    <tr>\n",
              "      <th>25</th>\n",
              "      <td>I</td>\n",
              "      <td>5.910000</td>\n",
              "      <td>Swissprot</td>\n",
              "    </tr>\n",
              "    <tr>\n",
              "      <th>26</th>\n",
              "      <td>M</td>\n",
              "      <td>2.410000</td>\n",
              "      <td>Swissprot</td>\n",
              "    </tr>\n",
              "    <tr>\n",
              "      <th>27</th>\n",
              "      <td>F</td>\n",
              "      <td>3.860000</td>\n",
              "      <td>Swissprot</td>\n",
              "    </tr>\n",
              "    <tr>\n",
              "      <th>28</th>\n",
              "      <td>W</td>\n",
              "      <td>1.100000</td>\n",
              "      <td>Swissprot</td>\n",
              "    </tr>\n",
              "    <tr>\n",
              "      <th>29</th>\n",
              "      <td>Y</td>\n",
              "      <td>2.920000</td>\n",
              "      <td>Swissprot</td>\n",
              "    </tr>\n",
              "    <tr>\n",
              "      <th>30</th>\n",
              "      <td>S</td>\n",
              "      <td>6.640000</td>\n",
              "      <td>Swissprot</td>\n",
              "    </tr>\n",
              "    <tr>\n",
              "      <th>31</th>\n",
              "      <td>T</td>\n",
              "      <td>5.350000</td>\n",
              "      <td>Swissprot</td>\n",
              "    </tr>\n",
              "    <tr>\n",
              "      <th>32</th>\n",
              "      <td>C</td>\n",
              "      <td>1.380000</td>\n",
              "      <td>Swissprot</td>\n",
              "    </tr>\n",
              "    <tr>\n",
              "      <th>33</th>\n",
              "      <td>N</td>\n",
              "      <td>4.060000</td>\n",
              "      <td>Swissprot</td>\n",
              "    </tr>\n",
              "    <tr>\n",
              "      <th>34</th>\n",
              "      <td>Q</td>\n",
              "      <td>3.930000</td>\n",
              "      <td>Swissprot</td>\n",
              "    </tr>\n",
              "    <tr>\n",
              "      <th>35</th>\n",
              "      <td>H</td>\n",
              "      <td>2.270000</td>\n",
              "      <td>Swissprot</td>\n",
              "    </tr>\n",
              "    <tr>\n",
              "      <th>36</th>\n",
              "      <td>D</td>\n",
              "      <td>5.460000</td>\n",
              "      <td>Swissprot</td>\n",
              "    </tr>\n",
              "    <tr>\n",
              "      <th>37</th>\n",
              "      <td>E</td>\n",
              "      <td>6.720000</td>\n",
              "      <td>Swissprot</td>\n",
              "    </tr>\n",
              "    <tr>\n",
              "      <th>38</th>\n",
              "      <td>K</td>\n",
              "      <td>5.800000</td>\n",
              "      <td>Swissprot</td>\n",
              "    </tr>\n",
              "    <tr>\n",
              "      <th>39</th>\n",
              "      <td>R</td>\n",
              "      <td>5.530000</td>\n",
              "      <td>Swissprot</td>\n",
              "    </tr>\n",
              "  </tbody>\n",
              "</table>\n",
              "</div>\n",
              "      <button class=\"colab-df-convert\" onclick=\"convertToInteractive('df-4b97a200-4caa-4e1c-8ad3-b1acc9f7319b')\"\n",
              "              title=\"Convert this dataframe to an interactive table.\"\n",
              "              style=\"display:none;\">\n",
              "        \n",
              "  <svg xmlns=\"http://www.w3.org/2000/svg\" height=\"24px\"viewBox=\"0 0 24 24\"\n",
              "       width=\"24px\">\n",
              "    <path d=\"M0 0h24v24H0V0z\" fill=\"none\"/>\n",
              "    <path d=\"M18.56 5.44l.94 2.06.94-2.06 2.06-.94-2.06-.94-.94-2.06-.94 2.06-2.06.94zm-11 1L8.5 8.5l.94-2.06 2.06-.94-2.06-.94L8.5 2.5l-.94 2.06-2.06.94zm10 10l.94 2.06.94-2.06 2.06-.94-2.06-.94-.94-2.06-.94 2.06-2.06.94z\"/><path d=\"M17.41 7.96l-1.37-1.37c-.4-.4-.92-.59-1.43-.59-.52 0-1.04.2-1.43.59L10.3 9.45l-7.72 7.72c-.78.78-.78 2.05 0 2.83L4 21.41c.39.39.9.59 1.41.59.51 0 1.02-.2 1.41-.59l7.78-7.78 2.81-2.81c.8-.78.8-2.07 0-2.86zM5.41 20L4 18.59l7.72-7.72 1.47 1.35L5.41 20z\"/>\n",
              "  </svg>\n",
              "      </button>\n",
              "      \n",
              "  <style>\n",
              "    .colab-df-container {\n",
              "      display:flex;\n",
              "      flex-wrap:wrap;\n",
              "      gap: 12px;\n",
              "    }\n",
              "\n",
              "    .colab-df-convert {\n",
              "      background-color: #E8F0FE;\n",
              "      border: none;\n",
              "      border-radius: 50%;\n",
              "      cursor: pointer;\n",
              "      display: none;\n",
              "      fill: #1967D2;\n",
              "      height: 32px;\n",
              "      padding: 0 0 0 0;\n",
              "      width: 32px;\n",
              "    }\n",
              "\n",
              "    .colab-df-convert:hover {\n",
              "      background-color: #E2EBFA;\n",
              "      box-shadow: 0px 1px 2px rgba(60, 64, 67, 0.3), 0px 1px 3px 1px rgba(60, 64, 67, 0.15);\n",
              "      fill: #174EA6;\n",
              "    }\n",
              "\n",
              "    [theme=dark] .colab-df-convert {\n",
              "      background-color: #3B4455;\n",
              "      fill: #D2E3FC;\n",
              "    }\n",
              "\n",
              "    [theme=dark] .colab-df-convert:hover {\n",
              "      background-color: #434B5C;\n",
              "      box-shadow: 0px 1px 3px 1px rgba(0, 0, 0, 0.15);\n",
              "      filter: drop-shadow(0px 1px 2px rgba(0, 0, 0, 0.3));\n",
              "      fill: #FFFFFF;\n",
              "    }\n",
              "  </style>\n",
              "\n",
              "      <script>\n",
              "        const buttonEl =\n",
              "          document.querySelector('#df-4b97a200-4caa-4e1c-8ad3-b1acc9f7319b button.colab-df-convert');\n",
              "        buttonEl.style.display =\n",
              "          google.colab.kernel.accessAllowed ? 'block' : 'none';\n",
              "\n",
              "        async function convertToInteractive(key) {\n",
              "          const element = document.querySelector('#df-4b97a200-4caa-4e1c-8ad3-b1acc9f7319b');\n",
              "          const dataTable =\n",
              "            await google.colab.kernel.invokeFunction('convertToInteractive',\n",
              "                                                     [key], {});\n",
              "          if (!dataTable) return;\n",
              "\n",
              "          const docLinkHtml = 'Like what you see? Visit the ' +\n",
              "            '<a target=\"_blank\" href=https://colab.research.google.com/notebooks/data_table.ipynb>data table notebook</a>'\n",
              "            + ' to learn more about interactive tables.';\n",
              "          element.innerHTML = '';\n",
              "          dataTable['output_type'] = 'display_data';\n",
              "          await google.colab.output.renderOutput(dataTable, element);\n",
              "          const docLink = document.createElement('div');\n",
              "          docLink.innerHTML = docLinkHtml;\n",
              "          element.appendChild(docLink);\n",
              "        }\n",
              "      </script>\n",
              "    </div>\n",
              "  </div>\n",
              "  "
            ]
          },
          "metadata": {},
          "execution_count": 114
        }
      ]
    },
    {
      "cell_type": "code",
      "source": [
        "sb.barplot(data=bench_and_backg_df, x=\"residues\", y=\"percentages\", hue=\"dataset\")"
      ],
      "metadata": {
        "colab": {
          "base_uri": "https://localhost:8080/",
          "height": 297
        },
        "id": "LiD7DEnfgpVD",
        "outputId": "039076a9-767e-4124-8ba1-b1a0a6c5a175"
      },
      "execution_count": 115,
      "outputs": [
        {
          "output_type": "execute_result",
          "data": {
            "text/plain": [
              "<matplotlib.axes._subplots.AxesSubplot at 0x7f4879eca3d0>"
            ]
          },
          "metadata": {},
          "execution_count": 115
        },
        {
          "output_type": "display_data",
          "data": {
            "text/plain": [
              "<Figure size 432x288 with 1 Axes>"
            ],
            "image/png": "[encoded data removed]"
          },
          "metadata": {
            "needs_background": "light"
          }
        }
      ]
    },
    {
      "cell_type": "code",
      "source": [],
      "metadata": {
        "id": "weZES9Qvhx-x"
      },
      "execution_count": 115,
      "outputs": []
    },
    {
      "cell_type": "markdown",
      "source": [
        "### 4. Species proportions"
      ],
      "metadata": {
        "id": "9It5FCYzh22O"
      }
    },
    {
      "cell_type": "code",
      "source": [
        "#Start"
      ],
      "metadata": {
        "id": "WrhdocIYh_zy"
      },
      "execution_count": 116,
      "outputs": []
    },
    {
      "cell_type": "markdown",
      "source": [
        "#### A. Training data"
      ],
      "metadata": {
        "id": "VV08j0dNDVoY"
      }
    },
    {
      "cell_type": "code",
      "source": [
        "import matplotlib.pyplot as plt"
      ],
      "metadata": {
        "id": "Qw_nGDdnH7is"
      },
      "execution_count": 174,
      "outputs": []
    },
    {
      "cell_type": "code",
      "source": [
        "train"
      ],
      "metadata": {
        "colab": {
          "base_uri": "https://localhost:8080/",
          "height": 800
        },
        "id": "1lKNu0jTDv40",
        "outputId": "978d034d-a92c-49d3-e722-b52ee3e035ff"
      },
      "execution_count": 138,
      "outputs": [
        {
          "output_type": "execute_result",
          "data": {
            "text/plain": [
              "     UniProtKB accession                                               Taxa  \\\n",
              "0                 P61916                               Homo sapiens (Human)   \n",
              "1                 Q7M3V1   Chelonus sp. nr. curvimaculatus (Parasitic wasp)   \n",
              "2                 Q08738                            Bombyx mori (Silk moth)   \n",
              "3                 Q41350  Solanum lycopersicum (Tomato) (Lycopersicon es...   \n",
              "4                 Q86SE1  Androctonus amoreuxi (African fattail scorpion...   \n",
              "...                  ...                                                ...   \n",
              "1718              P62597                            Gallus gallus (Chicken)   \n",
              "1719              Q7K4M4                Drosophila melanogaster (Fruit fly)   \n",
              "1720              Q14146                               Homo sapiens (Human)   \n",
              "1721              B2RWS6                               Mus musculus (Mouse)   \n",
              "1722              Q9P6R0  Schizosaccharomyces pombe (strain 972 / ATCC 2...   \n",
              "\n",
              "      Kingdom  Class  Cross-validation fold  \\\n",
              "0     Metazoa     SP                      0   \n",
              "1     Metazoa     SP                      0   \n",
              "2     Metazoa     SP                      0   \n",
              "3      Plants     SP                      0   \n",
              "4     Metazoa     SP                      0   \n",
              "...       ...    ...                    ...   \n",
              "1718  Metazoa  NO_SP                      4   \n",
              "1719  Metazoa  NO_SP                      4   \n",
              "1720  Metazoa  NO_SP                      4   \n",
              "1721  Metazoa  NO_SP                      4   \n",
              "1722    Fungi  NO_SP                      4   \n",
              "\n",
              "                Sequence (first 50 N-terminal residues)  \\\n",
              "0     MRFLAATFLLLALSTAAQAEPVQFKDCGSVDGVIKEVNVSPCPTQP...   \n",
              "1     MAGKEVIFIMALFIAVESSPIFSFDDLVCPSVTSLRVNVEKNECST...   \n",
              "2     MRVFLAICLSLTVALAAETGKYTPFQYNRVYSTVSPFVYKPGRYVA...   \n",
              "3     MASSSAKILLPLSLLFTLLSLSQSTNPNFILTLVNNCPYTIWPAIQ...   \n",
              "4     MNYLVMISLALLLMIGVESVRDGYIVYPHNCVYHCIPSCDGLCKEN...   \n",
              "...                                                 ...   \n",
              "1718  MPVQVLKIIKGKPETQLPSHLQREDLKHLQTGLDHTNKYFQGIVIL...   \n",
              "1719  MSKFLDMLSGSQCVSLEKCGDVVVSTNDCMIALYCHFCRDLFTQLP...   \n",
              "1720  MAAVYSGISLKLKSKTTSWEDKLKLAHFAWISHQCFLPNKEQVLLD...   \n",
              "1721  MAENVVEPGPPSAKRPKLSSPALSASASDGTDFGSLFDLEHDLPDE...   \n",
              "1722  MGCPNCGSTTFESDTASGNTYCTQCGVVVEQDAIVSEVTFGEASTG...   \n",
              "\n",
              "                            SP cleavage-site annotation  \n",
              "0     SSSSSSSSSSSSSSSSSSSNNNNNNNNNNNNNNNNNNNNNNNNNNN...  \n",
              "1     SSSSSSSSSSSSSSSSSSSSNNNNNNNNNNNNNNNNNNNNNNNNNN...  \n",
              "2     SSSSSSSSSSSSSSSSNNNNNNNNNNNNNNNNNNNNNNNNNNNNNN...  \n",
              "3     SSSSSSSSSSSSSSSSSSSSSSSSNNNNNNNNNNNNNNNNNNNNNN...  \n",
              "4     SSSSSSSSSSSSSSSSSSSNNNNNNNNNNNNNNNNNNNNNNNNNNN...  \n",
              "...                                                 ...  \n",
              "1718  NNNNNNNNNNNNNNNNNNNNNNNNNNNNNNNNNNNNNNNNNNNNNN...  \n",
              "1719  NNNNNNNNNNNNNNNNNNNNNNNNNNNNNNNNNNNNNNNNNNNNNN...  \n",
              "1720  NNNNNNNNNNNNNNNNNNNNNNNNNNNNNNNNNNNNNNNNNNNNNN...  \n",
              "1721  NNNNNNNNNNNNNNNNNNNNNNNNNNNNNNNNNNNNNNNNNNNNNN...  \n",
              "1722  NNNNNNNNNNNNNNNNNNNNNNNNNNNNNNNNNNNNNNNNNNNNNN...  \n",
              "\n",
              "[1723 rows x 7 columns]"
            ],
            "text/html": [
              "\n",
              "  <div id=\"df-e4ea7db9-3c25-441e-9d16-a6cb17b3e233\">\n",
              "    <div class=\"colab-df-container\">\n",
              "      <div>\n",
              "<style scoped>\n",
              "    .dataframe tbody tr th:only-of-type {\n",
              "        vertical-align: middle;\n",
              "    }\n",
              "\n",
              "    .dataframe tbody tr th {\n",
              "        vertical-align: top;\n",
              "    }\n",
              "\n",
              "    .dataframe thead th {\n",
              "        text-align: right;\n",
              "    }\n",
              "</style>\n",
              "<table border=\"1\" class=\"dataframe\">\n",
              "  <thead>\n",
              "    <tr style=\"text-align: right;\">\n",
              "      <th></th>\n",
              "      <th>UniProtKB accession</th>\n",
              "      <th>Taxa</th>\n",
              "      <th>Kingdom</th>\n",
              "      <th>Class</th>\n",
              "      <th>Cross-validation fold</th>\n",
              "      <th>Sequence (first 50 N-terminal residues)</th>\n",
              "      <th>SP cleavage-site annotation</th>\n",
              "    </tr>\n",
              "  </thead>\n",
              "  <tbody>\n",
              "    <tr>\n",
              "      <th>0</th>\n",
              "      <td>P61916</td>\n",
              "      <td>Homo sapiens (Human)</td>\n",
              "      <td>Metazoa</td>\n",
              "      <td>SP</td>\n",
              "      <td>0</td>\n",
              "      <td>MRFLAATFLLLALSTAAQAEPVQFKDCGSVDGVIKEVNVSPCPTQP...</td>\n",
              "      <td>SSSSSSSSSSSSSSSSSSSNNNNNNNNNNNNNNNNNNNNNNNNNNN...</td>\n",
              "    </tr>\n",
              "    <tr>\n",
              "      <th>1</th>\n",
              "      <td>Q7M3V1</td>\n",
              "      <td>Chelonus sp. nr. curvimaculatus (Parasitic wasp)</td>\n",
              "      <td>Metazoa</td>\n",
              "      <td>SP</td>\n",
              "      <td>0</td>\n",
              "      <td>MAGKEVIFIMALFIAVESSPIFSFDDLVCPSVTSLRVNVEKNECST...</td>\n",
              "      <td>SSSSSSSSSSSSSSSSSSSSNNNNNNNNNNNNNNNNNNNNNNNNNN...</td>\n",
              "    </tr>\n",
              "    <tr>\n",
              "      <th>2</th>\n",
              "      <td>Q08738</td>\n",
              "      <td>Bombyx mori (Silk moth)</td>\n",
              "      <td>Metazoa</td>\n",
              "      <td>SP</td>\n",
              "      <td>0</td>\n",
              "      <td>MRVFLAICLSLTVALAAETGKYTPFQYNRVYSTVSPFVYKPGRYVA...</td>\n",
              "      <td>SSSSSSSSSSSSSSSSNNNNNNNNNNNNNNNNNNNNNNNNNNNNNN...</td>\n",
              "    </tr>\n",
              "    <tr>\n",
              "      <th>3</th>\n",
              "      <td>Q41350</td>\n",
              "      <td>Solanum lycopersicum (Tomato) (Lycopersicon es...</td>\n",
              "      <td>Plants</td>\n",
              "      <td>SP</td>\n",
              "      <td>0</td>\n",
              "      <td>MASSSAKILLPLSLLFTLLSLSQSTNPNFILTLVNNCPYTIWPAIQ...</td>\n",
              "      <td>SSSSSSSSSSSSSSSSSSSSSSSSNNNNNNNNNNNNNNNNNNNNNN...</td>\n",
              "    </tr>\n",
              "    <tr>\n",
              "      <th>4</th>\n",
              "      <td>Q86SE1</td>\n",
              "      <td>Androctonus amoreuxi (African fattail scorpion...</td>\n",
              "      <td>Metazoa</td>\n",
              "      <td>SP</td>\n",
              "      <td>0</td>\n",
              "      <td>MNYLVMISLALLLMIGVESVRDGYIVYPHNCVYHCIPSCDGLCKEN...</td>\n",
              "      <td>SSSSSSSSSSSSSSSSSSSNNNNNNNNNNNNNNNNNNNNNNNNNNN...</td>\n",
              "    </tr>\n",
              "    <tr>\n",
              "      <th>...</th>\n",
              "      <td>...</td>\n",
              "      <td>...</td>\n",
              "      <td>...</td>\n",
              "      <td>...</td>\n",
              "      <td>...</td>\n",
              "      <td>...</td>\n",
              "      <td>...</td>\n",
              "    </tr>\n",
              "    <tr>\n",
              "      <th>1718</th>\n",
              "      <td>P62597</td>\n",
              "      <td>Gallus gallus (Chicken)</td>\n",
              "      <td>Metazoa</td>\n",
              "      <td>NO_SP</td>\n",
              "      <td>4</td>\n",
              "      <td>MPVQVLKIIKGKPETQLPSHLQREDLKHLQTGLDHTNKYFQGIVIL...</td>\n",
              "      <td>NNNNNNNNNNNNNNNNNNNNNNNNNNNNNNNNNNNNNNNNNNNNNN...</td>\n",
              "    </tr>\n",
              "    <tr>\n",
              "      <th>1719</th>\n",
              "      <td>Q7K4M4</td>\n",
              "      <td>Drosophila melanogaster (Fruit fly)</td>\n",
              "      <td>Metazoa</td>\n",
              "      <td>NO_SP</td>\n",
              "      <td>4</td>\n",
              "      <td>MSKFLDMLSGSQCVSLEKCGDVVVSTNDCMIALYCHFCRDLFTQLP...</td>\n",
              "      <td>NNNNNNNNNNNNNNNNNNNNNNNNNNNNNNNNNNNNNNNNNNNNNN...</td>\n",
              "    </tr>\n",
              "    <tr>\n",
              "      <th>1720</th>\n",
              "      <td>Q14146</td>\n",
              "      <td>Homo sapiens (Human)</td>\n",
              "      <td>Metazoa</td>\n",
              "      <td>NO_SP</td>\n",
              "      <td>4</td>\n",
              "      <td>MAAVYSGISLKLKSKTTSWEDKLKLAHFAWISHQCFLPNKEQVLLD...</td>\n",
              "      <td>NNNNNNNNNNNNNNNNNNNNNNNNNNNNNNNNNNNNNNNNNNNNNN...</td>\n",
              "    </tr>\n",
              "    <tr>\n",
              "      <th>1721</th>\n",
              "      <td>B2RWS6</td>\n",
              "      <td>Mus musculus (Mouse)</td>\n",
              "      <td>Metazoa</td>\n",
              "      <td>NO_SP</td>\n",
              "      <td>4</td>\n",
              "      <td>MAENVVEPGPPSAKRPKLSSPALSASASDGTDFGSLFDLEHDLPDE...</td>\n",
              "      <td>NNNNNNNNNNNNNNNNNNNNNNNNNNNNNNNNNNNNNNNNNNNNNN...</td>\n",
              "    </tr>\n",
              "    <tr>\n",
              "      <th>1722</th>\n",
              "      <td>Q9P6R0</td>\n",
              "      <td>Schizosaccharomyces pombe (strain 972 / ATCC 2...</td>\n",
              "      <td>Fungi</td>\n",
              "      <td>NO_SP</td>\n",
              "      <td>4</td>\n",
              "      <td>MGCPNCGSTTFESDTASGNTYCTQCGVVVEQDAIVSEVTFGEASTG...</td>\n",
              "      <td>NNNNNNNNNNNNNNNNNNNNNNNNNNNNNNNNNNNNNNNNNNNNNN...</td>\n",
              "    </tr>\n",
              "  </tbody>\n",
              "</table>\n",
              "<p>1723 rows × 7 columns</p>\n",
              "</div>\n",
              "      <button class=\"colab-df-convert\" onclick=\"convertToInteractive('df-e4ea7db9-3c25-441e-9d16-a6cb17b3e233')\"\n",
              "              title=\"Convert this dataframe to an interactive table.\"\n",
              "              style=\"display:none;\">\n",
              "        \n",
              "  <svg xmlns=\"http://www.w3.org/2000/svg\" height=\"24px\"viewBox=\"0 0 24 24\"\n",
              "       width=\"24px\">\n",
              "    <path d=\"M0 0h24v24H0V0z\" fill=\"none\"/>\n",
              "    <path d=\"M18.56 5.44l.94 2.06.94-2.06 2.06-.94-2.06-.94-.94-2.06-.94 2.06-2.06.94zm-11 1L8.5 8.5l.94-2.06 2.06-.94-2.06-.94L8.5 2.5l-.94 2.06-2.06.94zm10 10l.94 2.06.94-2.06 2.06-.94-2.06-.94-.94-2.06-.94 2.06-2.06.94z\"/><path d=\"M17.41 7.96l-1.37-1.37c-.4-.4-.92-.59-1.43-.59-.52 0-1.04.2-1.43.59L10.3 9.45l-7.72 7.72c-.78.78-.78 2.05 0 2.83L4 21.41c.39.39.9.59 1.41.59.51 0 1.02-.2 1.41-.59l7.78-7.78 2.81-2.81c.8-.78.8-2.07 0-2.86zM5.41 20L4 18.59l7.72-7.72 1.47 1.35L5.41 20z\"/>\n",
              "  </svg>\n",
              "      </button>\n",
              "      \n",
              "  <style>\n",
              "    .colab-df-container {\n",
              "      display:flex;\n",
              "      flex-wrap:wrap;\n",
              "      gap: 12px;\n",
              "    }\n",
              "\n",
              "    .colab-df-convert {\n",
              "      background-color: #E8F0FE;\n",
              "      border: none;\n",
              "      border-radius: 50%;\n",
              "      cursor: pointer;\n",
              "      display: none;\n",
              "      fill: #1967D2;\n",
              "      height: 32px;\n",
              "      padding: 0 0 0 0;\n",
              "      width: 32px;\n",
              "    }\n",
              "\n",
              "    .colab-df-convert:hover {\n",
              "      background-color: #E2EBFA;\n",
              "      box-shadow: 0px 1px 2px rgba(60, 64, 67, 0.3), 0px 1px 3px 1px rgba(60, 64, 67, 0.15);\n",
              "      fill: #174EA6;\n",
              "    }\n",
              "\n",
              "    [theme=dark] .colab-df-convert {\n",
              "      background-color: #3B4455;\n",
              "      fill: #D2E3FC;\n",
              "    }\n",
              "\n",
              "    [theme=dark] .colab-df-convert:hover {\n",
              "      background-color: #434B5C;\n",
              "      box-shadow: 0px 1px 3px 1px rgba(0, 0, 0, 0.15);\n",
              "      filter: drop-shadow(0px 1px 2px rgba(0, 0, 0, 0.3));\n",
              "      fill: #FFFFFF;\n",
              "    }\n",
              "  </style>\n",
              "\n",
              "      <script>\n",
              "        const buttonEl =\n",
              "          document.querySelector('#df-e4ea7db9-3c25-441e-9d16-a6cb17b3e233 button.colab-df-convert');\n",
              "        buttonEl.style.display =\n",
              "          google.colab.kernel.accessAllowed ? 'block' : 'none';\n",
              "\n",
              "        async function convertToInteractive(key) {\n",
              "          const element = document.querySelector('#df-e4ea7db9-3c25-441e-9d16-a6cb17b3e233');\n",
              "          const dataTable =\n",
              "            await google.colab.kernel.invokeFunction('convertToInteractive',\n",
              "                                                     [key], {});\n",
              "          if (!dataTable) return;\n",
              "\n",
              "          const docLinkHtml = 'Like what you see? Visit the ' +\n",
              "            '<a target=\"_blank\" href=https://colab.research.google.com/notebooks/data_table.ipynb>data table notebook</a>'\n",
              "            + ' to learn more about interactive tables.';\n",
              "          element.innerHTML = '';\n",
              "          dataTable['output_type'] = 'display_data';\n",
              "          await google.colab.output.renderOutput(dataTable, element);\n",
              "          const docLink = document.createElement('div');\n",
              "          docLink.innerHTML = docLinkHtml;\n",
              "          element.appendChild(docLink);\n",
              "        }\n",
              "      </script>\n",
              "    </div>\n",
              "  </div>\n",
              "  "
            ]
          },
          "metadata": {},
          "execution_count": 138
        }
      ]
    },
    {
      "cell_type": "code",
      "source": [
        "train.shape"
      ],
      "metadata": {
        "colab": {
          "base_uri": "https://localhost:8080/"
        },
        "id": "KebpFXmfD9wg",
        "outputId": "77a327ac-4b77-45fe-90ce-82f80e54090c"
      },
      "execution_count": 139,
      "outputs": [
        {
          "output_type": "execute_result",
          "data": {
            "text/plain": [
              "(1723, 7)"
            ]
          },
          "metadata": {},
          "execution_count": 139
        }
      ]
    },
    {
      "cell_type": "code",
      "source": [
        "def pie_chart(df):\n",
        "  species = df['Taxa']\n",
        "  species_series = species.value_counts() #obtains the counts of each unique value\n",
        "  species_series_sorted = species_series.sort_values(ascending=False) #alternative .nlargest(10)\n",
        "  species_series_top = species_series_sorted[0:6] #extracting top 6\n",
        "  species_series_rest = species_series_sorted[7:]\n",
        "  others_series = pd.Series({'others':species_series_rest.sum()}) #creating a series that containg the sum of the others\n",
        "  species_series_complete = pd.concat([species_series_top, others_series])\n",
        "  print(species_series_complete)\n",
        "  labels = species_series_complete.index.tolist() #labels\n",
        "  count = species_series_complete.values.tolist() #count for each label\n",
        "  colors = sb.color_palette('bright')[:len(labels)]  #define color palette\n",
        "  plt.pie(count, colors = colors, autopct='%.0f%%')\n",
        "  plt.legend(labels, loc='upper left', bbox_to_anchor=(1,1)) #bbox controls the position of the legend\n",
        "  plt.show()\n",
        "\n"
      ],
      "metadata": {
        "id": "ePx7gbB5Pa1w"
      },
      "execution_count": 249,
      "outputs": []
    },
    {
      "cell_type": "code",
      "source": [
        "pie_chart(train)"
      ],
      "metadata": {
        "colab": {
          "base_uri": "https://localhost:8080/",
          "height": 392
        },
        "id": "RRJbBEeYQH1O",
        "outputId": "0fe08def-ddb6-4e6c-d0f7-8a795821634f"
      },
      "execution_count": 250,
      "outputs": [
        {
          "output_type": "stream",
          "name": "stdout",
          "text": [
            "Homo sapiens (Human)                                                     434\n",
            "Arabidopsis thaliana (Mouse-ear cress)                                   235\n",
            "Saccharomyces cerevisiae (strain ATCC 204508 / S288c) (Baker's yeast)    219\n",
            "Mus musculus (Mouse)                                                     197\n",
            "Schizosaccharomyces pombe (strain 972 / ATCC 24843) (Fission yeast)      180\n",
            "Rattus norvegicus (Rat)                                                   59\n",
            "others                                                                   350\n",
            "dtype: int64\n"
          ]
        },
        {
          "output_type": "display_data",
          "data": {
            "text/plain": [
              "<Figure size 432x288 with 1 Axes>"
            ],
            "image/png": "[encoded data removed]"
          },
          "metadata": {}
        }
      ]
    },
    {
      "cell_type": "markdown",
      "source": [
        "#### B. Benchmark data"
      ],
      "metadata": {
        "id": "d8aJJuXIOgmO"
      }
    },
    {
      "cell_type": "code",
      "source": [
        "bench"
      ],
      "metadata": {
        "colab": {
          "base_uri": "https://localhost:8080/",
          "height": 887
        },
        "id": "9FUKx5ZZOuaB",
        "outputId": "4ff996e0-7d98-4134-d85d-1294549025f6"
      },
      "execution_count": 238,
      "outputs": [
        {
          "output_type": "execute_result",
          "data": {
            "text/plain": [
              "     UniProtKB accession                                    Taxa  Kingdom  \\\n",
              "0                 Q8TF40                    Homo sapiens (Human)  Metazoa   \n",
              "1                 Q1ENB6  Arabidopsis thaliana (Mouse-ear cress)   Plants   \n",
              "2                 Q9BZS1                    Homo sapiens (Human)  Metazoa   \n",
              "3                 F4K2A1  Arabidopsis thaliana (Mouse-ear cress)   Plants   \n",
              "4                 Q9SZL8  Arabidopsis thaliana (Mouse-ear cress)   Plants   \n",
              "...                  ...                                     ...      ...   \n",
              "7451              O74327                    Homo sapiens (Human)  Metazoa   \n",
              "7452              Q9UM00  Arabidopsis thaliana (Mouse-ear cress)   Plants   \n",
              "7453              Q93Y07                    Homo sapiens (Human)  Metazoa   \n",
              "7454              Q86TL2                    Mus musculus (Mouse)  Metazoa   \n",
              "7455              E2JF22                                     NaN    Other   \n",
              "\n",
              "      Class            Sequence (first 50 N-terminal residues)  \\\n",
              "0     NO_SP  MAPTLFQKLFSKRTGLGAPGRDARDPDCGFSWPLPEFDPSQIRLIV...   \n",
              "1     NO_SP  MDFTSLETTTFEEVVIALGSNVGNRMNNFKEALRLMKDYGISVTRH...   \n",
              "2     NO_SP  MPNPRPGKPSAPSLALGPSPGASPSWRAAPKASDLLGARGPGGTFQ...   \n",
              "3     NO_SP  MFAVSIVPRTTSCRLSSAFLCQLSIPLTLRLHHHYQHHQPHLPSPL...   \n",
              "4     NO_SP  MMDNEVLDFDIGVGVSSGGDVDDDAIDIEHHALDDDDMLDSPIMPC...   \n",
              "...     ...                                                ...   \n",
              "7451  NO_SP  MSGYSPLSSGPADVHIGKAGFFSSVINLANTILGAGILSLPNAFTK...   \n",
              "7452  NO_SP  MSTMFADTLLIVFISVCTALLAEGITWVLVYRTDKYKRLKAEVEKQ...   \n",
              "7453  NO_SP  MELFALLIKVAGLLATVTVGANVVSYSRFRRQNLAKFRSPIDESKE...   \n",
              "7454  NO_SP  MQGPAGNASRGLPGGPPSTVASGAGRCESGALMHSFGIFLQGLLGV...   \n",
              "7455  NO_SP  MEPHVLGAGLYWLLLPCTLLAASLLRFNALSLVYLLFLLLLPWLPG...   \n",
              "\n",
              "                            SP cleavage-site annotation  \n",
              "0     NNNNNNNNNNNNNNNNNNNNNNNNNNNNNNNNNNNNNNNNNNNNNN...  \n",
              "1     NNNNNNNNNNNNNNNNNNNNNNNNNNNNNNNNNNNNNNNNNNNNNN...  \n",
              "2     NNNNNNNNNNNNNNNNNNNNNNNNNNNNNNNNNNNNNNNNNNNNNN...  \n",
              "3     NNNNNNNNNNNNNNNNNNNNNNNNNNNNNNNNNNNNNNNNNNNNNN...  \n",
              "4     NNNNNNNNNNNNNNNNNNNNNNNNNNNNNNNNNNNNNNNNNNNNNN...  \n",
              "...                                                 ...  \n",
              "7451  NNNNNNNNNNNNNNNNNNNNNNNNNNNNNNNNNNNNNNNNNNNNNN...  \n",
              "7452  NNNNNNNNNNNNNNNNNNNNNNNNNNNNNNNNNNNNNNNNNNNNNN...  \n",
              "7453  NNNNNNNNNNNNNNNNNNNNNNNNNNNNNNNNNNNNNNNNNNNNNN...  \n",
              "7454  NNNNNNNNNNNNNNNNNNNNNNNNNNNNNNNNNNNNNNNNNNNNNN...  \n",
              "7455  NNNNNNNNNNNNNNNNNNNNNNNNNNNNNNNNNNNNNNNNNNNNNN...  \n",
              "\n",
              "[7456 rows x 6 columns]"
            ],
            "text/html": [
              "\n",
              "  <div id=\"df-eebb7cfc-34dc-424c-a9af-eb6af586c7b8\">\n",
              "    <div class=\"colab-df-container\">\n",
              "      <div>\n",
              "<style scoped>\n",
              "    .dataframe tbody tr th:only-of-type {\n",
              "        vertical-align: middle;\n",
              "    }\n",
              "\n",
              "    .dataframe tbody tr th {\n",
              "        vertical-align: top;\n",
              "    }\n",
              "\n",
              "    .dataframe thead th {\n",
              "        text-align: right;\n",
              "    }\n",
              "</style>\n",
              "<table border=\"1\" class=\"dataframe\">\n",
              "  <thead>\n",
              "    <tr style=\"text-align: right;\">\n",
              "      <th></th>\n",
              "      <th>UniProtKB accession</th>\n",
              "      <th>Taxa</th>\n",
              "      <th>Kingdom</th>\n",
              "      <th>Class</th>\n",
              "      <th>Sequence (first 50 N-terminal residues)</th>\n",
              "      <th>SP cleavage-site annotation</th>\n",
              "    </tr>\n",
              "  </thead>\n",
              "  <tbody>\n",
              "    <tr>\n",
              "      <th>0</th>\n",
              "      <td>Q8TF40</td>\n",
              "      <td>Homo sapiens (Human)</td>\n",
              "      <td>Metazoa</td>\n",
              "      <td>NO_SP</td>\n",
              "      <td>MAPTLFQKLFSKRTGLGAPGRDARDPDCGFSWPLPEFDPSQIRLIV...</td>\n",
              "      <td>NNNNNNNNNNNNNNNNNNNNNNNNNNNNNNNNNNNNNNNNNNNNNN...</td>\n",
              "    </tr>\n",
              "    <tr>\n",
              "      <th>1</th>\n",
              "      <td>Q1ENB6</td>\n",
              "      <td>Arabidopsis thaliana (Mouse-ear cress)</td>\n",
              "      <td>Plants</td>\n",
              "      <td>NO_SP</td>\n",
              "      <td>MDFTSLETTTFEEVVIALGSNVGNRMNNFKEALRLMKDYGISVTRH...</td>\n",
              "      <td>NNNNNNNNNNNNNNNNNNNNNNNNNNNNNNNNNNNNNNNNNNNNNN...</td>\n",
              "    </tr>\n",
              "    <tr>\n",
              "      <th>2</th>\n",
              "      <td>Q9BZS1</td>\n",
              "      <td>Homo sapiens (Human)</td>\n",
              "      <td>Metazoa</td>\n",
              "      <td>NO_SP</td>\n",
              "      <td>MPNPRPGKPSAPSLALGPSPGASPSWRAAPKASDLLGARGPGGTFQ...</td>\n",
              "      <td>NNNNNNNNNNNNNNNNNNNNNNNNNNNNNNNNNNNNNNNNNNNNNN...</td>\n",
              "    </tr>\n",
              "    <tr>\n",
              "      <th>3</th>\n",
              "      <td>F4K2A1</td>\n",
              "      <td>Arabidopsis thaliana (Mouse-ear cress)</td>\n",
              "      <td>Plants</td>\n",
              "      <td>NO_SP</td>\n",
              "      <td>MFAVSIVPRTTSCRLSSAFLCQLSIPLTLRLHHHYQHHQPHLPSPL...</td>\n",
              "      <td>NNNNNNNNNNNNNNNNNNNNNNNNNNNNNNNNNNNNNNNNNNNNNN...</td>\n",
              "    </tr>\n",
              "    <tr>\n",
              "      <th>4</th>\n",
              "      <td>Q9SZL8</td>\n",
              "      <td>Arabidopsis thaliana (Mouse-ear cress)</td>\n",
              "      <td>Plants</td>\n",
              "      <td>NO_SP</td>\n",
              "      <td>MMDNEVLDFDIGVGVSSGGDVDDDAIDIEHHALDDDDMLDSPIMPC...</td>\n",
              "      <td>NNNNNNNNNNNNNNNNNNNNNNNNNNNNNNNNNNNNNNNNNNNNNN...</td>\n",
              "    </tr>\n",
              "    <tr>\n",
              "      <th>...</th>\n",
              "      <td>...</td>\n",
              "      <td>...</td>\n",
              "      <td>...</td>\n",
              "      <td>...</td>\n",
              "      <td>...</td>\n",
              "      <td>...</td>\n",
              "    </tr>\n",
              "    <tr>\n",
              "      <th>7451</th>\n",
              "      <td>O74327</td>\n",
              "      <td>Homo sapiens (Human)</td>\n",
              "      <td>Metazoa</td>\n",
              "      <td>NO_SP</td>\n",
              "      <td>MSGYSPLSSGPADVHIGKAGFFSSVINLANTILGAGILSLPNAFTK...</td>\n",
              "      <td>NNNNNNNNNNNNNNNNNNNNNNNNNNNNNNNNNNNNNNNNNNNNNN...</td>\n",
              "    </tr>\n",
              "    <tr>\n",
              "      <th>7452</th>\n",
              "      <td>Q9UM00</td>\n",
              "      <td>Arabidopsis thaliana (Mouse-ear cress)</td>\n",
              "      <td>Plants</td>\n",
              "      <td>NO_SP</td>\n",
              "      <td>MSTMFADTLLIVFISVCTALLAEGITWVLVYRTDKYKRLKAEVEKQ...</td>\n",
              "      <td>NNNNNNNNNNNNNNNNNNNNNNNNNNNNNNNNNNNNNNNNNNNNNN...</td>\n",
              "    </tr>\n",
              "    <tr>\n",
              "      <th>7453</th>\n",
              "      <td>Q93Y07</td>\n",
              "      <td>Homo sapiens (Human)</td>\n",
              "      <td>Metazoa</td>\n",
              "      <td>NO_SP</td>\n",
              "      <td>MELFALLIKVAGLLATVTVGANVVSYSRFRRQNLAKFRSPIDESKE...</td>\n",
              "      <td>NNNNNNNNNNNNNNNNNNNNNNNNNNNNNNNNNNNNNNNNNNNNNN...</td>\n",
              "    </tr>\n",
              "    <tr>\n",
              "      <th>7454</th>\n",
              "      <td>Q86TL2</td>\n",
              "      <td>Mus musculus (Mouse)</td>\n",
              "      <td>Metazoa</td>\n",
              "      <td>NO_SP</td>\n",
              "      <td>MQGPAGNASRGLPGGPPSTVASGAGRCESGALMHSFGIFLQGLLGV...</td>\n",
              "      <td>NNNNNNNNNNNNNNNNNNNNNNNNNNNNNNNNNNNNNNNNNNNNNN...</td>\n",
              "    </tr>\n",
              "    <tr>\n",
              "      <th>7455</th>\n",
              "      <td>E2JF22</td>\n",
              "      <td>NaN</td>\n",
              "      <td>Other</td>\n",
              "      <td>NO_SP</td>\n",
              "      <td>MEPHVLGAGLYWLLLPCTLLAASLLRFNALSLVYLLFLLLLPWLPG...</td>\n",
              "      <td>NNNNNNNNNNNNNNNNNNNNNNNNNNNNNNNNNNNNNNNNNNNNNN...</td>\n",
              "    </tr>\n",
              "  </tbody>\n",
              "</table>\n",
              "<p>7456 rows × 6 columns</p>\n",
              "</div>\n",
              "      <button class=\"colab-df-convert\" onclick=\"convertToInteractive('df-eebb7cfc-34dc-424c-a9af-eb6af586c7b8')\"\n",
              "              title=\"Convert this dataframe to an interactive table.\"\n",
              "              style=\"display:none;\">\n",
              "        \n",
              "  <svg xmlns=\"http://www.w3.org/2000/svg\" height=\"24px\"viewBox=\"0 0 24 24\"\n",
              "       width=\"24px\">\n",
              "    <path d=\"M0 0h24v24H0V0z\" fill=\"none\"/>\n",
              "    <path d=\"M18.56 5.44l.94 2.06.94-2.06 2.06-.94-2.06-.94-.94-2.06-.94 2.06-2.06.94zm-11 1L8.5 8.5l.94-2.06 2.06-.94-2.06-.94L8.5 2.5l-.94 2.06-2.06.94zm10 10l.94 2.06.94-2.06 2.06-.94-2.06-.94-.94-2.06-.94 2.06-2.06.94z\"/><path d=\"M17.41 7.96l-1.37-1.37c-.4-.4-.92-.59-1.43-.59-.52 0-1.04.2-1.43.59L10.3 9.45l-7.72 7.72c-.78.78-.78 2.05 0 2.83L4 21.41c.39.39.9.59 1.41.59.51 0 1.02-.2 1.41-.59l7.78-7.78 2.81-2.81c.8-.78.8-2.07 0-2.86zM5.41 20L4 18.59l7.72-7.72 1.47 1.35L5.41 20z\"/>\n",
              "  </svg>\n",
              "      </button>\n",
              "      \n",
              "  <style>\n",
              "    .colab-df-container {\n",
              "      display:flex;\n",
              "      flex-wrap:wrap;\n",
              "      gap: 12px;\n",
              "    }\n",
              "\n",
              "    .colab-df-convert {\n",
              "      background-color: #E8F0FE;\n",
              "      border: none;\n",
              "      border-radius: 50%;\n",
              "      cursor: pointer;\n",
              "      display: none;\n",
              "      fill: #1967D2;\n",
              "      height: 32px;\n",
              "      padding: 0 0 0 0;\n",
              "      width: 32px;\n",
              "    }\n",
              "\n",
              "    .colab-df-convert:hover {\n",
              "      background-color: #E2EBFA;\n",
              "      box-shadow: 0px 1px 2px rgba(60, 64, 67, 0.3), 0px 1px 3px 1px rgba(60, 64, 67, 0.15);\n",
              "      fill: #174EA6;\n",
              "    }\n",
              "\n",
              "    [theme=dark] .colab-df-convert {\n",
              "      background-color: #3B4455;\n",
              "      fill: #D2E3FC;\n",
              "    }\n",
              "\n",
              "    [theme=dark] .colab-df-convert:hover {\n",
              "      background-color: #434B5C;\n",
              "      box-shadow: 0px 1px 3px 1px rgba(0, 0, 0, 0.15);\n",
              "      filter: drop-shadow(0px 1px 2px rgba(0, 0, 0, 0.3));\n",
              "      fill: #FFFFFF;\n",
              "    }\n",
              "  </style>\n",
              "\n",
              "      <script>\n",
              "        const buttonEl =\n",
              "          document.querySelector('#df-eebb7cfc-34dc-424c-a9af-eb6af586c7b8 button.colab-df-convert');\n",
              "        buttonEl.style.display =\n",
              "          google.colab.kernel.accessAllowed ? 'block' : 'none';\n",
              "\n",
              "        async function convertToInteractive(key) {\n",
              "          const element = document.querySelector('#df-eebb7cfc-34dc-424c-a9af-eb6af586c7b8');\n",
              "          const dataTable =\n",
              "            await google.colab.kernel.invokeFunction('convertToInteractive',\n",
              "                                                     [key], {});\n",
              "          if (!dataTable) return;\n",
              "\n",
              "          const docLinkHtml = 'Like what you see? Visit the ' +\n",
              "            '<a target=\"_blank\" href=https://colab.research.google.com/notebooks/data_table.ipynb>data table notebook</a>'\n",
              "            + ' to learn more about interactive tables.';\n",
              "          element.innerHTML = '';\n",
              "          dataTable['output_type'] = 'display_data';\n",
              "          await google.colab.output.renderOutput(dataTable, element);\n",
              "          const docLink = document.createElement('div');\n",
              "          docLink.innerHTML = docLinkHtml;\n",
              "          element.appendChild(docLink);\n",
              "        }\n",
              "      </script>\n",
              "    </div>\n",
              "  </div>\n",
              "  "
            ]
          },
          "metadata": {},
          "execution_count": 238
        }
      ]
    },
    {
      "cell_type": "code",
      "source": [
        "bench.shape"
      ],
      "metadata": {
        "colab": {
          "base_uri": "https://localhost:8080/"
        },
        "id": "u44HWzkDPLud",
        "outputId": "354f15e2-d243-4965-8711-f7b115973315"
      },
      "execution_count": 239,
      "outputs": [
        {
          "output_type": "execute_result",
          "data": {
            "text/plain": [
              "(7456, 6)"
            ]
          },
          "metadata": {},
          "execution_count": 239
        }
      ]
    },
    {
      "cell_type": "code",
      "source": [
        "pie_chart(bench)"
      ],
      "metadata": {
        "colab": {
          "base_uri": "https://localhost:8080/",
          "height": 392
        },
        "id": "qnPvsHpsPSny",
        "outputId": "52d7096c-5f42-462d-f524-6c926bdf2019"
      },
      "execution_count": 242,
      "outputs": [
        {
          "output_type": "stream",
          "name": "stdout",
          "text": [
            "Homo sapiens (Human)                                                     1838\n",
            "Arabidopsis thaliana (Mouse-ear cress)                                   1551\n",
            "Saccharomyces cerevisiae (strain ATCC 204508 / S288c) (Baker's yeast)     884\n",
            "Schizosaccharomyces pombe (strain 972 / ATCC 24843) (Fission yeast)       755\n",
            "Mus musculus (Mouse)                                                      722\n",
            "Drosophila melanogaster (Fruit fly)                                       305\n",
            "others                                                                   1101\n",
            "dtype: int64\n"
          ]
        },
        {
          "output_type": "display_data",
          "data": {
            "text/plain": [
              "<Figure size 432x288 with 1 Axes>"
            ],
            "image/png": "[encoded data removed]"
          },
          "metadata": {}
        }
      ]
    },
    {
      "cell_type": "markdown",
      "source": [
        "#### C. Kingdom level (training data and benchmark)"
      ],
      "metadata": {
        "id": "E_ImWbfvgLin"
      }
    },
    {
      "cell_type": "code",
      "source": [
        "train"
      ],
      "metadata": {
        "colab": {
          "base_uri": "https://localhost:8080/",
          "height": 800
        },
        "id": "P5onzkNEgZ3Z",
        "outputId": "c3acee81-26a2-493a-dcc5-842f37da6261"
      },
      "execution_count": 295,
      "outputs": [
        {
          "output_type": "execute_result",
          "data": {
            "text/plain": [
              "     UniProtKB accession                                               Taxa  \\\n",
              "0                 P61916                               Homo sapiens (Human)   \n",
              "1                 Q7M3V1   Chelonus sp. nr. curvimaculatus (Parasitic wasp)   \n",
              "2                 Q08738                            Bombyx mori (Silk moth)   \n",
              "3                 Q41350  Solanum lycopersicum (Tomato) (Lycopersicon es...   \n",
              "4                 Q86SE1  Androctonus amoreuxi (African fattail scorpion...   \n",
              "...                  ...                                                ...   \n",
              "1718              P62597                            Gallus gallus (Chicken)   \n",
              "1719              Q7K4M4                Drosophila melanogaster (Fruit fly)   \n",
              "1720              Q14146                               Homo sapiens (Human)   \n",
              "1721              B2RWS6                               Mus musculus (Mouse)   \n",
              "1722              Q9P6R0  Schizosaccharomyces pombe (strain 972 / ATCC 2...   \n",
              "\n",
              "      Kingdom  Class  Cross-validation fold  \\\n",
              "0     Metazoa     SP                      0   \n",
              "1     Metazoa     SP                      0   \n",
              "2     Metazoa     SP                      0   \n",
              "3      Plants     SP                      0   \n",
              "4     Metazoa     SP                      0   \n",
              "...       ...    ...                    ...   \n",
              "1718  Metazoa  NO_SP                      4   \n",
              "1719  Metazoa  NO_SP                      4   \n",
              "1720  Metazoa  NO_SP                      4   \n",
              "1721  Metazoa  NO_SP                      4   \n",
              "1722    Fungi  NO_SP                      4   \n",
              "\n",
              "                Sequence (first 50 N-terminal residues)  \\\n",
              "0     MRFLAATFLLLALSTAAQAEPVQFKDCGSVDGVIKEVNVSPCPTQP...   \n",
              "1     MAGKEVIFIMALFIAVESSPIFSFDDLVCPSVTSLRVNVEKNECST...   \n",
              "2     MRVFLAICLSLTVALAAETGKYTPFQYNRVYSTVSPFVYKPGRYVA...   \n",
              "3     MASSSAKILLPLSLLFTLLSLSQSTNPNFILTLVNNCPYTIWPAIQ...   \n",
              "4     MNYLVMISLALLLMIGVESVRDGYIVYPHNCVYHCIPSCDGLCKEN...   \n",
              "...                                                 ...   \n",
              "1718  MPVQVLKIIKGKPETQLPSHLQREDLKHLQTGLDHTNKYFQGIVIL...   \n",
              "1719  MSKFLDMLSGSQCVSLEKCGDVVVSTNDCMIALYCHFCRDLFTQLP...   \n",
              "1720  MAAVYSGISLKLKSKTTSWEDKLKLAHFAWISHQCFLPNKEQVLLD...   \n",
              "1721  MAENVVEPGPPSAKRPKLSSPALSASASDGTDFGSLFDLEHDLPDE...   \n",
              "1722  MGCPNCGSTTFESDTASGNTYCTQCGVVVEQDAIVSEVTFGEASTG...   \n",
              "\n",
              "                            SP cleavage-site annotation  \n",
              "0     SSSSSSSSSSSSSSSSSSSNNNNNNNNNNNNNNNNNNNNNNNNNNN...  \n",
              "1     SSSSSSSSSSSSSSSSSSSSNNNNNNNNNNNNNNNNNNNNNNNNNN...  \n",
              "2     SSSSSSSSSSSSSSSSNNNNNNNNNNNNNNNNNNNNNNNNNNNNNN...  \n",
              "3     SSSSSSSSSSSSSSSSSSSSSSSSNNNNNNNNNNNNNNNNNNNNNN...  \n",
              "4     SSSSSSSSSSSSSSSSSSSNNNNNNNNNNNNNNNNNNNNNNNNNNN...  \n",
              "...                                                 ...  \n",
              "1718  NNNNNNNNNNNNNNNNNNNNNNNNNNNNNNNNNNNNNNNNNNNNNN...  \n",
              "1719  NNNNNNNNNNNNNNNNNNNNNNNNNNNNNNNNNNNNNNNNNNNNNN...  \n",
              "1720  NNNNNNNNNNNNNNNNNNNNNNNNNNNNNNNNNNNNNNNNNNNNNN...  \n",
              "1721  NNNNNNNNNNNNNNNNNNNNNNNNNNNNNNNNNNNNNNNNNNNNNN...  \n",
              "1722  NNNNNNNNNNNNNNNNNNNNNNNNNNNNNNNNNNNNNNNNNNNNNN...  \n",
              "\n",
              "[1723 rows x 7 columns]"
            ],
            "text/html": [
              "\n",
              "  <div id=\"df-90601509-d71b-456b-93ab-9ac92281cc8f\">\n",
              "    <div class=\"colab-df-container\">\n",
              "      <div>\n",
              "<style scoped>\n",
              "    .dataframe tbody tr th:only-of-type {\n",
              "        vertical-align: middle;\n",
              "    }\n",
              "\n",
              "    .dataframe tbody tr th {\n",
              "        vertical-align: top;\n",
              "    }\n",
              "\n",
              "    .dataframe thead th {\n",
              "        text-align: right;\n",
              "    }\n",
              "</style>\n",
              "<table border=\"1\" class=\"dataframe\">\n",
              "  <thead>\n",
              "    <tr style=\"text-align: right;\">\n",
              "      <th></th>\n",
              "      <th>UniProtKB accession</th>\n",
              "      <th>Taxa</th>\n",
              "      <th>Kingdom</th>\n",
              "      <th>Class</th>\n",
              "      <th>Cross-validation fold</th>\n",
              "      <th>Sequence (first 50 N-terminal residues)</th>\n",
              "      <th>SP cleavage-site annotation</th>\n",
              "    </tr>\n",
              "  </thead>\n",
              "  <tbody>\n",
              "    <tr>\n",
              "      <th>0</th>\n",
              "      <td>P61916</td>\n",
              "      <td>Homo sapiens (Human)</td>\n",
              "      <td>Metazoa</td>\n",
              "      <td>SP</td>\n",
              "      <td>0</td>\n",
              "      <td>MRFLAATFLLLALSTAAQAEPVQFKDCGSVDGVIKEVNVSPCPTQP...</td>\n",
              "      <td>SSSSSSSSSSSSSSSSSSSNNNNNNNNNNNNNNNNNNNNNNNNNNN...</td>\n",
              "    </tr>\n",
              "    <tr>\n",
              "      <th>1</th>\n",
              "      <td>Q7M3V1</td>\n",
              "      <td>Chelonus sp. nr. curvimaculatus (Parasitic wasp)</td>\n",
              "      <td>Metazoa</td>\n",
              "      <td>SP</td>\n",
              "      <td>0</td>\n",
              "      <td>MAGKEVIFIMALFIAVESSPIFSFDDLVCPSVTSLRVNVEKNECST...</td>\n",
              "      <td>SSSSSSSSSSSSSSSSSSSSNNNNNNNNNNNNNNNNNNNNNNNNNN...</td>\n",
              "    </tr>\n",
              "    <tr>\n",
              "      <th>2</th>\n",
              "      <td>Q08738</td>\n",
              "      <td>Bombyx mori (Silk moth)</td>\n",
              "      <td>Metazoa</td>\n",
              "      <td>SP</td>\n",
              "      <td>0</td>\n",
              "      <td>MRVFLAICLSLTVALAAETGKYTPFQYNRVYSTVSPFVYKPGRYVA...</td>\n",
              "      <td>SSSSSSSSSSSSSSSSNNNNNNNNNNNNNNNNNNNNNNNNNNNNNN...</td>\n",
              "    </tr>\n",
              "    <tr>\n",
              "      <th>3</th>\n",
              "      <td>Q41350</td>\n",
              "      <td>Solanum lycopersicum (Tomato) (Lycopersicon es...</td>\n",
              "      <td>Plants</td>\n",
              "      <td>SP</td>\n",
              "      <td>0</td>\n",
              "      <td>MASSSAKILLPLSLLFTLLSLSQSTNPNFILTLVNNCPYTIWPAIQ...</td>\n",
              "      <td>SSSSSSSSSSSSSSSSSSSSSSSSNNNNNNNNNNNNNNNNNNNNNN...</td>\n",
              "    </tr>\n",
              "    <tr>\n",
              "      <th>4</th>\n",
              "      <td>Q86SE1</td>\n",
              "      <td>Androctonus amoreuxi (African fattail scorpion...</td>\n",
              "      <td>Metazoa</td>\n",
              "      <td>SP</td>\n",
              "      <td>0</td>\n",
              "      <td>MNYLVMISLALLLMIGVESVRDGYIVYPHNCVYHCIPSCDGLCKEN...</td>\n",
              "      <td>SSSSSSSSSSSSSSSSSSSNNNNNNNNNNNNNNNNNNNNNNNNNNN...</td>\n",
              "    </tr>\n",
              "    <tr>\n",
              "      <th>...</th>\n",
              "      <td>...</td>\n",
              "      <td>...</td>\n",
              "      <td>...</td>\n",
              "      <td>...</td>\n",
              "      <td>...</td>\n",
              "      <td>...</td>\n",
              "      <td>...</td>\n",
              "    </tr>\n",
              "    <tr>\n",
              "      <th>1718</th>\n",
              "      <td>P62597</td>\n",
              "      <td>Gallus gallus (Chicken)</td>\n",
              "      <td>Metazoa</td>\n",
              "      <td>NO_SP</td>\n",
              "      <td>4</td>\n",
              "      <td>MPVQVLKIIKGKPETQLPSHLQREDLKHLQTGLDHTNKYFQGIVIL...</td>\n",
              "      <td>NNNNNNNNNNNNNNNNNNNNNNNNNNNNNNNNNNNNNNNNNNNNNN...</td>\n",
              "    </tr>\n",
              "    <tr>\n",
              "      <th>1719</th>\n",
              "      <td>Q7K4M4</td>\n",
              "      <td>Drosophila melanogaster (Fruit fly)</td>\n",
              "      <td>Metazoa</td>\n",
              "      <td>NO_SP</td>\n",
              "      <td>4</td>\n",
              "      <td>MSKFLDMLSGSQCVSLEKCGDVVVSTNDCMIALYCHFCRDLFTQLP...</td>\n",
              "      <td>NNNNNNNNNNNNNNNNNNNNNNNNNNNNNNNNNNNNNNNNNNNNNN...</td>\n",
              "    </tr>\n",
              "    <tr>\n",
              "      <th>1720</th>\n",
              "      <td>Q14146</td>\n",
              "      <td>Homo sapiens (Human)</td>\n",
              "      <td>Metazoa</td>\n",
              "      <td>NO_SP</td>\n",
              "      <td>4</td>\n",
              "      <td>MAAVYSGISLKLKSKTTSWEDKLKLAHFAWISHQCFLPNKEQVLLD...</td>\n",
              "      <td>NNNNNNNNNNNNNNNNNNNNNNNNNNNNNNNNNNNNNNNNNNNNNN...</td>\n",
              "    </tr>\n",
              "    <tr>\n",
              "      <th>1721</th>\n",
              "      <td>B2RWS6</td>\n",
              "      <td>Mus musculus (Mouse)</td>\n",
              "      <td>Metazoa</td>\n",
              "      <td>NO_SP</td>\n",
              "      <td>4</td>\n",
              "      <td>MAENVVEPGPPSAKRPKLSSPALSASASDGTDFGSLFDLEHDLPDE...</td>\n",
              "      <td>NNNNNNNNNNNNNNNNNNNNNNNNNNNNNNNNNNNNNNNNNNNNNN...</td>\n",
              "    </tr>\n",
              "    <tr>\n",
              "      <th>1722</th>\n",
              "      <td>Q9P6R0</td>\n",
              "      <td>Schizosaccharomyces pombe (strain 972 / ATCC 2...</td>\n",
              "      <td>Fungi</td>\n",
              "      <td>NO_SP</td>\n",
              "      <td>4</td>\n",
              "      <td>MGCPNCGSTTFESDTASGNTYCTQCGVVVEQDAIVSEVTFGEASTG...</td>\n",
              "      <td>NNNNNNNNNNNNNNNNNNNNNNNNNNNNNNNNNNNNNNNNNNNNNN...</td>\n",
              "    </tr>\n",
              "  </tbody>\n",
              "</table>\n",
              "<p>1723 rows × 7 columns</p>\n",
              "</div>\n",
              "      <button class=\"colab-df-convert\" onclick=\"convertToInteractive('df-90601509-d71b-456b-93ab-9ac92281cc8f')\"\n",
              "              title=\"Convert this dataframe to an interactive table.\"\n",
              "              style=\"display:none;\">\n",
              "        \n",
              "  <svg xmlns=\"http://www.w3.org/2000/svg\" height=\"24px\"viewBox=\"0 0 24 24\"\n",
              "       width=\"24px\">\n",
              "    <path d=\"M0 0h24v24H0V0z\" fill=\"none\"/>\n",
              "    <path d=\"M18.56 5.44l.94 2.06.94-2.06 2.06-.94-2.06-.94-.94-2.06-.94 2.06-2.06.94zm-11 1L8.5 8.5l.94-2.06 2.06-.94-2.06-.94L8.5 2.5l-.94 2.06-2.06.94zm10 10l.94 2.06.94-2.06 2.06-.94-2.06-.94-.94-2.06-.94 2.06-2.06.94z\"/><path d=\"M17.41 7.96l-1.37-1.37c-.4-.4-.92-.59-1.43-.59-.52 0-1.04.2-1.43.59L10.3 9.45l-7.72 7.72c-.78.78-.78 2.05 0 2.83L4 21.41c.39.39.9.59 1.41.59.51 0 1.02-.2 1.41-.59l7.78-7.78 2.81-2.81c.8-.78.8-2.07 0-2.86zM5.41 20L4 18.59l7.72-7.72 1.47 1.35L5.41 20z\"/>\n",
              "  </svg>\n",
              "      </button>\n",
              "      \n",
              "  <style>\n",
              "    .colab-df-container {\n",
              "      display:flex;\n",
              "      flex-wrap:wrap;\n",
              "      gap: 12px;\n",
              "    }\n",
              "\n",
              "    .colab-df-convert {\n",
              "      background-color: #E8F0FE;\n",
              "      border: none;\n",
              "      border-radius: 50%;\n",
              "      cursor: pointer;\n",
              "      display: none;\n",
              "      fill: #1967D2;\n",
              "      height: 32px;\n",
              "      padding: 0 0 0 0;\n",
              "      width: 32px;\n",
              "    }\n",
              "\n",
              "    .colab-df-convert:hover {\n",
              "      background-color: #E2EBFA;\n",
              "      box-shadow: 0px 1px 2px rgba(60, 64, 67, 0.3), 0px 1px 3px 1px rgba(60, 64, 67, 0.15);\n",
              "      fill: #174EA6;\n",
              "    }\n",
              "\n",
              "    [theme=dark] .colab-df-convert {\n",
              "      background-color: #3B4455;\n",
              "      fill: #D2E3FC;\n",
              "    }\n",
              "\n",
              "    [theme=dark] .colab-df-convert:hover {\n",
              "      background-color: #434B5C;\n",
              "      box-shadow: 0px 1px 3px 1px rgba(0, 0, 0, 0.15);\n",
              "      filter: drop-shadow(0px 1px 2px rgba(0, 0, 0, 0.3));\n",
              "      fill: #FFFFFF;\n",
              "    }\n",
              "  </style>\n",
              "\n",
              "      <script>\n",
              "        const buttonEl =\n",
              "          document.querySelector('#df-90601509-d71b-456b-93ab-9ac92281cc8f button.colab-df-convert');\n",
              "        buttonEl.style.display =\n",
              "          google.colab.kernel.accessAllowed ? 'block' : 'none';\n",
              "\n",
              "        async function convertToInteractive(key) {\n",
              "          const element = document.querySelector('#df-90601509-d71b-456b-93ab-9ac92281cc8f');\n",
              "          const dataTable =\n",
              "            await google.colab.kernel.invokeFunction('convertToInteractive',\n",
              "                                                     [key], {});\n",
              "          if (!dataTable) return;\n",
              "\n",
              "          const docLinkHtml = 'Like what you see? Visit the ' +\n",
              "            '<a target=\"_blank\" href=https://colab.research.google.com/notebooks/data_table.ipynb>data table notebook</a>'\n",
              "            + ' to learn more about interactive tables.';\n",
              "          element.innerHTML = '';\n",
              "          dataTable['output_type'] = 'display_data';\n",
              "          await google.colab.output.renderOutput(dataTable, element);\n",
              "          const docLink = document.createElement('div');\n",
              "          docLink.innerHTML = docLinkHtml;\n",
              "          element.appendChild(docLink);\n",
              "        }\n",
              "      </script>\n",
              "    </div>\n",
              "  </div>\n",
              "  "
            ]
          },
          "metadata": {},
          "execution_count": 295
        }
      ]
    },
    {
      "cell_type": "code",
      "source": [
        "train['Kingdom'].unique()"
      ],
      "metadata": {
        "colab": {
          "base_uri": "https://localhost:8080/"
        },
        "id": "BW_VA-eShpC1",
        "outputId": "820c83e0-16eb-4d6d-c283-0626462c3161"
      },
      "execution_count": 306,
      "outputs": [
        {
          "output_type": "execute_result",
          "data": {
            "text/plain": [
              "array(['Metazoa', 'Plants', 'Fungi', 'Other'], dtype=object)"
            ]
          },
          "metadata": {},
          "execution_count": 306
        }
      ]
    },
    {
      "cell_type": "code",
      "source": [
        "def pie_chart_kingdom(df):\n",
        "  king = df['Kingdom']\n",
        "  king_series = king.value_counts() #obtains the counts of each unique value\n",
        "  king_series = king_series.sort_values(ascending=False) #alternative .nlargest(10)\n",
        "  #king_series_top = king_series_sorted[0:6] #extracting top 6\n",
        "  #king_series_rest = king_series_sorted[7:]\n",
        "  #others_series = pd.Series({'others':king_series_rest.sum()}) #creating a series that containg the sum of the others\n",
        "  #king_series_complete = pd.concat([king_series_top, others_series])\n",
        "  print(king_series)\n",
        "  labels = king_series.index.tolist() #labels\n",
        "  count = king_series.values.tolist() #count for each label\n",
        "  colors = sb.color_palette('bright')[:len(labels)]  #define color palette\n",
        "  plt.pie(count, colors = colors, autopct='%.0f%%')\n",
        "  plt.legend(labels, loc='upper left', bbox_to_anchor=(1,1)) #bbox controls the position of the legend\n",
        "  plt.show()"
      ],
      "metadata": {
        "id": "fg5VdrvFgSwN"
      },
      "execution_count": 301,
      "outputs": []
    },
    {
      "cell_type": "code",
      "source": [
        "pie_chart_kingdom(train)"
      ],
      "metadata": {
        "colab": {
          "base_uri": "https://localhost:8080/",
          "height": 338
        },
        "id": "mZpZ8KMPg2fj",
        "outputId": "dbcdbdca-fc54-4e0a-c417-a9a0632e7daa"
      },
      "execution_count": 302,
      "outputs": [
        {
          "output_type": "stream",
          "name": "stdout",
          "text": [
            "Metazoa    956\n",
            "Fungi      429\n",
            "Plants     314\n",
            "Other       24\n",
            "Name: Kingdom, dtype: int64\n"
          ]
        },
        {
          "output_type": "display_data",
          "data": {
            "text/plain": [
              "<Figure size 432x288 with 1 Axes>"
            ],
            "image/png": "[encoded data removed]"
          },
          "metadata": {}
        }
      ]
    },
    {
      "cell_type": "code",
      "source": [
        "pie_chart_kingdom(bench)"
      ],
      "metadata": {
        "id": "KrD0BMpGiZCL",
        "outputId": "21604a8f-abd9-41d1-872c-a1a7d9dbd230",
        "colab": {
          "base_uri": "https://localhost:8080/",
          "height": 338
        }
      },
      "execution_count": 307,
      "outputs": [
        {
          "output_type": "stream",
          "name": "stdout",
          "text": [
            "Metazoa    3707\n",
            "Plants     1890\n",
            "Fungi      1743\n",
            "Other       116\n",
            "Name: Kingdom, dtype: int64\n"
          ]
        },
        {
          "output_type": "display_data",
          "data": {
            "text/plain": [
              "<Figure size 432x288 with 1 Axes>"
            ],
            "image/png": "[encoded data removed]"
          },
          "metadata": {}
        }
      ]
    },
    {
      "cell_type": "markdown",
      "source": [
        "### 5. Sequence logo of the SP cleavage sites"
      ],
      "metadata": {
        "id": "j2t2dAnewYPj"
      }
    },
    {
      "cell_type": "code",
      "source": [
        "def cleavage_seq(data):\n",
        "  sequence = [seq for seq in data['Sequence (first 50 N-terminal residues)']]\n",
        "  sp = [seq for seq in data['SP cleavage-site annotation']]\n",
        "  seq_list = []\n",
        "  for i in range(len(sequence)):\n",
        "    #cleav_seq = ''\n",
        "    for j in range(len(sequence[i])):\n",
        "      if sp[i][j] == \"S\":\n",
        "        pass\n",
        "      elif sp[i][j-1] == \"S\":\n",
        "        cleav_seq = sequence[i][j-13:j+2]\n",
        "    seq_list.append(cleav_seq)\n",
        "  return seq_list"
      ],
      "metadata": {
        "id": "PEKdLewswcdt"
      },
      "execution_count": 243,
      "outputs": []
    },
    {
      "cell_type": "code",
      "source": [
        "def write_sequences(seq_list, name):\n",
        "  with open(name, 'w') as fh:\n",
        "    for seq in seq_list:\n",
        "      fh.write(seq+'\\n')"
      ],
      "metadata": {
        "id": "Rzc3chjEyp0j"
      },
      "execution_count": 244,
      "outputs": []
    },
    {
      "cell_type": "code",
      "source": [
        "train_seq_list = cleavage_seq(train_sp)"
      ],
      "metadata": {
        "id": "4p0t6i6w1fBR"
      },
      "execution_count": 245,
      "outputs": []
    },
    {
      "cell_type": "code",
      "source": [
        "write_sequences(train_seq_list, 'train_sequences.txt')"
      ],
      "metadata": {
        "id": "LCRinMZ81qF0"
      },
      "execution_count": 246,
      "outputs": []
    },
    {
      "cell_type": "code",
      "source": [
        "bench_seq_list = cleavage_seq(bench_sp)"
      ],
      "metadata": {
        "id": "8ojiG1p44AvR"
      },
      "execution_count": 247,
      "outputs": []
    },
    {
      "cell_type": "code",
      "source": [
        "write_sequences(bench_seq_list, 'bench_sequences.txt')"
      ],
      "metadata": {
        "id": "j0vn9z0cAG68"
      },
      "execution_count": 248,
      "outputs": []
    },
    {
      "cell_type": "code",
      "source": [],
      "metadata": {
        "id": "tu6X3ALLALIx"
      },
      "execution_count": null,
      "outputs": []
    }
  ]
}